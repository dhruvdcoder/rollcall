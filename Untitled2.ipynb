{
 "cells": [
  {
   "cell_type": "code",
   "execution_count": 1,
   "metadata": {},
   "outputs": [],
   "source": [
    "from pymongo import MongoClient"
   ]
  },
  {
   "cell_type": "code",
   "execution_count": 2,
   "metadata": {},
   "outputs": [],
   "source": [
    "client = MongoClient()"
   ]
  },
  {
   "cell_type": "code",
   "execution_count": 3,
   "metadata": {},
   "outputs": [],
   "source": [
    "coll = client.german_rollcall.topics"
   ]
  },
  {
   "cell_type": "code",
   "execution_count": 4,
   "metadata": {},
   "outputs": [
    {
     "name": "stdout",
     "output_type": "stream",
     "text": [
      "{'_id': '1924_28,1.pdf_241_[197.5, 631.612, 408.24, 656.524]_11', 'bbox': [197.5, 631.612, 408.24, 656.524], 'date': {'weekday': 'Donnerstag', 'day': '22', 'month': 'Januar', 'year': '1925'}, 'filename': '1924_28,1.pdf', 'number': '11', 'page': 241, 'topic': 'über den Antrag der Abgeordneten Schultz (Bromberg), Fehrenbach, Dr. Scholz und Genossen — Nr. 387 der Drucksachen —.'}\n",
      "{'_id': '1924_28,1.pdf_371_[192.25, 652.962, 402.93, 677.874]_15', 'bbox': [192.25, 652.962, 402.93, 677.874], 'date': {'weekday': 'Donnerstag', 'day': '5', 'month': 'Februar', 'year': '1925'}, 'filename': '1924_28,1.pdf', 'number': '15', 'page': 371, 'topic': 'über den Änderungsantrag der Abgeordneten Müller (Franken) und Genossen — Nr. 485 Ziffer 1 der Druck\\xad\\nsachen — zur zweiten Beratung des von den Abgeordneten Dr. Wunderlich, Dr. Scheiter, Emminger, Hergt,\\nDr. Abrissen und Genossen eingebrachten Gesetzentwurfs, betreffend Aussetzung des Verfahrens vor Gerichten und Aufwertungsstellen — Nr. 473 der Drucksachen —'}\n",
      "{'_id': '1924_28,1.pdf_446_[193.69, 619.78, 404.398, 644.124]_17', 'bbox': [193.69, 619.78, 404.398, 644.124], 'date': {'weekday': 'Sonnabend', 'day': '7', 'month': 'Februar', 'year': '1925'}, 'filename': '1924_28,1.pdf', 'number': '17', 'page': 446, 'topic': 'infolge Anzweiflung der Beschlußfähigkeit nach H 99 der Geschäftsordnung des Reichstags.'}\n",
      "{'_id': '1924_28,1.pdf_484_[198.0, 629.962, 405.912, 654.874]_19', 'bbox': [198.0, 629.962, 405.912, 654.874], 'date': {'weekday': 'Montag', 'day': '9', 'month': 'Februar', 'year': '1925'}, 'filename': '1924_28,1.pdf', 'number': '19', 'page': 484, 'topic': 'bei der zweiten Beratung des Entwurfs eines Gesetzes über das deutsch-siamesische vorläufige Wirtschaftsabkommen — Nr. 483 der Drucksachen — über Artikel 1.'}\n",
      "{'_id': '1924_28,1.pdf_756_[184.1, 648.99, 413.028, 671.902]_27', 'bbox': [184.1, 648.99, 413.028, 671.902], 'date': {'weekday': 'Mittwoch', 'day': '18', 'month': 'Februar', 'year': '1925'}, 'filename': '1924_28,1.pdf', 'number': '27', 'page': 756, 'topic': '1. über den mündlichen Bericht des 10. Ausschusses (Bevölkerungspolitik) — Nr. 494 der Drucksachen —/\\n2. über den Antrag I). Strathmann und Genossen — Nr. 585 der Drucksachen — bei der Beratung des Antrags der Abgeordneten Müller (Franken) und Genossen, betreffend Vorlegung des Entwurfs eines Schaukstättengcsetzes — Nr 117 der Drucksachen — N a m e 1. 2.\\nAbstimmung N a m e 1. 2.\\nAbstimmung'}\n",
      "{'_id': '1924_28,2.pdf_56_[195.6, 629.012, 405.912, 653.924]_37', 'bbox': [195.6, 629.012, 405.912, 653.924], 'date': {'weekday': 'Mittwoch', 'day': '18', 'month': 'März', 'year': '1925'}, 'filename': '1924_28,2.pdf', 'number': '37', 'page': 56, 'topic': 'über den Artikel 8 der vierten Änderung des Besoldungssperrgesetzes nach den Beschlüssen der Ausschußfassung — Nr. 700 der Drucksachen —'}\n",
      "{'_id': '1924_28,2.pdf_271_[201.35, 638.712, 412.648, 663.624]_46', 'bbox': [201.35, 638.712, 412.648, 663.624], 'date': {'weekday': 'Freitag', 'day': '3', 'month': 'April', 'year': '1925'}, 'filename': '1924_28,2.pdf', 'number': '46', 'page': 271, 'topic': '(Schlußabstimmung) de» Entwurf eines Gesetzes, betreffend den Lehrgang der Grundschule — Nr. 654, 750 der Drucksachen —, über'}\n",
      "{'_id': '1924_28,3.pdf_322_[207.6, 642.312, 418.344, 667.224]_8V', 'bbox': [207.6, 642.312, 418.344, 667.224], 'date': {'weekday': 'Montag', 'day': '22', 'month': 'Juni', 'year': '1925'}, 'filename': '1924_28,3.pdf', 'number': '8V', 'page': 322, 'topic': 'über den Antrag des Abgeordneten Brüninghaus, die Frage einer Vermehrung des Steuerausschnssks von 28 auf 32 Mitglieder dem Ältestenrat zu überweisen.'}\n",
      "{'_id': '1924_28,3.pdf_360_[190.3, 701.946, 415.993, 727.539]_81', 'bbox': [190.3, 701.946, 415.993, 727.539], 'date': {'weekday': 'Dienstag', 'day': '23', 'month': 'Juni', 'year': '1925'}, 'filename': '1924_28,3.pdf', 'number': '81', 'page': 360, 'topic': '1. über den Antrag des 9. Ausschusses (Soziale Angelegenheiten) — Nr. 937 Ziffer 1 der Drucksache» — aus\\nAblehnung des Antrags Müller (Franken) und Genossen, betreffend den Entwurf eines Gesetzes zur Verlängerung\\nder Dauer der Erwerbslosennnterstützung im besetzten Gebiet — Nr. 917 der Drucksachen — 2. über Artikel 1 Ziffer 4 des Entwurfs eines Gesetzes zur Änderung der Pachtschutzordnung vom 9. Zuni 1926 (Reichsgesetzbl. S. 1193) — Nr. 928 der Drucksachen — 3. über die Änderungsanträge Müller (Frauken) und Genossen — Nr. 943 der Drucksachen — und Ronneburg,\\nKoch-Weser und Genossen — Nr. 1037 der Drucksachen — zur zweiten Beratung des vom 11. Ausschuß\\nbeantragten Entwurfs eines Gesetzes zur Änderung der Pachtschutzorduuug — Nr. 928 der Drucksachen —\\n4. über den Änderungsantrag Ronneburg, Koch-Weser und Genossen — Nr. 1037 Ziffer 3 der Drucksachen —\\nzur zweiten Beratung des vom 11. Ausschuß beantragten Entwurfs eines Gesetzes zur Änderung der Bacht-\\nschutzordnnng — Nr. 928 der Drucksachen — 5. über den handschriftlichen Antrag Henning unter 6 zur zweiten Beratung des vom 11. Allsschuß beantragten Entwurfs eines Gesetzes zur Änderung der Bachtschntzordnung — Nr. 928 der Drucksachen —.'}\n",
      "{'_id': '1924_28,3.pdf_492_[188.4, 684.412, 413.652, 709.324]_84', 'bbox': [188.4, 684.412, 413.652, 709.324], 'date': {'weekday': 'Freitag', 'day': '26', 'month': 'Juni', 'year': '1925'}, 'filename': '1924_28,3.pdf', 'number': '84', 'page': 492, 'topic': ''}\n",
      "{'_id': '1924_28,3.pdf_517_[198.5, 611.78, 409.198, 636.124]_85', 'bbox': [198.5, 611.78, 409.198, 636.124], 'date': {'weekday': 'Sonnabend', 'day': '27', 'month': 'Juni', 'year': '1925'}, 'filename': '1924_28,3.pdf', 'number': '85', 'page': 517, 'topic': 'zur Feststellung der Beschlußfähigkeit des Hauses.'}\n",
      "{'_id': '1924_28,3.pdf_557_[186.94, 676.062, 411.62, 700.974]_86', 'bbox': [186.94, 676.062, 411.62, 700.974], 'date': {'weekday': 'Donnerstag', 'day': '2', 'month': 'Juli', 'year': '1925'}, 'filename': '1924_28,3.pdf', 'number': '86', 'page': 557, 'topic': '1. über den handschriftlichen Änderungsantrag v. Graefe (Mecklenburg) und Genossen zur dritten Beratung des\\nvom 11. Ausschuß (Wohnungswesen) beantragten Entwurfs eines Gesetzes zur Änderung der Pachtschutz-\\nvrdnnng vom 9. Juni 1920 — Nr. 928, 1059 der Drucksachen/ 2. über den Änderungsantrag Bachmeier, Domsch (Dresden), Herbert, Westermann, Wilkens und Genossen —\\nNr, 1094 Ziffer 2 der Drucksachen - zur dritten Beratung des von dem I I. Ausschuß (Wohnungswesen)\\nbeantragten Entwurfs eines Gesetzes zur Änderung der Pachtschutzvrdnnng vom 9. Juni 1920 — Nr. 928,\\n1059 der Drucksachen -/ 3. über die Ziffer 7 a der Beschlüsse des Reichstags in zweiter Beratung auf Drucksache Nr. 1059 zu dem vom\\nII. Ausschuß (Wohnungswesen) beantragten Entwurf eines Gesetzes zur Änderung der Pachtschutzordnung\\nvom 9. Juni 1920 — Nr. 928 der Drucksachen —.'}\n",
      "{'_id': '1924_28,3.pdf_607_[195.6, 627.112, 406.344, 652.024]_87', 'bbox': [195.6, 627.112, 406.344, 652.024], 'date': {'weekday': 'Freitag', 'day': '3', 'month': 'Juli', 'year': '1925'}, 'filename': '1924_28,3.pdf', 'number': '87', 'page': 607, 'topic': 'über die Schlußabstimmung über den Entwurf eines Gesetzes zur Änderung des Gesetzes über die Erstattung von Rechtsanwaltsgebühren in Armensachen — Nr. 496, 623, 842 der Drucksachen —.'}\n",
      "{'_id': '1924_28,3.pdf_832_[191.3, 710.362, 415.907, 735.274]_92', 'bbox': [191.3, 710.362, 415.907, 735.274], 'date': {'weekday': 'Sonnabend', 'day': '11', 'month': 'Juli', 'year': '1925'}, 'filename': '1924_28,3.pdf', 'number': '92', 'page': 832, 'topic': '1. über den Änderungsantrag Dr. Best und Genossen — Nr. 1140 Ziffer 1 der Drucksachen — zur zweiten Beratung\\ndes Entwurfs eines Gesetzes über die Aufwertung von Hypotheken und anderen Ansprüchen (Aufwertungsgesetz)\\n— Nr. 804, 1125 der Drucksachen —/ 2. über die Änderungsanträge Keil und Genossen — Nr. 1143 Ziffer 1 der Drucksachen — und I)r. Best und\\nGenossen — Nr. 1140 Ziffer 3 der Drucksachen — zur zweiten Beratung des Entwurfs eines Gesetzes über die\\nAufwertung von Hypotheken und anderen Ansprüchen (Aufwertungsgesetz) — Nr. 804, 1125 der Drucksachen — /\\n3. über den Änderungsantrag Keil und Genossen — Nr. 1143 Ziffer 2b der Drucksachen — zur zweiten Bera\\xad\\ntung des Entwurfs eines Gesetzes über die Aufwertung von Hypotheken und anderen Ansprüchen (Aufwertungs\\xad\\ngesetz) — Nr. 804, 1125 der Drucksachen —/ 4. über den Änderungsantrag Keil und Genossen — Nr. 1143 Ziffer 3 der Drucksachen — zur zweiten Bera\\xad\\ntung des Entwurfs eines Gesetzes über die Aufwertung von Hypotheken und anderen Ansprüchen (Aufwertungs\\xad\\ngesetz) — Nr. 804, 1125 der Drucksachen — 5. über Z 8 Absatz 1 bei der zweiten Beratung des Entwurfs eines Gesetzes über die Aufwertung von Hypotheken und anderen Ansprüchen (Aufwertungsgesetzi — Nr. 804, 1125 der Drucksachen —.'}\n",
      "{'_id': '1924_28,3.pdf_896_[186.0, 686.99, 410.293, 709.902]_93', 'bbox': [186.0, 686.99, 410.293, 709.902], 'date': {'weekday': 'Montag', 'day': '13', 'month': 'Juli', 'year': '1925'}, 'filename': '1924_28,3.pdf', 'number': '93', 'page': 896, 'topic': '1. über die Änderungsanträge Keil und Genossen — Nr. 1143 Ziffer 4 der Drucksachen —, Dr. Best und\\nGenossen — dir. 1140 Ziffer 9 der Drucksachen — und Seifferk — Nr. 1145 Ziffer 2 der Drucksachen —\\nzur zweiten Beratung des Entwurfs eines Gesetzes über die Aufwertung von Hypotheken und anderen An\\xad\\nsprüchen (Aufwerkungsgcsetz) - Nr. 804, 1125 der Drucksachen —/ 2. über den Änderungsantrag Keil und Genossen — Nr. I l43 Ziffer 6 der Drucksachen zur zweiten Beratung\\ndes Entwurfs eines Gesetzes über die Aufwertung von Hypotheken und anderen Ansprüchen (Anfwerknngs-\\ngesetz) — Nr. 804, 1125 der Drucksachen — / 3. über den Änderungsantrag Keil und Genossen — Nr. 1143 Ziffer 9 d der Drucksachen — zur zweiten Be\\xad\\nratung des Entwurfs eines Gesetzes über die Aufwertung von Hypotheken und anderen Ansprüchen (Auf-\\nwertungsgesetz) — Nr. 804, 1125 der Drucksachen —.'}\n",
      "{'_id': '1924_28,3.pdf_953_[189.85, 682.512, 418.817, 707.424]_94', 'bbox': [189.85, 682.512, 418.817, 707.424], 'date': {'weekday': 'Dienstag', 'day': '14', 'month': 'Juli', 'year': '1925'}, 'filename': '1924_28,3.pdf', 'number': '94', 'page': 953, 'topic': ''}\n",
      "{'_id': '1924_28,3.pdf_1003_[187.9, 653.14, 412.528, 676.052]_95', 'bbox': [187.9, 653.14, 412.528, 676.052], 'date': {'weekday': 'Mittwoch', 'day': '15', 'month': 'Juli', 'year': '1925'}, 'filename': '1924_28,3.pdf', 'number': '95', 'page': 1003, 'topic': '1. über dm Änderungsantrag Keil und Genossen — Nr. 1184 Ziffer 1 der Drucksachen — zur dritten Beratung\\ndes Entwurfs eines Gesetzes über die Aufwertung von Hypotheken und anderen Ansprüchen (Aufwertungsgesetz)\\n— Nr. 804, 1125, 1177 der Drucksachen —\\n(Anfwertnngsgesetz) — Nr. 801, 1 125, 1177 der Drucksachen —\\n— Nr. 804, 1125 der Drucksachen — 2. Schlußabstimmung über den Entwurf eines Gesetzes über die Aufwertung von Hypotheken und anderen Ansprüche» 3. über den handschriftlichen Antrag Do. Best und Genossen ans Aussetzung der Verkündung des Anfwertungsgesetzes'}\n",
      "{'_id': '1924_28,3.pdf_1059_[190.3, 669.812, 418.82, 694.724]_96', 'bbox': [190.3, 669.812, 418.82, 694.724], 'date': {'weekday': 'Donnerstag', 'day': '16', 'month': 'Juli', 'year': '1925'}, 'filename': '1924_28,3.pdf', 'number': '96', 'page': 1059, 'topic': '1. über den Änderungsantrag der Abgeordneten Müller (Franken) und Genossen — Nr. 1188 Ziffer 1 der Druck\\xad\\nsachen — zur zweiten Beratung des Entwurfs eines Gesetzes über Ausbau der Angestelltenversicherung —\\nNr. 1072, 1179 der Drucksachen 2. über den Änderungsantrag der Abgeordneten Müller (Franken) und Genossen — Nr. 1188 Ziffer 3 der Druck\\xad\\nsachen — zur zweiten Beratung des Entwurfs eines Gesetzes über Ausbau der Angestelltenversicherung —\\nNr. 1072, 1179 der Drucksachen —/ 3. Schlußabstimmung über den Entwurf eines Gesetzes über die Ablösung öffentlicher Anleihen — Nr. 805, 1150 der Drucksachen —.'}\n",
      "{'_id': '1924_28,3.pdf_1112_[190.3, 699.112, 419.452, 724.024]_97', 'bbox': [190.3, 699.112, 419.452, 724.024], 'date': {'weekday': 'Freitag', 'day': '17', 'month': 'Juli', 'year': '1925'}, 'filename': '1924_28,3.pdf', 'number': '97', 'page': 1112, 'topic': '1. über den Änderungsantrag der Abgeordneten Müller Wanken) und Genossen — Nr. 1138 Ziffer 3e der\\nDrucksachen — und den handschriftlichen Antrag Schuldt (Steglitz) zur zweiten Beratung des Entwurfs\\neines Gesetzes über eine zweite Änderung der Personal-Abbau-Verordnung — Nr. 1050 der Drucksachen —\\n2. über den Änderungsantrag der Abgeordneten Frau Schroeder (Schleswig-Holstein) und Genossen — Nr. 1210\\nder Drucksachen — zur dritten Beratung des von den Abgeordneten Müller (Franken) und Genossen ein\\xad\\ngebrachten Entwurfs eines Gesetzes zur Abänderung des Gesetzes, betreffend Kinderarbeit in gewerblichen\\nBetrieben, vom 30. März 1903 — Nr. 323, 1106 der Drucksachen —'}\n",
      "{'_id': '1924_28,4.pdf_66_[186.94, 668.012, 411.617, 692.924]_98', 'bbox': [186.94, 668.012, 411.617, 692.924], 'date': {'weekday': 'Dienstag', 'day': '21', 'month': 'Juli', 'year': '1925'}, 'filename': '1924_28,4.pdf', 'number': '98', 'page': 66, 'topic': '1. über den Änderungsantrag Roßmann (Württemberg) und Genossen —Nr. 1223 Ziffer 1 der Drucksachen —\\nzur zweiten Beratung des Entwurfs eines dritten Gesetzes zur Abänderung des Reichsversorgungsgesetzes und\\nanderer Versorgungsgesetze — Nr. 1097, 1217 der Drucksachen —- 2. über den Änderungsantrag Roßmann (Württemberg) und Genossen —Nr. 1223 Ziffer 0 der Drucksachen —\\nzur zweiten Beratung des Entwurfs eines dritten Gesetzes zur Abänderung des Reichsversorgungsgesetzes und\\nanderer Versorgungsgesetze — Nr. 1097, 1217 der Drucksachen —- 3. über den Änderungsantrag Roßmann (Württemberg) und Genossen —Nr. 1223 Ziffer 17 der Drucksachen —\\nzur zweiten Beratung des Entwurfs eines dritten Gesetzes zur Abänderung des Reichsversorgungsgesetzes und\\nanderer Versorgungsgesetze — Nr. 1097, 1217 der Drucksachen'}\n",
      "{'_id': '1924_28,4.pdf_151_[188.4, 631.612, 399.144, 656.524]_IVO', 'bbox': [188.4, 631.612, 399.144, 656.524], 'date': {'weekday': 'Donnerstag', 'day': '23', 'month': 'Juli', 'year': '1925'}, 'filename': '1924_28,4.pdf', 'number': 'IVO', 'page': 151, 'topic': 'über den Antrag Graf v. Westarp, Fehrenbach, Dr. Scholz, Leicht nnd Genossen — Nr. 1244 der Drucksachen — betreffend Billigung der Antwortnote'}\n",
      "{'_id': '1924_28,4.pdf_181_[189.35, 669.112, 417.87, 694.024]_101', 'bbox': [189.35, 669.112, 417.87, 694.024], 'date': {'weekday': 'Freitag', 'day': '24', 'month': 'Juli', 'year': '1925'}, 'filename': '1924_28,4.pdf', 'number': '101', 'page': 181, 'topic': '1. über den Änderungsantrag Graf v. Westarp, Fehrenbach, vr. Scholz, Lucke, Leicht und Genossen —\\nNr. 1240 Ziffer 2 der Drucksachen — zur dritten Beratung des Entwurfs eines Gesetzes über eine zweite\\nÄnderung der Personal-Abbau-Berordnung - Nr. 1050, 1133, 1220 der Drucksachen — 2. Schlußabstiminung über den Entwurf eines Gesetzes über eine zweite Änderung der Personal-Abbau. Verordnung — Nr. 1050, 1133, 1220 der Drucksachen —'}\n",
      "{'_id': '1924_28,4.pdf_260_[203.75, 601.44, 414.113, 624.352]_104', 'bbox': [203.75, 601.44, 414.113, 624.352], 'date': {'weekday': 'Montag', 'day': '27', 'month': 'Juli', 'year': '1925'}, 'filename': '1924_28,4.pdf', 'number': '104', 'page': 260, 'topic': 'über die Feststellung der Beschlußfähigkeit des Reichstags vor der Abstimmung über einen Vertagnngsantrag.'}\n",
      "{'_id': '1924_28,4.pdf_316_[186.94, 666.112, 416.542, 691.024]_105', 'bbox': [186.94, 666.112, 416.542, 691.024], 'date': {'weekday': 'Dienstag', 'day': '28', 'month': 'Juli', 'year': '1925'}, 'filename': '1924_28,4.pdf', 'number': '105', 'page': 316, 'topic': '1. über die Änderungsanträge Müller (Franken) — Nr. 1266 Ziffer 4 der Drucksachen — sowie Neubauer, Höllein\\nund Genossen — Nr. 1264 Ziffer 6 der Drucksachen — zur zweiten Beratung des Entwurfs eines Ein\\xad\\nkommensteuergesetzes — Nr. 795, 1229 der Drucksachen — 2. über den Änderungsantrag Müller (Franken) — Nr. 1266 Ziffer 9 der Drucksachen — zur zweiten Be\\xad ratung des Entwurfs eines Einkommensteuergesetzes — Nr. 795, 1229 der Drucksachen — 3. über den Änderungsantrag Neubauer, Höllein und Genossen — Nr. 1264 Ziffer 10 der Drucksachen — und\\nden handschriftlichen Antrag Höllein und Genossen zur zweiten Beratung des Entwurfs eines Einkommen\\xad\\nsteuergesetzes — Nr. 795, 1229 der Drucksachen —'}\n",
      "{'_id': '1924_28,4.pdf_376_[177.69, 649.562, 407.542, 674.474]_106', 'bbox': [177.69, 649.562, 407.542, 674.474], 'date': {'weekday': 'Mittwoch', 'day': '29', 'month': 'Juli', 'year': '1925'}, 'filename': '1924_28,4.pdf', 'number': '106', 'page': 376, 'topic': '1. über den Änderungsantrag Müller (Franken) — Nr. 1266 Ziffer 10 der Drucksachen — zur zweiten Be\\xad ratung des Entwurfs eines Einkommensteuergesetzes — Nr. 795, 1229 der Drucksachen — 2. über den Änderungsantrag Müller (Franken) — Nr. 1266 Ziffer 16 der Drucksachen — zur zweiten Be\\xad ratung des Entwurfs eines Einkommensteuergesetzes — Nr. 795, 1229 der Drucksachen —'}\n",
      "{'_id': '1924_28,4.pdf_432_[194.65, 613.262, 405.394, 638.174]_107', 'bbox': [194.65, 613.262, 405.394, 638.174], 'date': {'weekday': 'Donnerstag', 'day': '30', 'month': 'Juli', 'year': '1925'}, 'filename': '1924_28,4.pdf', 'number': '107', 'page': 432, 'topic': 'über den Änderungsantrag Müller (Franken) — Nr. 1267 Ziffer 4 der Drucksachen — zur zweiten Beratung des Entwurfs eines Körperschaftsteuergesetzes — Nr. 796, 1230 der Drucksachen —'}\n",
      "{'_id': '1924_28,4.pdf_514_[186.6, 699.14, 416.288, 722.052]_1Ü8', 'bbox': [186.6, 699.14, 416.288, 722.052], 'date': {'weekday': 'Freitag', 'day': '31', 'month': 'Juli', 'year': '1925'}, 'filename': '1924_28,4.pdf', 'number': '1Ü8', 'page': 514, 'topic': '1. über den Änderungsantrag Müller (Franken) und Genossen — Nr. 1317 Ziffer 2 der Drucksachen — zur\\nzweiten Beratung des von den Abgeordneten Graf v. Westarp, Fehrenbach, Dr. Scholz, Drewitz (Berlin),\\nLeicht und Genossen eingebrachten Entwurfs eines Gesetzes über die weitere vorläufige Regelung des Reichs\\xad\\nhaushalts für das Rechnungsjahr 1925 — Nr. 1299, 1312 der Drucksachen —, 2. über den Änderungsantrag Müller (Franken) und Genossen — Nr. 1274 Ziffer III der Drucksachen — zur\\nzweiten Beratung des Entwurfs eines Gesetzes über Vermögen- und Erbschaftsteuer — Nr. 798, 1236 der\\nDrucksachen —.'}\n",
      "{'_id': '1924_28,4.pdf_634_[182.15, 710.312, 407.767, 735.224]_110', 'bbox': [182.15, 710.312, 407.767, 735.224], 'date': {'weekday': 'Montag', 'day': '3', 'month': 'August', 'year': '1925'}, 'filename': '1924_28,4.pdf', 'number': '110', 'page': 634, 'topic': \"1. über den Änderungsantrag Müller (Franken) — Nr. 1268 Ziffer 6 der Drucksachen — zur zweiten Beratung\\ndes Entwurfs eines Gesetzes über die Verkehrsteuern und des Verfahrens — Nr. 799, 1238 der Drucksachen —/\\n2. über den Änderungsantrag Müller (Franken) und Genossen — Nr. 1268 Ziffer 5 der Drucksachen (gleich\\xad\\nlautend mit dem Änderungsantrag Höllein und Genossen — Nr. 1300 lila Ziffer 2 der Drucksachen —)\\nzur zweiten Beratung des Entwurfs eines Gesetzes über Änderungen der Verkehrsteuern und des Verfahrens —\\nNr. 799, 1238 der Drucksachen — / 3. über den Änderungsantrag Dr. Fischer (Köln), Schneider (Berlin), Koch-Weser und Genossen — Nr. 1271\\nZiffer 1 zu 5 a der Drucksachen — zur zweiten Beratung des Entwurfs eines Gesetzes zur Änderung der\\nVerkehrsteuern und des Verfahrens — Nr. 799, 1238, 1265 der Drucksachen — 4. über die Änderungsanträge Müller (Franken) — Nr. 1268 Ziffer 8 der Drucksachen — und Höllein und\\nGenossen Nr. 1300 lila Ziffer 5 der Drucksachen -— (Umsatzsteuer der Genossenschaften) zur zweiten Beratung\\ndes Entwurfs eines Gesetzes zur Änderung der Verkehrsteuern und des Verfahrens — Nr. 799, 1238 der\\nDrucksachen —/ 5. über die Änderungsanträge Müller (Franken) — Nr. 1268 Ziffer 10 der Drucksachen — und Höllein,\\nNeubauer und Genossen — Nr. 13001V Ziffer 2 der Drucksachen — zur zweiten Beratung des Entwurfs eines\\nGesetzes zur Änderung der Verkehrsteuern und des Verfahrens — Nr. 799, 1238, 1265 der Drucksachen —/\\n6. über den Änderungsantrag Dr. Fischer (Köln), Schneider (Berlin) — Nr. 13«'41 der Drucksachen — zur\\nzweiten Beratung des Entwurfs eines Gesetzes zur Änderung der Verkehrsteuern und des Verfahrens — Nr. 799,\\n1238, 1265 der Drucksachen —.\"}\n",
      "{'_id': '1924_28,4.pdf_705_[184.1, 677.462, 409.832, 702.374]_111', 'bbox': [184.1, 677.462, 409.832, 702.374], 'date': {'weekday': 'Dienstag', 'day': '4', 'month': 'August', 'year': '1925'}, 'filename': '1924_28,4.pdf', 'number': '111', 'page': 705, 'topic': '1. über den Änderungsantrag v. Graefe (Mecklenburg) und Genossen — Nr. 1339 der Drucksachen — zur zweiten\\nBeratung des von den Abgeordneten Dr. Bensch und Genossen eingebrachten Entwurfs eines Gesetzes über Er\\xad\\nhöhung der Bier- und Tabaksteuer — Nr. 1063, 1261 der Drucksachen —/ 2. über den Änderungsantrag Müller (Franken) und Genossen — Nr. 1280 Ziffer 1 der Drucksachen — zur\\nzweiten Beratung des von den Abgeordneten Dr. Bensch und Genoffen eingebrachten Entwurfs eines Gesetzes\\nüber Erhöhung der Bier- und Tabaksteuer — Nr. 1063, 1261 der Drucksachen —/ 3. über die Änderungsanträge Höllein, Neubauer — Nr. 1334 Ziffer 8 der Drucksachen — und Müller (Franken)\\nund Genoffen — Nr. 1280 Ziffer 5 der Drucksachen — zur zweiten Beratung des von den Abgeordneten\\nDe. Bensch und Genossen eingebrachten Entwurfs eines Gesetzes über Erhöhung der Bier- und Tabaksteuer\\n— Nr. 1063, 1261 der Drucksachen —/ 4. über den handschriftlichen Antrag Dr. Fischer (Köln) ans Aussetzung der Beschlußfassung über das Tabaksteuer\\xad\\ngesetz bei der zweiten Beratung des von den Abgeordneten Dr. Bensch und Genossen eingebrachten Entwurfs\\neines Gesetzes über Erhöhung der Bier- und Tabaksteuer — Nr. 1063, 1261 der Drucksachen —- 5. über den Änderungsantrag Graf v. Westarp, Fehrenbach, Dr. Scholz, Fehr, Leicht und Genossen — Nr. 1314\\nZiffer 3 der Drucksachen — zur zweiten Beratung des von den Abgeordneten Dr. Bensch und Genossen ein\\xad\\ngebrachten Entwurfs eines Gesetzes über Erhöhung der Bier- und Tabaksteuer—Nr. 1063,1261 der Drucksachen—/\\n6. über die Änderungsanträge Dr. Fischer (Köln), Korell — Nr. 1295 Ziffer 2 zu 8 4 Nr. 2 der Drucksachen\\n— und Müller (Franken) — Nr. 1321 Ziffer 1 der Drucksachen — zur zweiten Beratung des Entwurfs eines\\nGesetzes zur Änderung von Verbrauchssteuern — Nr. 968, 1260 der Drucksachen —- 7. über den Änderungsantrag Graf v. Westarp, Fehrenbach, Dr. Scholz, Fehr, Leicht und Genossen —Nr. 1313\\nZiffer 2 der Drucksachen — zur zweiten Beratung des Entwurfs eines Gesetzes zur Änderung von Verbrauchs\\xad\\nsteuern — Nr. 968, 1260 der Drucksachen —/ 8. über die Änderungsanträge Müller (Franken) — 1279 Ziffer 1 der Drucksachen — und Höllein, Neubauer\\nund Genossen — Nr. 1325 Ziffer I I der Drucksachen — zur zweiten Beratung des Entwurfs eines Gesetzes\\nzur Änderung von Verbrauchssteuern — Nr. 968, 1260 der Drucksachen —.'}\n",
      "{'_id': '1924_28,4.pdf_794_[188.4, 722.262, 414.152, 747.174]_112', 'bbox': [188.4, 722.262, 414.152, 747.174], 'date': {'weekday': 'Mittwoch', 'day': '5', 'month': 'August', 'year': '1925'}, 'filename': '1924_28,4.pdf', 'number': '112', 'page': 794, 'topic': \"1. über den Änderungsantrag Dr. Kulenkampff und Genossen — Nr. 1292 Ziffer In der Drucksachen — zur\\nzweiten Beratung des Entwurfs eines Körperschaftsteuergesetzes — Nr. 796, 1230, 1265 der Drucksachen —,'\\n2. über den von dem Abgeordneten vr. Fischer (Köln) wiederaufgenommenen Antrag Dr. Kulenkampff und\\nGenossen — Nr. 1292 Ziffer 2 der Drucksachen — in der zweiten Beratung des Entwurfs eines Körperschaft\\xad\\nsteuergesetzes — Nr. 796, 1230, 1265 der Drucksachen —/ 3. über die Änderungsanträge Müller (Franken) — Nr. 1301 Ziffer 1 der Drucksachen — und Neubauer, Koenen\\nund Genossen — Nr. 1354 Ziffer 7 der Drucksachen — zur zweiten Beratung des Entwurfs eines Gesetzes\\nüber Änderungen des Finanzausgleichs zwischen Reich, Ländern und Gemeinden — Nr. 802, 1269 der Druck\\xad\\nsachen — 4. über den Änderungsantrag Müller (Franken) — Nr. 1301 Ziffer 6 der Drucksachen — zur zweiten Bera\\xad\\ntung des Entwurfs eines Gesetzes über Änderungen des Finanzausgleichs zwischen Reich, Ländern und Ge\\xad\\nmeinden — Nr. 802, 1269 der Drucksachen —/ 5. über den Änderungsantrag Müller (Franken) — Nr. 1301 Ziffer 16 der Drucksachen — zur zweiten Beratung\\ndes Entwurfs eines Gesetzes über Änderungen des Finanzausgleichs zwischen Reich, Ländern und Gemeinden —\\nNr. 802, 1269 der Drucksachen —.\"}\n",
      "{'_id': '1924_28,4.pdf_922_[180.69, 683.582, 404.517, 715.414]_114', 'bbox': [180.69, 683.582, 404.517, 715.414], 'date': {'weekday': 'Freitag', 'day': '7', 'month': 'August', 'year': '1925'}, 'filename': '1924_28,4.pdf', 'number': '114', 'page': 922, 'topic': '1. über den Änderungsantrag Müller (Franken) und Genossen — Nr. 1384 Ziffer 5 der Drucksachen -- zur\\ndritten Beratung des Entwurfs eines Einkommensteuergesetzes — Nr. 795, 1229, 1315 der Drucksachen — /\\n2. über den Änderungsantrag Müller (Franken) und Genossen — Nr. 1384 Ziffer 10 der Drucksachen — zur\\ndritten Beratung des Entwurfs eines Einkommensteuergesetzes - Nr. 795, 1229, 1315 der Drucksachen —/\\n3. über den Änderungsantrag Müller (Franken) und Genossen — Nr. 1384 Ziffer 12 der Drucksachen — zur\\ndritten Beratung des Entwurfs eines Einkommensteuergesetzes — Nr. 795, 1229, 1315 der Drucksachen / 4. Schlußabstimmung über den Entwurf eines Reichsbewertungsgesetzes — Nr. 797,1237, 1340 der Drucksache» -\\n5. über die Änderungsanträge Müller (Franken) und Genossen — Nr. 1387 Ziffer 1 der Drucksachen — und\\nKoenen, Neubauer und Genossen —Nr. >392 zu Artikel 111a Ziffer 2 der Drucksachen — zur dritten Bera\\xad\\ntung des Entwurfs eines Gesetzes zur Änderung der Berkehrsteuern und des Verfahrens — Nr. 799, 1238,\\n1265, 1365 der Drucksachen —/ 6. über Artikel 11 in der Fassung der Beschlüsse dritter Beratung zum Entwurf eines Gesetzes über Änderungen des Finanzausgleichs zwischen Reich, Ländern und Gemeinden — Nr. 802, 1269, 1378 der Drucksachen —\\n6.\\n5.\\n2.\\n1.\\n^\\n3.\\n4.'}\n",
      "{'_id': '1924_28,4.pdf_1074_[196.1, 613.612, 407.362, 638.524]_117', 'bbox': [196.1, 613.612, 407.362, 638.524], 'date': {'weekday': 'Montag', 'day': '10', 'month': 'August', 'year': '1925'}, 'filename': '1924_28,4.pdf', 'number': '117', 'page': 1074, 'topic': 'über die Feststellung der Beschlußfähigkeit des Reichstags vor der Abstimmung über einen Vertagungsantrag'}\n",
      "{'_id': '1924_28,5.pdf_224_[187.9, 686.512, 412.57, 711.424]_127', 'bbox': [187.9, 686.512, 412.57, 711.424], 'date': {'weekday': 'Freitag', 'day': '27', 'month': 'November', 'year': '1925'}, 'filename': '1924_28,5.pdf', 'number': '127', 'page': 224, 'topic': '1. über Artikel 1 in der dritten Beratung des Entwurfs eines Gesetzes über die Verträge von Locarno und den Eintritt Deutschlands in den Völkerbund — Nr. 1515 der Drucksachen — 2. über den Änderungsantrag Graf v. Westarp und Genossen — Nr. 1560 der Drucksachen — (zu Artikel 2)\\nin der dritten Beratung des Entwurfs eines Gesetzes über die Verträge von Locarno und den Eintritt Deutsch\\xad\\nlands in den Völkerbund — Nr. 1515 der Drucksachen — 3. über Artikel 2 in der dritten Beratung des Entwurfs eines Gesetzes über die Verträge von Locarno und den Eintritt Deutschlands in den Völkerbund — Nr. l515 der Drucksachen — 4. über die Schlußabstimmung in der dritten Beratung des Entwurfs eines Gesetzes über die Verträge von Locarno und den Eintritt Deutschlands in den Völkerbund — Nr. 1515 der Drucksachen — 5. über den Antrag v. Gracfe (Mecklenburg) und Genossen — Nr. 1535 der Drucksachen —, betreffend Aus\\xad\\nsetzung der Verkündung des Gesetzes über die Verträge von Locarno und den Eintritt Deutschlands in den\\nVölkerbund — 6. über den Antrag Graf v. Westarp und Genossen — Nr. 1528 der Drucksachen —, betreffend Misstrauens\\xad votum aus Anlaß der zur Locarno- und Völkerbundsrage abgegebenen Erklärungen der Rcichsregicrung\\n6.\\n5.\\n2.\\n1.\\n3.\\n4. 3. 4.\\nAbstimm u n g »'}\n",
      "{'_id': '1924_28,5.pdf_548_[198.0, 645.04, 408.396, 667.952]_139', 'bbox': [198.0, 645.04, 408.396, 667.952], 'date': {'weekday': 'Donnerstag', 'day': '17', 'month': 'Dezember', 'year': '1925'}, 'filename': '1924_28,5.pdf', 'number': '139', 'page': 548, 'topic': 'zur Feststellung der Beschlußfähigkeit des Reichstags vor der.Abstimmung über einen Antrag auf Zurück-\\nVerweisung der Vorlage, betreffend Teilung der Oandesversicherungsanstalk Schlesien usw. — Nr, 1564, 1704 der Drucksachen — an den 9. Ausschuß (Soziale Angelegenheiten),'}\n",
      "{'_id': '1924_28,5.pdf_797_[188.9, 640.362, 400.032, 665.274]_150', 'bbox': [188.9, 640.362, 400.032, 665.274], 'date': {'weekday': 'Donnerstag', 'day': '28', 'month': 'Januar', 'year': '1926'}, 'filename': '1924_28,5.pdf', 'number': '150', 'page': 797, 'topic': 'über den von de» Abgeordneten Fehrenbach, Dr. Scholz, Koch-Weser, Leicht und Genoffen eingebrachten Vertrauensantrag — Nr. 1799 der Drucksachen —'}\n",
      "{'_id': '1924_28,5.pdf_872_[193.19, 652.162, 403.43, 677.074]_153', 'bbox': [193.19, 652.162, 403.43, 677.074], 'date': {'weekday': 'Donnerstag', 'day': '4', 'month': 'Februar', 'year': '1926'}, 'filename': '1924_28,5.pdf', 'number': '153', 'page': 872, 'topic': 'über die Entschließung Schulte (Breslau) und Genossen zur zweiten Beratung des Entwurfs eines Gesetzes zur Vereinfachung des Militärstrafrechts auf Nr. 8l1, 1639 der Drucksachen —Nr. 1821 der Drucksachen —'}\n",
      "{'_id': '1924_28,6.pdf_295_[194.15, 648.462, 406.269, 673.374]_168', 'bbox': [194.15, 648.462, 406.269, 673.374], 'date': {'weekday': 'Dienstag', 'day': '2', 'month': 'März', 'year': '1926'}, 'filename': '1924_28,6.pdf', 'number': '168', 'page': 295, 'topic': 'über den Antrag der Abgeordneten v. Graefe (Mecklenburg) und Genossen auf Herbcirufung des Reichsministers des Auswärtigen.'}\n",
      "{'_id': '1924_28,6.pdf_763_[186.0, 660.912, 397.298, 685.824]_17S', 'bbox': [186.0, 660.912, 397.298, 685.824], 'date': {'weekday': 'Donnerstag', 'day': '18', 'month': 'März', 'year': '1926'}, 'filename': '1924_28,6.pdf', 'number': '17S', 'page': 763, 'topic': 'über den Mißtrauensantrag der Abgeordneten Graf v. Westarp und Genossen — Nr. 2051 der Drucksachen —'}\n",
      "{'_id': '1924_28,6.pdf_865_[193.19, 643.63, 404.398, 667.974]_182', 'bbox': [193.19, 643.63, 404.398, 667.974], 'date': {'weekday': 'Sonnabend', 'day': '29', 'month': 'März', 'year': '1926'}, 'filename': '1924_28,6.pdf', 'number': '182', 'page': 865, 'topic': 'und Genossen — Nr. 1860 der Drucksachen — N ame Abstimmung'}\n",
      "{'_id': '1924_28,6.pdf_996_[186.0, 653.212, 411.122, 678.124]_184', 'bbox': [186.0, 653.212, 411.122, 678.124], 'date': {'weekday': 'Dienstag', 'day': '23', 'month': 'März', 'year': '1926'}, 'filename': '1924_28,6.pdf', 'number': '184', 'page': 996, 'topic': '1. über den Mißtrauensantrag Graf v. Westarp, Schultz (Bromberg), Hergt, Wallraf, Schiele und Genossen — Nr. 2119 der Drucksachen —- 2. über den handschriftlichen Antrag v. Guerard und Fraktion, Koch-Weser und Fraktion, Leicht und Fraktion\\nauf Übergang zur Tagesordnung über den Antrag v. Graefe (Mecklenburg) und Genossen — Nr. 2112 der\\nDrucksachen —- Z. über den handschriftlichen Zusatzantrag I). Dr. Dr. Bredt und Genossen zu dem Billigungsantrag v. Gusrard, vr. Scholz, Koch-Weser, Leicht und Genossen — Nr. 2113 der Drucksachen — für die Reichsregierung.'}\n",
      "{'_id': '1924_28,7.pdf_162_[186.5, 673.896, 411.556, 699.489]_188', 'bbox': [186.5, 673.896, 411.556, 699.489], 'date': {'weekday': 'Sonnabend', 'day': '27', 'month': 'März', 'year': '1926'}, 'filename': '1924_28,7.pdf', 'number': '188', 'page': 162, 'topic': '1. über den durch den handschriftlichen Zusatzantrag Diener veränderten Antrag v. Guörard, Dr. Scholz,\\nLeicht und Genossen — Nr. 2194 der Drucksachen — zur dritten Beratung des Entwurfs eines Gesetzes\\nüber die Feststellung des Reichshaushaltsplans für das Rechnungsjahr 1926 — Nr. 1731, 2155 der Druck\\xad\\nsachen — zum Haushalt des Reichsministeriums für Ernährung und Landwirtschaft (Anlage X), 2. über den Änderungsantrag Graf v. Westarp und Genossen — Nr. 2191 Ziffer I der Drucksachen — zur\\nzweiten Beratung des Gesetzentwurfs über Steuermilderungen zur Erleichterung der Wirtschaftslage —\\nNr. 1992, 2187 der Drucksachen —, 3. über den Änderungsantrag Stoecker und Genossen zur zweiten Beratung des Entwurfs eines Gesetzes über\\nSteuermilderungen zur Erleichterung der Wirtschaftslage — Nr. 2189 Ziffer In der Drucksachen — (Herab\\xad\\nsetzung der Umsatzsteuer auf 0,5 vom Hundert).'}\n",
      "{'_id': '1924_28,7.pdf_270_[199.44, 672.412, 410.184, 697.324]_192', 'bbox': [199.44, 672.412, 410.184, 697.324], 'date': {'weekday': 'Freitag', 'day': '30', 'month': 'April', 'year': '1926'}, 'filename': '1924_28,7.pdf', 'number': '192', 'page': 270, 'topic': 'über die durch die Annahme des Änderungsantrags der Abgeordneten Frau Schott und Genossen — Nr. 2069\\nder Drucksachen — veränderte Entschließung der Abgeordneten Dr. Runkel, Frau Dr. Matz und Genossen zur . zweiten Beratung des Haushalts des Reichsministeriums des Innern für das Rechnungsjahr 1926 — Nr. 2053 der Drucksachen —'}\n",
      "{'_id': '1924_28,7.pdf_320_[182.65, 673.512, 412.702, 698.424]_194', 'bbox': [182.65, 673.512, 412.702, 698.424], 'date': {'weekday': 'Mittwoch', 'day': '5', 'month': 'Mai', 'year': '1926'}, 'filename': '1924_28,7.pdf', 'number': '194', 'page': 320, 'topic': '!. über die Aufrechterhaltung der Worte: \"im Sinne des Entwurfs des Ständigen Beirats für Heimstätten-\\nwesen beim Reichsarbeitsministerium^ in den: Ansschußantrag — Nr. 1697 Ziffer 1 der Drucksachen — 2. über, den Antrag des 11. Ausschusses (Wohnungswesen) Nr. 1697 Ziffer 1 der Drucksachen --'}\n",
      "{'_id': '1924_28,7.pdf_345_[179.3, 685.612, 408.27, 710.524]_195', 'bbox': [179.3, 685.612, 408.27, 710.524], 'date': {'weekday': 'Donnerstag', 'day': '6', 'month': 'Mai', 'year': '1926'}, 'filename': '1924_28,7.pdf', 'number': '195', 'page': 345, 'topic': \", 1. über den Änderungsantrag v. Gm'rard und Genossen zur zweiten Beratung des Gesetzentwurfs über die Ent\\xad eignung der Fürsteuvermögen — Nr. 2236 der Drucksache» —, 2. über Artikel 1 des Gesetzentwurfs über die Enteignung der Fürstenvermögen — Nr. 2229 Anlage 1 der Drucksachen —.\"}\n",
      "{'_id': '1924_28,7.pdf_372_[198.94, 652.43, 409.7, 679.37]_196', 'bbox': [198.94, 652.43, 409.7, 679.37], 'date': {'weekday': 'Freitag', 'day': '7', 'month': 'Mai', 'year': '1926'}, 'filename': '1924_28,7.pdf', 'number': '196', 'page': 372, 'topic': 'über den Gesetzentwurf zur Abänderung des Strafgesetzbuchs in der Aussebußfassuug — Air. 1988 l der Drucksachen - in zweiter Beratung'}\n",
      "{'_id': '1924_28,7.pdf_406_[194.65, 655.262, 405.948, 680.174]_197', 'bbox': [194.65, 655.262, 405.948, 680.174], 'date': {'weekday': 'Sonnabend', 'day': '8', 'month': 'Mai', 'year': '1926'}, 'filename': '1924_28,7.pdf', 'number': '197', 'page': 406, 'topic': 'über den Entwurf eines Gesetzes über die Feststellung eines Nachtrags zum Reichshaushaltsplan für das Rechnungsjahr 1925 — Nr. 2092 Seite 4 der Drucksachen —'}\n",
      "{'_id': '1924_28,7.pdf_484_[193.19, 657.562, 404.488, 682.474]_199', 'bbox': [193.19, 657.562, 404.488, 682.474], 'date': {'weekday': 'Dienstag', 'day': '11', 'month': 'Mai', 'year': '1926'}, 'filename': '1924_28,7.pdf', 'number': '199', 'page': 484, 'topic': 'über den Änderungsantrag Müller (Franken) und Genossen — Nr. 2250 der Drucksachen — zum Mündlichen Bericht\\ndes 5. Ausschusses (Neichshaushalt) — Nr. 2243 der Drucksachen — über Anträge und Entschließungen, betreffend Alkohvlismus, Gemeindebestiimnnngsrecht usw. auf Nr. 999 Ulk, 1041, 1044 der Drucksachen.'}\n",
      "{'_id': '1924_28,7.pdf_518_[184.1, 666.812, 409.832, 691.724]_200', 'bbox': [184.1, 666.812, 409.832, 691.724], 'date': {'weekday': 'Mittwoch', 'day': '12', 'month': 'Mai', 'year': '1926'}, 'filename': '1924_28,7.pdf', 'number': '200', 'page': 518, 'topic': '1. über den Misstranensantrag der Abgeordneten v. Graefe Mecklenburg) und Genossen wegen der Gegenzeich\\xad\\nnung der Ilaggenverordnnng durch den Reichskanzler — Nr. 2277 der Drucksachen — ohne den letzten Satz?\\n2. über den Misstrauensantrag der Abgeordneten v. Graefe (Mecklenburg) nnd Genossen wegen der Gegenzeich\\xad\\nnung der Ilaggenverordnnng durch den Reichskanzler - Nr. 2277 der Drucksachen — unter Streichung\\ndes Wortes »deshalb«? 2. über den Mißtrauensantrag Müller (Franken) und Genossen gegen de» Reichskanzler wegen seines Perhaltens in der Flaggcnfrage — Nr. 2209 der Drucksachen - ? 4. über den Antrag Koch-Weser nnd Genossen — Nr. 2284 Ziffer 2 der Drucksachen —, betreffend Missbilligung der Haltung des Reichskanzlers in der Flaggenfrage.'}\n",
      "{'_id': '1924_28,7.pdf_713_[186.0, 670.512, 416.042, 695.424]_209', 'bbox': [186.0, 670.512, 416.042, 695.424], 'date': {'weekday': 'Mittwoch', 'day': '9', 'month': 'Juni', 'year': '1926'}, 'filename': '1924_28,7.pdf', 'number': '209', 'page': 713, 'topic': '1. über de» Änderungsantrag Hoch und Genossen — Nr. 2605 Ziffer 3 der Drucksachen zur zweiten Be\\xad\\nratung des Entwurfs eines Gesetzes über Abänderung des Reichsknappschaftsgesetzes — Nr. 1246, 2301\\nder Drucksachen —/ 2. über den Änderungsantrag 1). Mumm und Genossen — Nr. 2341 der Drucksachen zur zweiten Beratung\\ndes Entwurfs eines Gesetzes über Abänderung des Reichsknappschaftsgesetzes — Nr. 1246, 2301 der\\nDrucksachen —/ 3. über den Änderungsantrag Hoch und Genossen — Nr. 2305 Ziffer 5 zweiter Teil der Drucksachen — zur\\nzweiten Beratung des Entwurfs eines Gesetzes übet Abänderung des Reichsknappschaftsgesetzes — Nr. 1246,\\n2301 der Drucksachen —. Nam 2. 3. Abstimmung'}\n",
      "{'_id': '1924_28,7.pdf_748_[194.15, 662.862, 404.962, 687.774]_210', 'bbox': [194.15, 662.862, 404.962, 687.774], 'date': {'weekday': 'Donnerstag', 'day': '10', 'month': 'Juni', 'year': '1926'}, 'filename': '1924_28,7.pdf', 'number': '210', 'page': 748, 'topic': 'über den Änderungsantrag Dr. Moldcuhauer, Dr. Scholz und Genossen — Nr. 2319 Ziffer l der Drucksachen —\\nzur zweiten Beratung des Entwurfs eines Gesetzes über Abänderung des Reichsknappschaftsgesetzes — Nr. 1240, 230t der Drucksachen —.'}\n",
      "{'_id': '1924_28,7.pdf_822_[198.0, 648.38, 409.188, 672.724]_214', 'bbox': [198.0, 648.38, 409.188, 672.724], 'date': {'weekday': 'Dienstag', 'day': '22', 'month': 'Juni', 'year': '1926'}, 'filename': '1924_28,7.pdf', 'number': '214', 'page': 822, 'topic': 'Schlußabstimmung über den Entwurf eines Gesetzes zur Abänderung des Reichsknappschaftsgesetzes — Nr. 1246, 2362 der Drucksachen —'}\n",
      "{'_id': '1924_28,7.pdf_853_[191.65, 713.29, 420.734, 736.202]_215', 'bbox': [191.65, 713.29, 420.734, 736.202], 'date': {'weekday': 'Mittwoch', 'day': '23', 'month': 'Juni', 'year': '1926'}, 'filename': '1924_28,7.pdf', 'number': '215', 'page': 853, 'topic': '1. über Artikel 1 des Entwurfs eines Gesetzes über die Vereinbarungen zwischen dem Deutschen Reiche und dem\\nKönigreiche Dänemark über Zollerleichterungen für dänische Erzeugnisse und Behandlung deutscher Handlungs-\\nreisender in Dänemark — Nr. 2240 der Drucksachen —, 2. über Ziffer 1 des Änderungsantrags der Abgeordneten grau Schroeder (Schleswig-Holstein) und Genoffen\\n— Nr. 2408 der Drucksachen — zur dritten Beratung des Entwurfs eines Gesetzes zur Änderung der Reichs\\xad\\nversicherungsordnung und des Angestelltenversicherungsgesetzes — Nr. 2292, 2353, 2407 der Drucksachen .'}\n",
      "{'_id': '1924_28,7.pdf_957_[198.94, 665.28, 408.689, 689.624]_219', 'bbox': [198.94, 665.28, 408.689, 689.624], 'date': {'weekday': 'Montag', 'day': '28', 'month': 'Juni', 'year': '1926'}, 'filename': '1924_28,7.pdf', 'number': '219', 'page': 957, 'topic': 'über den Zweite» Mündlichen Bericht des 13. Ausschusses (Rechtspflege) — Nr. 2413 Ziffer I der Drucksachen —\\nzu dein von den Abgeordneten Dr. Frick und Genossen eingebrachten Entwurf eines Gesetzes zur Aufhebung des Gesetzes zum Schutze der Republik — Nr. 2172 der Drucksachen —.'}\n",
      "{'_id': '1924_28,7.pdf_997_[199.44, 667.762, 410.184, 692.674]_220', 'bbox': [199.44, 667.762, 410.184, 692.674], 'date': {'weekday': 'Dienstag', 'day': '29', 'month': 'Juni', 'year': '1926'}, 'filename': '1924_28,7.pdf', 'number': '220', 'page': 997, 'topic': 'über den Änderungsantrag der Abgeordneten Dr. Barth, Graf v. Westarp und Genoffen — Nr. 2484 Ziffer 3 der\\nDrucksachen — zur zweiten Beratung des Entwurfs eines Gesetzes über die vermögensrechtliche Auseinandersetzung\\nzwischen den deutschen Ländern und den vormals regierenden Fürstenhäusern — Nr. 2324, 2465 der Drucksachen —'}\n",
      "{'_id': '1924_28,7.pdf_1095_[198.5, 668.912, 409.252, 693.824]_222', 'bbox': [198.5, 668.912, 409.252, 693.824], 'date': {'weekday': 'Donnerstag', 'day': '1', 'month': 'Juli', 'year': '1926'}, 'filename': '1924_28,7.pdf', 'number': '222', 'page': 1095, 'topic': 'über den Änderungsantrag Müller (Franken) und Genossen — Nr. 2491 der Drucksachen — zum Mündlichen\\nBericht des 22. Ausschusses (Entschädignngsgesetze) und des 5. Ausschusses (Neichshaushalt) über Bereitstellung von Mitteln zur Bewilligung von Wiederaufbaudarlehen — Nr. 2459 der Drucksachen —.'}\n",
      "{'_id': '1924_28,8.pdf_102_[185.5, 685.512, 415.907, 710.424]_229', 'bbox': [185.5, 685.512, 415.907, 710.424], 'date': {'weekday': 'Montag', 'day': '8', 'month': 'November', 'year': '1926'}, 'filename': '1924_28,8.pdf', 'number': '229', 'page': 102, 'topic': '1. über Ziffer 1 des Änderungsantrags der Abgeordneten Müller (Franken) und Genoffen — Nr. 2617 der\\nDrucksachen — zum Mündlichen Bericht des 9. Ausschusses (Soziale Angelegenheiten) über Erwerbslosen\\xad\\nfürsorge — Nr. 2613 (Berichtigt) der Drucksachen — 2. über die Frage der Beschlußfähigkeit vor der Abstimmung über den Antrag der Abgeordneten Müller (Franken) und Genossen — Nr. 2617 Ziffer 2 der Drucksachen —'}\n",
      "{'_id': '1924_28,8.pdf_423_[186.94, 696.99, 416.024, 719.902]_241', 'bbox': [186.94, 696.99, 416.024, 719.902], 'date': {'weekday': 'Montag', 'day': '29', 'month': 'November', 'year': '1926'}, 'filename': '1924_28,8.pdf', 'number': '241', 'page': 423, 'topic': '1. über Ziffer 2 des Änderungsantrags der Abgeordneten Dr. Henß und Genossen — Nr. 2680 der Druck\\xad\\nsachen — zur zweiten Beratung des Entwurfs eines Gesetzes zur Bewahrung der Jugend vor Schund- und\\nSchmntzschriften — Nr. 1461, 2372 der Drucksachen — 2. über Ziffer 3 des Änderungsantrags der Abgeordnete» Dr. Henß und Genossen — Nr. 2680 der Druck\\xad\\nsachen — zur zweiten Beratung des Entwurfs eines Gesetzes zur Bewahrung der Jugend vor Schund- und\\nSchmutzschriften - Nr. 1461, 2372 der Drucksachen —'}\n",
      "{'_id': '1924_28,8.pdf_533_[191.3, 603.262, 415.907, 628.174]_245', 'bbox': [191.3, 603.262, 415.907, 628.174], 'date': {'weekday': 'Freitag', 'day': '3', 'month': 'Dezember', 'year': '1926'}, 'filename': '1924_28,8.pdf', 'number': '245', 'page': 533, 'topic': 'bei der dritten Beratung des Entwurfs eines Gesetzes zur Bewahrung der Jugend vor Schund- und Schmutzschriften - Nr. 1461, 2372, 2734 der Drucksachen — 1. über § 1/\\n2. über den von den Abgeordneten Bickes und Genossen auf Nr. 2761 Ziffer 1 der Drucksachen beantragten Z 2/\\n3. über den handschriftlichen Antrag Müller (Franken), Schreck und Genossen zu dem Änderungsantrag Bickes und Genossen auf Nr. 2761 Ziffer 2 der Drucksachen/ 4. über den Änderungsantrag Müller (Franken) und Genossen ans Nr. 2756 Ziffer 7 der Drucksachen/\\n5. (Schlußabstimmung). Nein Nein\\nSozialdemokratische Partei\\n2a\\n3a\\nNein Nein\\nNein Nein! Ja\\nJa\\nNein Nein\\n3a\\nNein Nein\\nNein — 3«\\n3a\\nNein Nein\\n3a\\nNein Nein\\n3a\\nNein Nein\\n3a\\nNein Nein\\n3a\\nNein Nein\\n3«\\n— Nein\\n3a\\nNein Nein\\n3a\\nNein i Nein\\n3a\\nNein Nein\\n3«\\nNein! Nein\\n3«\\nNein Nein\\n3«\\nNein Nein\\nNein Nein ^ 3a\\n3«\\nNein Nein\\n3a\\nNein Nein\\n3«\\nNein Nein\\n3a\\nNein Nein\\nNein Nein\\n3«\\nNein Nein\\n3« Frau Agnes............\\nFrau Ansorge........\\nFrau Arning..........\\nAufhäuser .............\\nBader.....................\\nBecker (Herborn) ...\\nBender .................\\nBernstein...............\\nBiedermann............\\nBiester...................\\nBock......................\\nFrau Bohm-Schuch..\\nBraun (Düsseldorf) .\\nDr. Braun (Franken)\\nDr. Breitscheid........\\nBrey .....................\\nBuchwitz.................\\nBülow...................\\nCrispien.................\\nOr. David.............\\nDietrich (Thüringen)\\nDittmann .............\\nEggerstedt .............\\nFeldmann .............\\nFerl.......................\\nMeißner ...............\\nFrölich...................\\nGeck (Mannheim) ..\\nGiebel ...................\\nGraßmann ............\\nGrothewohl...........\\nHeimann ............... Nein Nein\\nNein Nein\\nNein Nein\\nNein Nein\\nNein Nein 3a\\n3« 3«\\n3a 3a Nein\\n3« Nein\\n3a Nein\\n3a Nein\\nFa Nein\\n3a , Nein\\n3a Nein\\n3« Nein\\n3« Nein i\\n3« Nein !\\n3« Nein ,\\n3«\\n3a Nein\\n3« Nein\\n3« Nein\\n3« Nein !\\n3a Nein\\n3a Nein !\\n3« z Nein !\\n3a ! Nein !\\nJa Nein\\n3a Nein\\n3a Nein\\n3« Nein\\n3« Nein Stein\\n3a\\n3« Nein\\n! Nein\\n3« ! Nein\\n3« ^ Nein ^'}\n",
      "{'_id': '1924_28,8.pdf_647_[188.4, 636.162, 412.57, 661.074]_249', 'bbox': [188.4, 636.162, 412.57, 661.074], 'date': {'weekday': 'Montag', 'day': '13', 'month': 'Dezember', 'year': '1926'}, 'filename': '1924_28,8.pdf', 'number': '249', 'page': 647, 'topic': 'bei der zweiten Beratung des Entwurfs eines Arbeitsgerichtsgesetzes — Nr. 2065, 2795 ber Drucksachen —\\n1. über Ziffer 1 der Änderungsanträge der Abgeordneten Graf <. Westarp, Dr. Nademacher und Genossen 2. über Ziffer 6 der Änderungsanträge der Abgeordneten Graf v. Westarp, Dr. Rademacher und Genossen — Nr. 2808 der Drucksachen — — dir. 2808 der Drucksachen - - 8. über die gleichlautenden Änderungsanträge Niesebcrg und Genossen —Nr. 2796 Ziffer 8 der Drucksachen — und Beier (Dresden) und Genossen — Nr. 2799 Ziffer 8 der Drucksache» — 4. über Ziffer 2 a und b des Änderungsantrags der Abgeordneten Esser, Havemann, Bartschat, Loibl und Genossen — Nr. 2822 der Drucksachen — 5. (Schlnßabstinnnnng).'}\n",
      "{'_id': '1924_28,8.pdf_796_[195.6, 660.562, 406.862, 685.474]_253', 'bbox': [195.6, 660.562, 406.862, 685.474], 'date': {'weekday': 'Freitag', 'day': '17', 'month': 'Dezember', 'year': '1926'}, 'filename': '1924_28,8.pdf', 'number': '253', 'page': 796, 'topic': 'über den Mißtrauensantrag der Abgeordneten Müller (Franken) und Genoffen — Nr. 2874 der Drucksachen —'}\n",
      "{'_id': '1924_28,8.pdf_1032_[186.0, 663.312, 415.582, 688.224]_264', 'bbox': [186.0, 663.312, 415.582, 688.224], 'date': {'weekday': 'Sonnabend', 'day': '5', 'month': 'Februar', 'year': '1927'}, 'filename': '1924_28,8.pdf', 'number': '264', 'page': 1032, 'topic': '1. über den Antrag der Abgeordneten Graf v. Westarp, v. Guörard, Oe. Scholz, Leicht und Genossen, betreffend Vertrauensvotum für die Reichsregicrung — Nr. 2958 der Drucksachen — 2. über den Antrag der Abgeordneten Stoecker und Genossen, betreffend Austritt aus dcni Völkerbund — Nr. 2953 der Druchsachen —'}\n",
      "{'_id': '1924_28,9.pdf_114_[190.8, 673.34, 419.728, 696.252]_269', 'bbox': [190.8, 673.34, 419.728, 696.252], 'date': {'weekday': 'Freitag', 'day': '11', 'month': 'Februar', 'year': '1927'}, 'filename': '1924_28,9.pdf', 'number': '269', 'page': 114, 'topic': '1. über den Mißtranenscrntrag der Abgeordneten Koch-Weser und Genossen gegen den Reichsinnenminister Dr. v. Keudcll — Nr. 2982 oer Drucksachen —, 2. über die Mißtrancnsanträge der Abgeordneten Müller (Franken) und Genossen — Nr. 2979 der Druck\\xad\\nsachen — und Thälmann, Stoecker und Genossen — dir. 2962 der Drucksachen — gegen den Reichs\\xad\\ninnenminister Dr. v. Keudell. N aine 1. 2. Abstimmung'}\n",
      "{'_id': '1924_28,9.pdf_701_[195.1, 635.08, 405.848, 659.424]_286', 'bbox': [195.1, 635.08, 405.848, 659.424], 'date': {'weekday': 'Mittwoch', 'day': '16', 'month': 'März', 'year': '1927'}, 'filename': '1924_28,9.pdf', 'number': '286', 'page': 701, 'topic': 'zur Feststellung der Beschlußfähigkeit des Reichstags.'}\n",
      "{'_id': '1924_28,10.pdf_325_[183.6, 701.412, 412.702, 726.324]_303', 'bbox': [183.6, 701.412, 412.702, 726.324], 'date': {'weekday': 'Freitag', 'day': '1', 'month': 'April', 'year': '1'}, 'filename': '1924_28,10.pdf', 'number': '303', 'page': 325, 'topic': '1. über den Antrag vr. Hertz, den Entwurf eines Gesetzes zur Änderung der Gesetze über den Eintritt der Frei-\\nstauten Württemberg, Bayern und Baden in die Biersteuergemeinschaft — Nr. 3094 der Drucksachen — an\\nden Steuerausschuß zurückzuverweisen/ 2. über Ziffer 1 des Änderungsantrags der Abgeordneten Dr. Fischer (Köln), Schneider (Berlin), Dietrich (Baden),\\nRonneburg, Koch-Weser — Nr. 3243 der Drucksachen — zur zweiten Beratung des Entwurfs eines Gesetzes\\nzur llbergangsregelung des Finanzausgleichs zwischen Reich, Ländern und Gemeinden — Nr. 2883, 3207\\nder Drucksachen —/ 3. über die Änderungsanträge der Abgeordneten Müller (Franken) und Genossen — Nr. 3252 der Drucksachen —\\nund Nolte und Genossen — Nr. 3240 Ziffer l der Drucksachen — zur zweiten Beratung des Entwurfs\\neines Gesetzes zur Übergangsregelung des Finanzausgleichs zwischen Reich, Ländern und Gemeinden\\n— Nr. 2883, 3207 der Drucksachen —.'}\n",
      "{'_id': '1924_28,10.pdf_397_[186.0, 686.062, 396.744, 710.974]_3V4', 'bbox': [186.0, 686.062, 396.744, 710.974], 'date': {'weekday': 'Sonnabend', 'day': '2', 'month': 'April', 'year': '1'}, 'filename': '1924_28,10.pdf', 'number': '3V4', 'page': 397, 'topic': 'über den Entwurf eines Gesetzes zur Änderung der Gesetze über den Eintritt der Freistaaten Württemberg, Bayern und Baden in die Biersteuergemeinschaft — Nr. 3094 der Drucksachen —. (Schlußabstimmung.)'}\n",
      "{'_id': '1924_28,10.pdf_549_[190.8, 711.162, 416.542, 736.074]_306', 'bbox': [190.8, 711.162, 416.542, 736.074], 'date': {'weekday': 'Dienstag', 'day': '5', 'month': 'April', 'year': '1'}, 'filename': '1924_28,10.pdf', 'number': '306', 'page': 549, 'topic': '1. über den Andemngsantrag der Abgeordneten Schultz (Bromberg), v. Gusrard, Kempkes, Leicht und Genossen\\n— Nr. 3286 Ziffer 3d der Drucksachen — zur dritten Beratung des Entwurfs eines Gesetzes über die\\nFeststellung des Reichshaushaltsplans für das Rechnungsjahr 1927 (Haushalt des Reichsministeriums des\\nInnern) — Nr. 2888, 3279 der Drucksachen — 2. über den Änderungsantrag der Abgeordneten Schultz (Bromberg), v. Guerard, Kempkes, Leicht und Genossen\\n— Nr. 3286 Ziffer 36 der Drucksachen — zur dritten Beratung des Entwurfs eines Gesetzes über die\\nFeststellung des Reichshaushaltsplans für das Rechnungsjahr 1927 (Haushalt des Reichsministeriums des\\nInnern) — Nr. 2888, 3279 der Drucksachen — 3. über den handschriftlichen Antrag der Abgeordneten Müller (Franken) und Genossen zur dritten Beratung\\ndes Entwurfs eines Gesetzes über die Feststellung des Reichshaushaltsplans für das Rechnungsjahr 1927 zu\\nKapitel v 3 Titel 4 u (neu) des Haushalts des Reichsmiuisteriums für Ernährung und Landwirtschaft (betreffend\\nKinderspeisung) - Nr. 2888, 3279 der Drucksachen — 4. über Artikel 1 Ziffer 2 zur zweiten Beratung des Entwurfs eines Gesetzes zur Abänderung des Reichs- versvrgungsgesetzes — Nr. 3197 der Drucksachen — 5. über den Antrag ^ des Mündlichen Berichts des 17. Ausschusses — Nr. 3236 der Drucksachen — über die\\nEntschließung Müller (Franken) und Genossen zur zweiten Beratung des Haushalts für Versorgung und\\nRuhegehälter für das Rechnungsjahr 1927 — Nr. 3022 der Drucksachen — 1. 2. ! > ! 3. 4. 5.'}\n",
      "{'_id': '1924_28,10.pdf_578_[184.55, 679.662, 414.152, 704.574]_307', 'bbox': [184.55, 679.662, 414.152, 704.574], 'date': {'weekday': 'Mittwoch', 'day': '6', 'month': 'April', 'year': '1'}, 'filename': '1924_28,10.pdf', 'number': '307', 'page': 578, 'topic': '1. über die Schlußabstimmung über den Entwurf eines Gesetzes über die Feststellung des Reichhaushaltsplans\\nfür das Rechnungsjahr 1927 (Haushaltsgesetz)-\\n2. über die Entschließung Frau Dr. Bäumer, Rönneburg, Koch-Weser und Genossen zur dritten Beratung des\\nHaushalts des Reichsministeriums des Innern — Nr. 3316 der Drucksachen — über Abschluß eines\\nKonkordats usw.'}\n",
      "{'_id': '1924_28,10.pdf_631_[181.19, 686.312, 410.292, 711.224]_308', 'bbox': [181.19, 686.312, 410.292, 711.224], 'date': {'weekday': 'Donnerstag', 'day': '7', 'month': 'April', 'year': '1927'}, 'filename': '1924_28,10.pdf', 'number': '308', 'page': 631, 'topic': '1. über den Entwurf eines Gesetzes über das Zusatzabkommen vom 31. März 1927 zu dem vorläufigen Handels\\xad\\nabkommen und den wirtschaftlichen Vereinbarungen zwischen Deutschland und Frankreich — Nr. 3334 der\\nDrucksachen — Schlußabstimmung,\\n2. über den Änderungsantrag der Abgeordneten Hoch und Genossen — Nr. 3339 Ziffer 4 der Drucksache» —\\nzur zweiten Beratung des Entwurfs eines Gesetzes zur Abänderung der Arbeitszeitverordnung — Nr. 3245,3338\\nder Drucksachen. —'}\n",
      "{'_id': '1924_28,10.pdf_656_[188.4, 657.212, 398.14, 682.124]_309', 'bbox': [188.4, 657.212, 398.14, 682.124], 'date': {'weekday': 'Freitag', 'day': '8', 'month': 'April', 'year': '1927'}, 'filename': '1924_28,10.pdf', 'number': '309', 'page': 656, 'topic': 'über den Entwurf eines Gesetzes zur Abänderung der Arbeitszeitvervrdnung — Nr. 3245, 3338 der Drucksachen (Schlußabstimmung).'}\n",
      "{'_id': '1924_28,10.pdf_712_[190.8, 667.962, 419.767, 692.874]_313', 'bbox': [190.8, 667.962, 419.767, 692.874], 'date': {'weekday': 'Freitag', 'day': '13', 'month': 'Mai', 'year': '1927'}, 'filename': '1924_28,10.pdf', 'number': '313', 'page': 712, 'topic': '1. über Absatz 1 des 8 1 des Entwurfs eines Gesetzes über den Schutz der Jugend bei Lustbarkeiten Nr. 2913 der Drucksachen — 2. über den Änderungsantrag Müller (Franken) und Genoffen zur zweiten Beratung des Entwurfs eines Gesetzes über den Schutz der Jugend bei Lustbarkeiten — Nr. 3361 Ziffer 16 der Drucksachen —'}\n",
      "{'_id': '1924_28,10.pdf_776_[190.3, 662.012, 401.598, 686.924]_316', 'bbox': [190.3, 662.012, 401.598, 686.924], 'date': {'weekday': 'Dienstag', 'day': '17', 'month': 'Mai', 'year': '1'}, 'filename': '1924_28,10.pdf', 'number': '316', 'page': 776, 'topic': 'über den Entwurf eines Gesetzes zur Verlängerung des Gesetzes zum Schutze der Republik — Nr. 3382 der Drucksachen — (Schlußabstimmung).'}\n",
      "{'_id': '1924_28,10.pdf_880_[194.65, 662.262, 404.962, 687.174]_320', 'bbox': [194.65, 662.262, 404.962, 687.174], 'date': {'weekday': 'Mittwoch', 'day': '15', 'month': 'Juni', 'year': '1927'}, 'filename': '1924_28,10.pdf', 'number': '320', 'page': 880, 'topic': 'über den Antrag der Abgeordneten Torgler nnd Genossen, betreffend Mißtrauensvotum gegen den Reichspostminister Dr. Schätze! — Nr. 3395 der Drucksachen —'}\n",
      "{'_id': '1924_28,10.pdf_1086_[190.3, 649.962, 401.932, 674.874]_328', 'bbox': [190.3, 649.962, 401.932, 674.874], 'date': {'weekday': 'Montag', 'day': '27', 'month': 'Juni', 'year': '1927'}, 'filename': '1924_28,10.pdf', 'number': '328', 'page': 1086, 'topic': 'über den Änderungsantrag Müller (Franken) nnd Genossen — Nr. 3442 der Drucksachen — zur zweiten\\nBeratung des Entwurfs eines Gesetzes zur Änderung der Pachtschutzordnung — Nr. 3425 der Drucksachen —.'}\n",
      "{'_id': '1924_28,10.pdf_1129_[194.15, 641.612, 404.962, 666.524]_330', 'bbox': [194.15, 641.612, 404.962, 666.524], 'date': {'weekday': 'Donnerstag', 'day': '30', 'month': 'Juni', 'year': '1927'}, 'filename': '1924_28,10.pdf', 'number': '330', 'page': 1129, 'topic': 'über den von den Abgeordneten Müller (Franken), Koch-Weser und Genossen eingebrachten Entwurf eines Fünften Gesetzes über die Aussetzung von Verfahren — Nr. 3463 der Drucksachen — Schlußabstimmung.'}\n",
      "{'_id': '1924_28,10.pdf_1165_[184.1, 690.062, 414.152, 714.974]_331', 'bbox': [184.1, 690.062, 414.152, 714.974], 'date': {'weekday': 'Freitag', 'day': '1', 'month': 'Juli', 'year': '1927'}, 'filename': '1924_28,10.pdf', 'number': '331', 'page': 1165, 'topic': '1. über den Änderungsantrag Müller (Franken) und Genossen (Nr. 3502 Ziffer 1 und 2 der Drucksachen) zur\\nzweiten Beratung des Entwurfs eines Gesetzes über die Verzinsung aufgewerteter Hypotheken und ihre Um\\xad\\nwandlung in Grundschulden (Nr. 3117, 3478 der Drucksachen), 2. über den Änderungsantrag Müller (Franken) und Genossen (Nr. 3479 unter II Ziffer 3 der Drucksachen)\\nzur zweiten Beratung des Entwurfs eines Gesetzes über die Verzinsung aufgewerteter Hypotheken und ihre\\nUmwandlung in Grundschulden (Nr 3117, 3478 der Drucksachen).'}\n",
      "{'_id': '1924_28,10.pdf_1377_[185.05, 644.712, 415.102, 669.624]_386', 'bbox': [185.05, 644.712, 415.102, 669.624], 'date': {'weekday': 'Donnerstag', 'day': '7', 'month': 'Juli', 'year': '1927'}, 'filename': '1924_28,10.pdf', 'number': '386', 'page': 1377, 'topic': '1. über den Entwurf eines Gesetzes über Kriegsgerät (Nr. 3420, 3468^ der Drucksachen) (Schlnßabstimmung)\\n2. über den Entwurf eines Gesetzes über Arbeitslosenversicherung (Nr. 2885, 3507, 3567 der Drucksachen,'}\n",
      "{'_id': '1924_28,10.pdf_1439_[196.1, 661.562, 407.269, 686.474]_337', 'bbox': [196.1, 661.562, 407.269, 686.474], 'date': {'weekday': 'Freitag', 'day': '8', 'month': 'Juli', 'year': '1927'}, 'filename': '1924_28,10.pdf', 'number': '337', 'page': 1439, 'topic': 'über den Eventualantrag der Abgeordneten Müller (Franken) nnd Genossen — Nr. 3584 der Drucksachen unter\\nZiffer 1 — (zu Tarif-Nrn, 3 und 7) zur zweiten Beratung des Entwurfs eines Gesetzes über Zolländerungen — Nr. 3513, 3575 (Berichtigt) der Drucksachen —.'}\n",
      "{'_id': '1924_28,10.pdf_1488_[188.4, 657.74, 418.371, 680.652]_338', 'bbox': [188.4, 657.74, 418.371, 680.652], 'date': {'weekday': 'Sonnabend', 'day': '9', 'month': 'Juli', 'year': '1927'}, 'filename': '1924_28,10.pdf', 'number': '338', 'page': 1488, 'topic': '1. über den Entwurf eines Gesetzes über Zvlländernngen — Nr. 3513, 3575 (Berichtigt) der Drucksachen — (Schlußabstimmung), 2. über Nr. 5 des Artikel 1 des Entwurfs eines Gesetzes zur Abänderung der Verordnung über die Arbeitszeit in den Bäckereien und Konditoreien vom 23. November 1918 — Nr. 3570 der Drucksachen —, 3. über den Entwurf eines Gesetzes zur Abänderung der Verordnung über die Arbeitszeit i» den Bäckereien\\nund Konditoreien vom 23. November 1918 (Neichsgesetzbl. S. 1329) — Nr. 3570 der Drucksachen —\\n(Schlußabstimmung).'}\n",
      "{'_id': '1924_28,11.pdf_381_[190.3, 664.412, 401.112, 689.324]_352', 'bbox': [190.3, 664.412, 401.112, 689.324], 'date': {'weekday': 'Dienstag', 'day': '6', 'month': 'Dezember', 'year': '1927'}, 'filename': '1924_28,11.pdf', 'number': '352', 'page': 381, 'topic': 'über die Antrage der Abgeordneten Stoeckcr und Genossen — Nr. 3729 der Drucksachen — und Müller (Franken)\\nund Genossen - Nr. 3732 der Drucksachen —, betreffend Mißtrauensvoten gegen die Rcichsregicruiig.'}\n",
      "{'_id': '1924_28,11.pdf_434_[196.55, 656.012, 407.362, 680.924]_354', 'bbox': [196.55, 656.012, 407.362, 680.924], 'date': {'weekday': 'Freitag', 'day': '9', 'month': 'Dezember', 'year': '1927'}, 'filename': '1924_28,11.pdf', 'number': '354', 'page': 434, 'topic': 'zur zweiten Beratung über die Aufrechterhaltung des Artikel 3 des Entwurfs eines Gesetzes über den Handels\\nund Schiffahrtsvertrag zwischen dem Deutschen Reiche und dem Königreiche der Seiden, Kroaten und Slowenen — Nr. 3707 der Drucksachen — in der Ansschußfaffung aus Nr. 3752 der Drucksachen.'}\n",
      "{'_id': '1924_28,11.pdf_630_[186.94, 708.196, 412.203, 733.789]_358', 'bbox': [186.94, 708.196, 412.203, 733.789], 'date': {'weekday': 'Mittwoch', 'day': '14', 'month': 'Dezember', 'year': '1927'}, 'filename': '1924_28,11.pdf', 'number': '358', 'page': 630, 'topic': '1. über den Änderungsantrag Müller (Franken) und Genossen — Nr. 3784 Ziffer 9 der Drucksachen —\\n2. über den Änderungsantrag Müller (Franken) und Genossen — Nr. 3784 Ziffer 11 der Drucksachen — (Neue zur zweite>l Beratung des Entwurfs eines Besoldungsgesetzes — Nr. 3656, 3765 der Drucksachen —\\n3. über den Änderungsantrag Müller (Franken) und Genossen — Nr. 3784 Ziffer 11 der Drucksachen — (Neue 4. über den Änderungsantrag v. Guerard, Dr. Scholz, Graf v. Westarp und Genossen — Nr. 3797 der Druck\\xad Fassung des 8 24) Fassung des § 25) sachen — (8 40 neu) zur zweiteil Beratung des Entwurfs eines Besoldungsgesetzes — Nr. 3656, 3765 der Drucksachen —\\n5. über den Änderungsantrag Müller (Franken) und Genossen — Nr. 3821 der Drucksachen — zur dritten Beratung des Entwurfs eines Besoldungsgesetzes — Nr. 3656, 3765 der Drucksachen — 6. über den Entwurf eines Besoldungsgesetzes — Nr. 3656, 3765 der Drucksachen — (Schlußabstimmung).'}\n",
      "{'_id': '1924_28,11.pdf_683_[194.65, 655.762, 405.394, 680.674]_359', 'bbox': [194.65, 655.762, 405.394, 680.674], 'date': {'weekday': 'Donnerstag', 'day': '15', 'month': 'Dezember', 'year': '1927'}, 'filename': '1924_28,11.pdf', 'number': '359', 'page': 683, 'topic': 'über Ziffer 13^ des Artikel 1 bei der zweiten Beratung des Entwurfs eines Fünften Gesetzes zur Abänderung des Reichsversorgungsgesetzes und anderer Versorgungsgesetze — Nr. 3648, 3775 der Drucksachen —'}\n",
      "{'_id': '1924_28,11.pdf_739_[182.15, 612.562, 411.752, 637.474]_361', 'bbox': [182.15, 612.562, 411.752, 637.474], 'date': {'weekday': 'Sonnabend', 'day': '17', 'month': 'Dezember', 'year': '1927'}, 'filename': '1924_28,11.pdf', 'number': '361', 'page': 739, 'topic': '1. über den Änderungsantrag Dr. Scholz, Keinath und Genossen — Nr. 3846 Ziffer 1 der Drucksachen —,\\n2. über den Änderungsantrag Dr. Scholz, Keinath und Genossen — Nr. 3846 Ziffer 3 der Drucksachen —,\\nzur zweiten Beratung des Entwurfs eines Gesetzes zur Änderung des Einkommensteuergesetzes — Nr. 3772,\\n3840 der Drucksachen —, 3. über den Entwurf eines Gesetzes zur Änderung des Einkommensteuergesetzes — Nr. 3840 der Drucksachen — (Schlußabstimmung).'}\n",
      "{'_id': '1924_28,12.pdf_293_[196.55, 693.312, 407.794, 718.224]_388', 'bbox': [196.55, 693.312, 407.794, 718.224], 'date': {'weekday': 'Dienstag', 'day': '28', 'month': 'Februar', 'year': '1928'}, 'filename': '1924_28,12.pdf', 'number': '388', 'page': 293, 'topic': 'über die Entschließung des 5. Ausschusses (Neichshaushalt) — Nr. 3877 Ziffer II n 1 der Drucksachen — zur\\nzweiten Beratung des Entwurfs eines Gesetzes über die Feststellung des Reichshaushaltsplans für das Rechnungs-\\njähr 1028 - Nr. 3850, 3854 der Drucksachen — und zwar Haushalt für Versorgung und Ruhegehälter — Anlage XII —'}\n"
     ]
    }
   ],
   "source": [
    "for doc in coll.find({}):\n",
    "    print(doc)"
   ]
  },
  {
   "cell_type": "code",
   "execution_count": 8,
   "metadata": {},
   "outputs": [],
   "source": [
    "from xlsxwriter import Workbook\n",
    "import xlsxwriter"
   ]
  },
  {
   "cell_type": "code",
   "execution_count": 10,
   "metadata": {},
   "outputs": [],
   "source": [
    "wb=Workbook(\"RollCall_Topics.xlsx\")\n",
    "sheet = wb.add_worksheet(\"Set 1\")"
   ]
  },
  {
   "cell_type": "code",
   "execution_count": 11,
   "metadata": {},
   "outputs": [
    {
     "ename": "SyntaxError",
     "evalue": "unexpected EOF while parsing (<ipython-input-11-f54a4630225d>, line 1)",
     "output_type": "error",
     "traceback": [
      "\u001b[0;36m  File \u001b[0;32m\"<ipython-input-11-f54a4630225d>\"\u001b[0;36m, line \u001b[0;32m1\u001b[0m\n\u001b[0;31m    header = [\"Filename\",\"Page\", \"Date\", \"Topic\"\u001b[0m\n\u001b[0m                                                ^\u001b[0m\n\u001b[0;31mSyntaxError\u001b[0m\u001b[0;31m:\u001b[0m unexpected EOF while parsing\n"
     ]
    }
   ],
   "source": [
    "header = [\"Filename\",\"Page\", \"Date\", \"Topic\""
   ]
  },
  {
   "cell_type": "code",
   "execution_count": 12,
   "metadata": {},
   "outputs": [],
   "source": [
    "\n",
    "import pandas as pd\n",
    "from pymongo import MongoClient\n",
    "\n",
    "\n",
    "def _connect_mongo(host, port, username, password, db):\n",
    "    \"\"\" A util for making a connection to mongo \"\"\"\n",
    "\n",
    "    if username and password:\n",
    "        mongo_uri = 'mongodb://%s:%s@%s:%s/%s' % (username, password, host, port, db)\n",
    "        conn = MongoClient(mongo_uri)\n",
    "    else:\n",
    "        conn = MongoClient(host, port)\n",
    "    return conn[db]\n",
    "\n",
    "\n",
    "def read_mongo(db, collection, query={}, host='localhost', port=27017, username=None, password=None, no_id=True):\n",
    "    \"\"\" Read from Mongo and Store into DataFrame \"\"\"\n",
    "\n",
    "    # Connect to MongoDB\n",
    "    db = _connect_mongo(host=host, port=port, username=username, password=password, db=db)\n",
    "\n",
    "    # Make a query to the specific DB and Collection\n",
    "    cursor = db[collection].find(query)\n",
    "\n",
    "    # Expand the cursor and construct the DataFrame\n",
    "    df =  pd.DataFrame(list(cursor))\n",
    "\n",
    "    # Delete the _id\n",
    "    if no_id and '_id' in df:\n",
    "        del df['_id']\n",
    "\n",
    "    return df"
   ]
  },
  {
   "cell_type": "code",
   "execution_count": 13,
   "metadata": {},
   "outputs": [],
   "source": [
    "df = read_mongo(\"german_rollcall\",\"topics\")"
   ]
  },
  {
   "cell_type": "code",
   "execution_count": 15,
   "metadata": {},
   "outputs": [],
   "source": [
    "df.to_excel(\"set1_rollcall_vote_topics.xlsx\")"
   ]
  },
  {
   "cell_type": "code",
   "execution_count": 2,
   "metadata": {},
   "outputs": [],
   "source": [
    "from pathlib import Path"
   ]
  },
  {
   "cell_type": "code",
   "execution_count": 8,
   "metadata": {},
   "outputs": [],
   "source": [
    "p=Path('/as/abs1924_28,12.pdf')"
   ]
  },
  {
   "cell_type": "code",
   "execution_count": 10,
   "metadata": {},
   "outputs": [
    {
     "data": {
      "text/plain": [
       "['__bytes__',\n",
       " '__class__',\n",
       " '__delattr__',\n",
       " '__dir__',\n",
       " '__doc__',\n",
       " '__enter__',\n",
       " '__eq__',\n",
       " '__exit__',\n",
       " '__format__',\n",
       " '__fspath__',\n",
       " '__ge__',\n",
       " '__getattribute__',\n",
       " '__gt__',\n",
       " '__hash__',\n",
       " '__init__',\n",
       " '__init_subclass__',\n",
       " '__le__',\n",
       " '__lt__',\n",
       " '__module__',\n",
       " '__ne__',\n",
       " '__new__',\n",
       " '__reduce__',\n",
       " '__reduce_ex__',\n",
       " '__repr__',\n",
       " '__rtruediv__',\n",
       " '__setattr__',\n",
       " '__sizeof__',\n",
       " '__slots__',\n",
       " '__str__',\n",
       " '__subclasshook__',\n",
       " '__truediv__',\n",
       " '_accessor',\n",
       " '_cached_cparts',\n",
       " '_closed',\n",
       " '_cparts',\n",
       " '_drv',\n",
       " '_flavour',\n",
       " '_format_parsed_parts',\n",
       " '_from_parsed_parts',\n",
       " '_from_parts',\n",
       " '_hash',\n",
       " '_init',\n",
       " '_make_child',\n",
       " '_make_child_relpath',\n",
       " '_opener',\n",
       " '_parse_args',\n",
       " '_parts',\n",
       " '_pparts',\n",
       " '_raise_closed',\n",
       " '_raw_open',\n",
       " '_root',\n",
       " '_str',\n",
       " 'absolute',\n",
       " 'anchor',\n",
       " 'as_posix',\n",
       " 'as_uri',\n",
       " 'chmod',\n",
       " 'cwd',\n",
       " 'drive',\n",
       " 'exists',\n",
       " 'expanduser',\n",
       " 'glob',\n",
       " 'group',\n",
       " 'home',\n",
       " 'is_absolute',\n",
       " 'is_block_device',\n",
       " 'is_char_device',\n",
       " 'is_dir',\n",
       " 'is_fifo',\n",
       " 'is_file',\n",
       " 'is_mount',\n",
       " 'is_reserved',\n",
       " 'is_socket',\n",
       " 'is_symlink',\n",
       " 'iterdir',\n",
       " 'joinpath',\n",
       " 'lchmod',\n",
       " 'lstat',\n",
       " 'match',\n",
       " 'mkdir',\n",
       " 'name',\n",
       " 'open',\n",
       " 'owner',\n",
       " 'parent',\n",
       " 'parents',\n",
       " 'parts',\n",
       " 'read_bytes',\n",
       " 'read_text',\n",
       " 'relative_to',\n",
       " 'rename',\n",
       " 'replace',\n",
       " 'resolve',\n",
       " 'rglob',\n",
       " 'rmdir',\n",
       " 'root',\n",
       " 'samefile',\n",
       " 'stat',\n",
       " 'stem',\n",
       " 'suffix',\n",
       " 'suffixes',\n",
       " 'symlink_to',\n",
       " 'touch',\n",
       " 'unlink',\n",
       " 'with_name',\n",
       " 'with_suffix',\n",
       " 'write_bytes',\n",
       " 'write_text']"
      ]
     },
     "execution_count": 10,
     "metadata": {},
     "output_type": "execute_result"
    }
   ],
   "source": [
    "dir(p)"
   ]
  },
  {
   "cell_type": "code",
   "execution_count": 9,
   "metadata": {},
   "outputs": [
    {
     "data": {
      "text/plain": [
       "'abs1924_28,12'"
      ]
     },
     "execution_count": 9,
     "metadata": {},
     "output_type": "execute_result"
    }
   ],
   "source": [
    "p.stem"
   ]
  },
  {
   "cell_type": "code",
   "execution_count": 11,
   "metadata": {},
   "outputs": [
    {
     "data": {
      "text/plain": [
       "PosixPath('/as/abs1924_28,12.log')"
      ]
     },
     "execution_count": 11,
     "metadata": {},
     "output_type": "execute_result"
    }
   ],
   "source": [
    "p.with_suffix('.log')"
   ]
  },
  {
   "cell_type": "code",
   "execution_count": 14,
   "metadata": {},
   "outputs": [
    {
     "data": {
      "text/plain": [
       "PosixPath('abs1924_28,12.log')"
      ]
     },
     "execution_count": 14,
     "metadata": {},
     "output_type": "execute_result"
    }
   ],
   "source": [
    "(Path('.')/p.stem).with_suffix('.log')"
   ]
  },
  {
   "cell_type": "code",
   "execution_count": 15,
   "metadata": {},
   "outputs": [
    {
     "data": {
      "text/plain": [
       "False"
      ]
     },
     "execution_count": 15,
     "metadata": {},
     "output_type": "execute_result"
    }
   ],
   "source": [
    "p.exists()"
   ]
  },
  {
   "cell_type": "code",
   "execution_count": 19,
   "metadata": {},
   "outputs": [
    {
     "data": {
      "text/plain": [
       "PosixPath('/as/abs1924_28,12_abc.log')"
      ]
     },
     "execution_count": 19,
     "metadata": {},
     "output_type": "execute_result"
    }
   ],
   "source": [
    "p.with_name(p.stem + '_abc').with_suffix('.log')"
   ]
  },
  {
   "cell_type": "code",
   "execution_count": 18,
   "metadata": {},
   "outputs": [
    {
     "data": {
      "text/plain": [
       "'abs1924_28,12.pdf'"
      ]
     },
     "execution_count": 18,
     "metadata": {},
     "output_type": "execute_result"
    }
   ],
   "source": [
    "p.name"
   ]
  },
  {
   "cell_type": "code",
   "execution_count": null,
   "metadata": {},
   "outputs": [],
   "source": [
    "p"
   ]
  }
 ],
 "metadata": {
  "kernelspec": {
   "display_name": "Python 3",
   "language": "python",
   "name": "python3"
  },
  "language_info": {
   "codemirror_mode": {
    "name": "ipython",
    "version": 3
   },
   "file_extension": ".py",
   "mimetype": "text/x-python",
   "name": "python",
   "nbconvert_exporter": "python",
   "pygments_lexer": "ipython3",
   "version": "3.7.2"
  }
 },
 "nbformat": 4,
 "nbformat_minor": 2
}
