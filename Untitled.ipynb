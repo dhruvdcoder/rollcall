{
 "cells": [
  {
   "cell_type": "code",
   "execution_count": 3,
   "metadata": {},
   "outputs": [],
   "source": [
    "from tika import parser\n",
    "import argparse\n",
    "from utils import remove_char_range, split_on_points\n",
    "from regexes import r_name_vote_separator, r_non_word_characters\n",
    "import re\n",
    "import logging\n",
    "logging.getLogger('pdfminer').setLevel(logging.ERROR)"
   ]
  },
  {
   "cell_type": "code",
   "execution_count": 5,
   "metadata": {},
   "outputs": [],
   "source": [
    "file='/Users/Dhruv/Downloads/Sample roll call vote PDF_multiple columns[2].pdf'"
   ]
  },
  {
   "cell_type": "code",
   "execution_count": 3,
   "metadata": {},
   "outputs": [
    {
     "name": "stderr",
     "output_type": "stream",
     "text": [
      "2019-11-21 14:49:41,543 [MainThread  ] [INFO ]  Retrieving http://search.maven.org/remotecontent?filepath=org/apache/tika/tika-server/1.19/tika-server-1.19.jar to /var/folders/r2/8mbb22091rb4vq4xtd19bbw80000gn/T/tika-server.jar.\n",
      "2019-11-21 14:49:51,371 [MainThread  ] [INFO ]  Retrieving http://search.maven.org/remotecontent?filepath=org/apache/tika/tika-server/1.19/tika-server-1.19.jar.md5 to /var/folders/r2/8mbb22091rb4vq4xtd19bbw80000gn/T/tika-server.jar.md5.\n",
      "2019-11-21 14:49:51,625 [MainThread  ] [WARNI]  Failed to see startup log message; retrying...\n"
     ]
    }
   ],
   "source": [
    "raw=parser.from_file(file)"
   ]
  },
  {
   "cell_type": "code",
   "execution_count": 8,
   "metadata": {},
   "outputs": [
    {
     "data": {
      "text/plain": [
       "\"\\n\\n\\n\\n\\n\\n\\n\\n\\n\\n\\n\\n\\n\\n\\n\\n\\n\\n\\n\\n\\n\\n\\n2566 Reichstag. — 81. Sitzung. Dienstag den 26. Juni 1925.\\n\\nNamentliche Abstimmungen\\nin der 81. Sitzung am Dienstag den 23. Juni 1925\\n\\n1. über den Antrag des 9. Ausschusses (Soziale Angelegenheiten) — Nr. 937 Ziffer 1 der Drucksache» — aus \\nAblehnung des Antrags Müller (Franken) und Genossen, betreffend den Entwurf eines Gesetzes zur Verlängerung \\nder Dauer der Erwerbslosennnterstützung im besetzten Gebiet — Nr. 917 der Drucksachen —\\n\\n2. über Artikel 1 Ziffer 4 des Entwurfs eines Gesetzes zur Änderung der Pachtschutzordnung vom 9. Zuni 1926 \\n(Reichsgesetzbl. S. 1193) — Nr. 928 der Drucksachen —\\n\\n3. über die Änderungsanträge Müller (Frauken) und Genossen — Nr. 943 der Drucksachen — und Ronneburg, \\nKoch-Weser und Genossen — Nr. 1037 der Drucksachen — zur zweiten Beratung des vom 11. Ausschuß \\nbeantragten Entwurfs eines Gesetzes zur Änderung der Pachtschutzorduuug — Nr. 928 der Drucksachen —\\n\\n4. über den Änderungsantrag Ronneburg, Koch-Weser und Genossen — Nr. 1037 Ziffer 3 der Drucksachen — \\nzur zweiten Beratung des vom 11. Ausschuß beantragten Entwurfs eines Gesetzes zur Änderung der Bacht- \\nschutzordnnng — Nr. 928 der Drucksachen —\\n\\n5. über den handschriftlichen Antrag Henning unter 6 zur zweiten Beratung des vom 11. Allsschuß beantragten \\nEntwurfs eines Gesetzes zur Änderung der Bachtschntzordnung — Nr. 928 der Drucksachen —.\\n\\nName\\nl. l 2. ! 4.\\n\\nAbstimmung\\n5.\\n\\nAdams ................. Za Nein Nein Nein Za\\nFrau Agnes... . . . . . . . . . krank krank krank krank krank\\nAlbrecht................. — — — — - -\\nAllekotte ................. — Nein Nein Nein Nein\\nAlpers................... krank krank krank krank krank\\nAndre ................... Za Nein Nein Za Plein\\nFrau Ansorge... . . . . . . . Nein Za Ja Za Nein\\nFrau Arendsee.... . . . . Nein Za Ja Za . -\\nFrau Arni,lg.... . . . . . . Nein Za Ja ! Za Nein\\nAllfhäuscr............... Nein Za Ja Za Nein\\n\\nWachmann............. Za ! Nein Nein - Plein Za\\nBachmeier............... - - ! — - ^\\nBaecker (Berlin) .... — Nein Nein Nein Za\\nBader..................... Nein Za Za Za\\nFrau Bartels.... . . . . . . —\\nDr. Barth............. Za Nein Nein Nein Za\\nBartschat............... Nein Ha Za Za Nein\\nFrau Dr. Bäunier .. Nein Za Za ! Za Nein\\nDr. Bayersdörfer... Za Nein Nein ^ Plein Za\\nBazille................. — — - -\\nBeck (Oppeln).... . . . . . . --  ^ Nein Nein Nein Za\\nBecker (Arnsberg)... Za Nein Nein Za Nein\\nDr. Becker (Hessen). . Za Nein Nein Nein Za\\nBecker (Herborn).... Nein Za Za Za ! Plein\\nFrau Dr. Beym... krank krank krank krank ^ krank\\nBehrens................. Za Nein Nein Za Za\\nBeier (Dresden).... Nein Nein Plein!\\nDr. Bell................. Za Nein - Nein Plein Nein\\nBender................... Nein Za Za Za Nein\\nDr. Bergsträßer .... Nein! Za Ja Za ! Nein\\nBerudt...... . . . . . . . . . . . . . Za ! Nein Nein Nein Za\\nBernstein............... Nein Ja Ja Za ^ Plein\\nGraf v. Bernstorff.. Nein l Za Za Za ! Nein\\n\\nName\\ni. 2. 3 4.\\n\\nAbstimmung\\n5.\\n\\nBertz ..................... Za Za j Za Plein\\nDr. Best................. Nein Plein Plein Nein ! Za\\nDr. Bensch............. Za Plein Plein Plein Plein\\nBeythien................. krank krank krank krank krank\\nBickes..................... Za Plein Nein Nein Za\\nBimer... . . . . . . . . .. Za Nein Nein ! Nein Za\\nBiester................... Nein Za Za ^ Za Nein\\nFürst Bismarck.... . . . . Za Nein Plein Nein Za\\nBlum..................... Za Nein Nein Plein Za\\nBock....................... Plein Za Za Za Nein\\nDr. Bockius........... Za i Plein ^ Plein Za Nein\\nBohla..................... krank krank krank krank krank\\nFrau Bvbul-Schnch . Nein Za Za Za Plein\\nBolz.. .. . .... . . . . . . . . . . . . . Za Nein Plein Plein Za\\nBornefeld-Ettmaim.. Za Plein Plein Nein Za\\nBorrmaim............. Nein Nein Nein Za\\nBossen...................\\nBraun (Düsseldorf) .\\n\\nkrank krank krank krank krank\\nNein\\n\\nDr. Braun (Franken) \\nDr. Brauns (München-\\n\\nPlein Za Za Za Plein\\n\\nGladbach) ... . . . . . . . . . Za Plein Plein Za Nein\\nD. Dr. Dr. Brcdt... Za i Plein Nein Nein Za\\nDr. Breitscheid....... Nein j Za . Za Za Plein\\nBrekelbaum ........... Za Plein Plein Plein Za\\nBrev ..................... Plein ^ Za Za Za Plein\\nBrodauf................. Nein? Za 2a , Za Nein\\nBrühn................... Za Nein Plein Plein Za\\nDr. Brüning.... . . . . . . Za Plein Nein Za Nein\\nBrüninghans......... Za Nein Plein Nein Za\\nBuchholz.................\\nBttchlnaim.............\\n\\nNein Nein Nein Nein\\n\\nBilchwiß.................\\nBudjuhn.................\\nBütt.......................\\n\\nPlein! Za Za ! Za Nein\\nZa Nein Plein i Plein Za\\n\\nBülow .... . . . . . . . . . . . . . . . . Nein Za Za Plein\\n\\n\\n\\nReichstag. — 8l. Sitzung. Dienstag dm 23. Juni 192ü. 2567\\n\\nName\\n1. ! 2. 3. ! 4.\\n\\nAbstimmung\\n\\n! 5.\\n\\nCramm........................ 3« Nein Nein Stein Za\\nDr. Cremer................ 3« Nein Nein Nein Ja\\nCreutzbnrg ................... Nein Ja Ja Ja Stein\\nCrispien........................ Nein Za Ja Ja Nein\\nOe. Crone-Münzebrock Ja Nein Nein Stein Ja\\nDr. Curtins................ — — — — —\\n\\nDamnt........................... Ja Nein Nein Nein Za\\nDauch (Hamburg) .. Ja — — — —\\nDauer ........................... Ja Nein Stein Ja Nein\\nDr. David................... Nein Ja Ja Ja Nein\\nDenqel........................... — — —\\n\\nNeinDr. Derirburg............. Nein - - Za Ja\\nDr. Dessauer................ Za Nein Nein Ja Nein\\nv. Dewitz (Stettin).. Ja Nein Stein Nein Ja\\nDiernreiter................... — — —\\n\\nDietrich (Baden) . . . Nein Ja Za Ja\\nNein\\n\\nNein\\nDietrich (Frauken) . . Nein Nein Nein Za\\nDietrich (Prenzlau). . beurl. beurl. beurl. beurl. beurl.\\nDietrich (Thüringen). — — — — -\\nDietze............................. — — — — —\\n\\nDiez................................ Ja Nein Nein Nein Ja\\nDißmann ..................... Nein Za\\n\\nJa NeinDittmann..................... Nein Ja Ja\\nDöbrich........................ Za Nein Stein Ja Ja\\nDomsch (Dresden) .. Ja Nein Nein Stein Ja\\nDorsch (Hessen) .... Ja Nein Nein Nein Ja\\nDrewitz (Berlin).... Ja Nein Neu: Nein Za\\nDr. v. Dryander ... Ja Nein Nein Nein Ja\\nDunkel........................... Ja Nein Nein Stein Ja\\n\\nEggers ........................ krank krank krank krank krank\\nEggerstedt..................... Nein Ja Ja Ja Stein\\nEhrhardt ..................... Za Nein Nein Ja Nein\\nEichhorn........................ Nein Ja Ja Za Nein\\nEisenberger...........-.. Za Nein Nein Nein Ja\\nDr. Ellenbeck............ . Ja Nein Stein Nein Ja\\nEmminger..................... Ja Nein Stein Nein Ja\\nEügberding................... Ja Nein Stein Nein Ja\\nErkelenz ........................ beurl. beurl. beurl. beurl. beurl.\\nErsing............................. Ja Nein Nein Ja Nein\\nEsser................................ Za Nein Nein Nein Nein\\nGraf zu Eulenburg - Ja Nein Stein Nein Ja\\nDr. Everling................ Ja Nein Nein Nein Ja\\n\\nFeder............................. Nein Nein Nein enthalten Ja\\nFehr................................ Ja Nein Nein Nein Ja\\nFehrenbach.................. Za Nein Nein Nein Stein\\nFeilmayr........................ Nein Nein Nein Ja\\nFeldmann..................... krank krank krank krank krank\\nFerl................................ Nein Ja Ja Ja Stein\\nFindeisen . . . .............. Ja Nein Nein Nein Za\\nFischbeck........................ Nein Ja Ja Ja Stein\\nFischer (Berlin)........... Nein Ja Ja Za Nein\\nDr. Fischer (Köln) .. Nein — — — —\\n\\nFleischer........................ Nein Ja Za Ja Nein\\nFlorin ...........................\\nDr. Frhr. v. Freytagh-\\n\\nkrank krank krank krank krank\\n\\nLoringhoven........... Za Nein Nein Nein Ja\\nDr. Frick ..................... Nein Nein Nein Nein Za\\nFrölich.......................... Nein Za Ja Ja Nein\\nFromm........................... Ja Stein Nein Ja Ja\\n\\nName\\ni. 2. 3. 4.\\n\\nAbstimmung\\n\\nI 5.\\n\\nGeck (Mannheim)... krank krank krank krank krank\\nGeisler........................... — Nein Nein Nein Ja\\nGerauer........................ Za Nein Nein Nein Ja\\nDi-. Gereke................... Za Nein Nein Nein Za\\nGerig............................. Ja Nein Nein Ja Stein.\\nGeschke........................... Ja Ja Ja Nein\\nGiebel.............................. krank krank krank krank krank\\nGiesberts..................... Ja Nein Nein Ja Nein\\nGiese................................ krank krank krank krank krank\\nDr. Gildemeister .... Za Nein Nein Nein Za\\nGok................................ Za Nein Nein Nein Ja\\nv. Goldacker................ Za Nein Stein Nein Za\\nFrau Golke................ Nein — — — — .\\nDr. Goch..................... Nein Ja Ja Za Nein\\nGraes (Thüringen) .. Za Stein Nein Stein Ja\\nv.Graefe(Mecklenbnrg) Nein Nein Stein Ja\\nGraschiann................... — — — —\\n\\nNeinGroß ............................. Ja Nein Nein Za\\nv. Giwrard................... Ja Nein Nein Nein Ja\\n\\nHaag............................. Za Nein Nein Nein Ja\\nDr. Haas (Baden) . . Nein Ja Ja Za Nein\\nDr. Haedenkamp.... Za Nein Nein Stein Ja\\nHarnkens........................ Za Nein Nein Stein Ja\\nHampe........................... Ja Nein Nein Stein Ja\\nDr. Hanemann..... Ja Stein Nein Stein Ja\\nHänse (Thüringen) .. Ja Nein Nein Stein Ja\\nHarmony..................... Ja Nein Nein Nein Ja\\nHartmann.................... Ja Nein Nein Nein Ja\\nHartwig........................ Ja Stein Nein Ja Ja\\nHavemann.................. — — — —\\n\\nHeckert........................... — — — — —\\n\\nHeimann........................ Nein Za Za Za Nein\\nDr. Heinze................... Ja Nein > Nein Stein Za\\nHelling (Weser)........... krank krank krank krank krank\\nHemeter........................ beurl. beurl.! beurl. beurl. beurl.\\nHenke............................. Nein Ja ! Za Ja Nein\\nHenning........................ Nein Nein Nein Nein Za\\nHensel (Ostpreußen).. — — — — -------\\nSepp................................ — — — — ------- ,\\nHerbert.......................... Ja Nein Nein Nein Ja\\nHergt............................. Za Nein Nein Nein Za\\nHerold.......................... Za Nein i Nein Nein Nein\\nDr. Hertz..................... Nein Za ! Za Za Nein\\nDr. Heuß..................... Nein -------- ! — —\\n\\nNeinHildenbrand................ Nein Ja ! Za Ja\\nDr. Hilferdinq........... Nein Ja ! Za Ja Nein\\nHoch................................ Nein Ja ! Ja Ja Nein\\nDr. Hoff........................\\nHoffmann (Kaisers\\xad\\n\\n------- >\\n\\nNeinlautern) ..................... Nein Ja Ja Ja\\nHofmaun (Köln).... \\nHofmann (Ludwigs\\xad\\n\\nJa Nein j Nein Stein Ja\\n\\nhafen)................ Za Nein Nein Za Nein\\nHöllein..................... Nein Ja Za Ja Nein.\\nHolzamer................... Ja Stein ^ Stein Nein Za .\\nDr. ten Hompel .... — ^ — —\\nDr. Horlachcr. - - Za Nein Nein Stein Ja .\\nHoernle. ......... Stein Ja ^ Za Za- Stein,\\nDr. Hoetzsch------ ... Ja i --- - — —\\n\\nJaDr. Hugeuberg ... .. Fa (Nein! Nein, Nein\\n\\n\\n\\n2568 Reichstag. — 81. Sitzung. Dienstag den 23. Juni 1925\\n\\nName\\n1. 2. 3. 4.\\n\\nAbstimmung\\n5.\\n\\nDr. Hugo.................. krank krank krank krank krank\\nHuke ......................... Za Nein Nein Za Nein\\nHülser......................... Za Nein Nein Za Za\\nDr.-Ing. Hummel... — — — — —\\nHünlich....................... Nein Za Za Za Nein\\nHusemauu.................. Nein Za Za Za Nein\\nHüttmann.................. Nein Za Za Za Nein\\n\\nJmbusch.................... krank krank krank krank krank\\n\\nJäcker ....................... — ------ . — — - -\\nJacobshagen.............. Nein Za Za Za Nein\\nJadasch.................... Nein Za Za Za Nein\\nJandrey.................... — Nein Nein Nein Za\\nJanschek.................... Nein Za Za Za Nein\\nJanson....................... krank krank krank krank krank\\nJoos........................... Za Nein Nein Za Nein\\nDr. Jöriffen.............. Za Nein Nein Nein Za\\nFrau Juchacz........... Nein — — Za Nein\\nJulier......................... — — — — —\\nJunke......................... Nein Za Za Za Nein\\n\\nDr. Kaas (Trier)... Za Nein Nein Nein Nein\\nv. Dr. Kahl.............. beurl. beurl. beurl. beurl. beurl.\\nDr. Kalle.................. Za Nein Nein Nein Za\\nKaltenecker................ Za Nein Nein Nein Za\\nv. Kardorff................ — — —\\nKarsten....................... beurl. beurl. beurl. beurl. beurl.\\nKatz........................... — — --- — —\\nKeil........................... Nein Za Za Za Nein\\nKeinath .................... Za Nein Nein Nein Za\\nv. Kemnitz.................. Za Nein Nein Nein Za\\nKempkes.................... Za Nein — — —\\nKenzler....................... Nein — — — —\\nKerp........................... Za Nein Nein Nein Za\\nKerschbaum................ Za Nein Nein Nein Za\\nDr. v. Keudell ..... Za Nein Nein Nein Za\\nKirschmann .............. Nein Za Za Za Nein\\nKling......................... — Nein Nein Nein Za\\nKlingspor.................. — — — —\\nDr. Klöckner.............. Za Nein Nein Nein Nein\\nDr.-Ing. Klönne.... Nein Nein Nein Za\\nKnoll......................... Za Nein Nein Za Nein\\nKoch (Düffeldorf)... Za Nein Nein Za Za\\nKoch (Essen).............. Za Nein Nein Za Nein\\nKoch-Weser................ Nein Za Za Za Nein\\nKoenen....................... — ---- —\\nKoenig (Düsseldorf) . — — — — —\\nKönig (Westfalen)... — Za Za Za Nein\\nKopsch ....................... Nein Za Za Za Nein\\nKorell......................... entsch. entsch. entsch. entsch. entsch.\\nKörner....................... Za Nein Nein Nein Za\\nDr. Korsch................ — — —\\nKotzke......................... — — —- — —\\nKrätzig....................... Nein Za Za Za Nein\\nKröger (Rostock).... Nein Za Za Za Nein\\nKrüger (Merseburg) . Nein Za Za Za Nein\\nKube........................... Nein Nein Nein Nein Za\\nKuhnt......................... Nein Za Za Za Nein\\nDr. Kulenkampff----- — Za\\n\\nName\\n1- 2. 3. 4.\\n\\nAbstimmung\\n5.\\n\\nDr. Külz.................... -\\nKünstler.................... Nein Za Za Za Nein\\n\\nLambach....................\\nLammers ..................\\n\\n— — — —\\n\\nLandsberg.................. Nein Za Za Za , Stein\\nLang ......................... Za Nein Nein Nein Za\\nFrau Lang-Brumann Za Nein Nein Nein Za\\nLange-Hegermann... — — — —-\\nLaufkötter.................. Nein Za Za Za Nein\\nLaverrenz.................. Za Stein Stein Nein Za\\nI)r. Leber.................. — — Ja Nein\\nLeicht......................... Za Nein Nein Nein Za\\nDr. Lejeune-Jung ... Za Nein Stein Nein Za\\nLemmer....................... — — — — —\\nLeopold....................... Za Nein Nein Nein Za\\nGraf v. Lerchenfeld.. — — — — —\\nLeutheußer................ — — — -— —\\nDr. Levi.................... — — — — —\\nLimbertz.................... Nein Za Za Za Nein\\nLind........................... Za Nein Nein Nein Za\\nv. Lindeiner-Wildau . Za Nein Nein Nein Za\\nLipinski .................... Nein Za Za Za Nein\\nLöbe........................... Nein Za Za Za Nein\\nLogemann (Hannover) Za Nein Nein Nein Za\\nLohmann (Altona) .. Za Nein Nein Nein Za\\nLoibl ....... ................. Za Nein Nein Nein Za\\nDr. Löwenstein......... Nein Za Za Za Nein\\nLübbring .................. krank krank krank krank krank\\nLucke ......................... Za Nein Nein Nein Za\\nLudendorff................ — — --\\nFrau Dr. Lüders ... krank krank krank krank krank\\nLudwig...................... Nein — — — —\\n\\nMartin...........\\nMarx......................... Za Nein Nein Za Nein\\nFrau Dr. Matz......... — — — — —\\nMeier (Baden)......... — — — --- —\\nFrau Mende.............. Za — — — —\\nMentzel....................... Za Nein Nein Nein Za\\nMerck......................... Za Nein Nein Nein Za\\nGraf v. Merveldt... — — —\\nMeyer (Berlin)......... Nein Za Za Za Nein\\nMeyer (Franken).... Nein Za Za Za Nein\\nMeyer (Hannover) .. Za Nein Nein Nein Za\\nDr. Mittelmann .... Za Nein Nein Nein Za\\nDr. Moldenhauer . - - Za Nein Nein Nein Za\\nMollath.................... Za Nein Nein Nein Za\\nMorath .................... Za Nein Nein Nein Za\\nOr. Moses................ Nein Za Za Za Nein\\nDr. Most.................. — — — — —\\nMüller (Franken) ... Nein Za Za Za Nein\\nFrau Mueller-Otfried beurl. beurl. beurl. beurl. beurl.\\nD. Mumm................ — — — — —\\nMünzenberg.............. Nein Za Za — - -\\n\\nNeddermeyer........... — — —\\nFrau Nemitz.............. Nein Za Za Za Nein\\nNeubauer.................. Nein Za Za Za Nein\\nNeuhaus (Düss eldorf). krank krank krank krank krank\\n\\n\\n\\n2569Reichstag. — 8t. Sitzung. Dienstag den 23. Juni 1925.\\n\\nName\\n1. 2. 3. 4. I\\n\\nAbstimmung\\n5.\\n\\nFrau Neuhaus (West\\xad\\nfalen) ................. Ja Nein Nein Za ! Stein\\n\\nNeumann............... Ja Nein Nein Nein! Za\\nNevses .... /.......... Nein Nein Nein Za\\nNientimp ............... — — — — —\\nNolte..................... Za Nein Nein Nein Za\\nNowack ................. Nein Za Za Za Stein\\nObmdiek............... Nein Za Za Za Nein\\nDr. Oberfohren .... Za Nein Nein Nein Za\\nOhler......................... Ja Nein Nein Nein Za\\nPaeth ....................... Za Nein Nein Nein Za\\nPassehl................... Nein Za Za Za Nein\\nPeine......................... Nein Za Za Za Nein\\nPennemann............ — —\\n\\nNein\\n— —\\n\\nDr. Perlitius.......... Za Nein Nein Za\\nPeters ................... Nein Za Za Za Nein\\nPetzold................... Za Nein Stein Nein Za\\nDr. Pfeffer............. Za Nein Nein Nein Za\\nPfeiffer................... — —\\n\\nbeurl.\\n— —\\n\\nDr. Pfleger............ beurl. beurl. beurl. beurl.\\nFrau Pfülf............ Nein Za Za Za j Nein\\nDr. Philipp............ Za Nein Nein Nein Za\\nDr. Do. Preyer .... Za Nein Nein Nein Za\\nPutz....................... Nein Za Za Za Nein\\nDr. Duaatz........... Za Nein Stein Nein Za\\nDr. Queffel ............ Nein Za Za ! Za Nein\\nRädel..................... Nein Za Za Za Nein\\nDr. Rademacher .... Za Nein Stein Nein —\\nv. Ramin............... Nein Nein Nein Nein Za\\nDr. Raschig........... Nein Za Za Za Nein\\nRauch (München)... Za Nein Nein Nein Za\\nv. Raumer............. — Nein Nein Nein Za\\nDr. Reichert............ Za Nein Nein Nein Za\\nFrau Reitze........... Nein Za Za Za Nein\\nRemmele................. — — — ! --- —\\nGraf zu Reventlow. Nein Nein Nein Nein Za\\nFrhr. v. Rheinbaben. — — — Nein Za\\nRheinländer............ Za Nein Nein Za Nein\\nRichter................... beurl. beurl. beurl. beurl. beurl.\\nFrhr. v. Richthofen \\n\\n(Breslau) ....... Za Nein Nein Nein Za\\nFrhr. v. Richthofen \\n\\n(Hannover)......... Nein Za Za ! Za Nein\\nRieseberg............... Za Nein Nein Nein Za\\nDr. Riester............. Za Nein Nein Nein Za\\nNippel................... Za Nein Nein Nein Za\\nRöder (Baden)........ krank krank krank krank krank\\nRöder (Franken).... Za Nein Nein Nein Za\\nRönneburg............. Nein Za Za Za Nein\\nRosenbaum............. Nein Za Za ^ Za Nein\\nDo. Rosenberg........ — — — ! — —\\nDr. Rosenfeld......... Nein Za Za Za Nein\\nDr. Roß................. Za Nein Nein Za Nein\\nRoßmann (Württem- \\n\\nberg)................... Nein Za Za Za Nein\\nDr. Runkel.......... Za Nein Nein Nein Za\\nSachs ................... Za Nein Nein Nein Za\\nSaenger................. — — —\\nSaupe................... Nein Za Za\\n\\nName 1-\\n2. 3. 4.\\n\\nAbstimmung\\n5.\\n\\nSchaffner............... Nein Za Za Za Nein\\nFrau Scheidet.......... Za Nein Nein Nein Za\\nScheidemann........... krank krank krank krank krank\\nDr. Schetter............ Za Nein Nein Nein Za\\nSchiele ................. Za Nein Nein Nein Za\\nFrau Schiffgens .... Nein Za Za Za Nein\\nSchiller (Hannover).. Nein Za Za Za Nein\\nFrau Schilling ..... Nein Za Za Za Nein\\nSchirmer (Dresden) . Nein Za Za Za Nein\\nSchirmer (Franken).. Za Za enthalten Za Nein\\nSchlack................... - - — — — —\\nSchlagewerth ..... krank krank krank krank krank\\nSchlange................. — — — — —\\nSchlecht................. — — — —\\n\\nNeinSchlicke................... Nein Za Za Za\\nSchlüter................. Nein Za Za Za Nein\\nSchmidt (Berlin) ... Nein Za Za Za Nein\\nSchmidt (Cöpenick).. Nein Za Za Za Stein\\nSchmidt (Hannover). Za Stein Stein Nein Za\\nSchmidt (Hirschberg). Za Nein Nein Nein Za\\nSchmidt (Meißen).. - Nein Za Za Za Nein\\nSchmidt (Stettin)... Za Nein Nein Nein Za\\nSchnabrich............. Nein Za Za Za Nein\\nDr. Schnee............. beurl. beurl. beurl. beurl. beurl.\\nSchneider (Berlin)... Nein Za Za Za Nein\\nDr. Schneider \\n\\n(Dresden)........... Za Nein Nein Nein --------\\nDr. Schneider \\n\\n(Thüringen)........ Nein Nein Nein z Za\\nSchneller............... — — —\\n\\nZa NeinScholem................. Nein Za Za\\nDr. Scholz.............. Za Nein Nein Nein Za\\nSchöpflin............... Nein Za Za Za Nein\\nFrau Schott............ Za Nein Nein Nein Za\\nSchreck................... Nein Za Za Za Nein\\nD. Dr. Schreiber .. . Za Nein Nein Nein Nein\\nSchröder (Mecklen- \\n\\nbürg)................. krank krank krank krank krank\\nFrau Schroeder \\n\\n(Schleswig-Holstein) Nein Za Za Za Nein\\nSchröter (Liegnitz).. - Za Nein Nein Nein Za\\nDr. Schücking ........ Nein Za Za Za Nein\\nSchuldt (Steglitz) .. . Nein Za Za Za Nein\\nGraf v. d. Schulenburg Za Nein Nein Nein Za\\nSchulte (Breslau)... Za Nein Nein Nein Nein\\nSchultz (Bromberg).. Za Nein Nein Nein Za\\nSchulz (Bremen)---- Nein Za Za Za Nein\\nSchulz-Gahmen........ — — —\\n\\nZa\\n—\\n\\nSchulz (Königsberg). Nein Za Za Nein\\nFrau Schulz (West\\xad\\n\\nfalen) ................. Nein Za Za Za Nein\\nSchulze (Frankfurt).. Za Nein Nein Nein ! Za\\nSchumann (Frankfurt) — — — — —\\nSchumann (Stettin). — — —\\n\\nZa NeinSchurig................. Nein Za Za\\nSchütz ................... — Za Za — Nein\\nSchwan................. — — — — —\\nDr. Schwarz (Berlin) Nein\\n\\nNein Za NeinSchwarz (Frankfurt). Ja Nein\\nSchwarzer (Ober\\xad\\n\\nbayern) ............... Za Nein Nein Za ! Nein\\n\\n\\n\\n2570 Reichstag. — 81. Sitzung. Dienstag den 23. Juni !025.\\n\\nName\\n2. 3. 4.\\n\\nAbstimmung\\n\\n5.\\n\\nSeger ..................... krank krank krank krank krank\\nSeibert................... Za Nein Nein Nein Za\\nSeidel........................ Nein Za Za Za Stein\\nSeiffert..................... — Nein Stein Nein Za\\nFrau Sender........... Nein Za Za Za Stein\\nSeppel..................... Nein Za Za Za Nein\\nSevering ............... krank krank krank krank krank\\nSeydewitz................ Nein Za Za Za Nein\\nSilberschmidt.......... Nein Za Za Za Nein\\nSiller (Württemberg). krank krank krank krank krank\\nSimon (Franken) ... Nein Za Za Za —\\nSimon (Schwaben).. Nein Za Za Za Nein\\nSinn....................... — — — — —\\nSollmann ........ Nein Za Za Za Stein\\nSonner..................... Za Nein Stein Za Nein\\nDr.-Jng. Sorge... beurl. beurl. beurl. beurl. beurl.\\nDr. Spahn (Berlin). — — — — —\\nDr. Spahn (Köln) .. — — — — —\\nSparrer................. Nein Za Za Za Nein\\nFrau v. Sperber ... Za Nein Stein Nein Za\\nDr. Spuler............. Za Nein Stein Nein Za\\n\\nStaab................... Nein Za Za Za Nein\\nStampfer............... Nein Za Za Za Nein\\nFrhr. v. Stausfenberg Za Nein Stein Stein Za\\nStegerwald............. Za Nein Nein Za Nein\\nFrau Dr. Stegmanu. Nein Za Za Za Nein\\nSteiger................... — — — —\\nDr. Steiniger.......... Za Nein Nein Nein Za\\nSteinkopf............... Nein Za Za Za Stein\\nStelling (Oppeln)... Nein Za Za Za Nein\\nStoecker................. Nein Za Za Za Stein\\nStöhr ................... Nein Stein Stein Stein Za\\nStraßer................. krank krank krank krank krank\\nD. Strathman» .... Za Nein Nein Nein Za\\nStrauß ................. Za Nein Stein Nein Za\\nDr. Stresemann .... — — —\\nStröbel................... Nein Za Za Za Stein\\nStrötzel................... --- ! —\\nStubbendorff.......... _____ ! Nein Nein Nein Za\\nStücklen.................. Nein! Za Za Za Nein\\n\\nTaubadel......... Nein Za Za Za Nein\\nFrau Teufel)............ Za Nein Nein Za Stein\\nThabor................... krank krank krank krank krank\\nThälmann............. — — — — —\\n\\nName\\n1. ? 2. 3. 4.\\n\\nAbstimmung\\n\\n! ^\\n! o.\\n\\nThiel ..................... Za\\n!\\n\\nNein Nein Ja\\nThomsen................. Za Stein Nein Stein Za\\nv. Tirpitz................. Nein Nein — ! —\\nTorgler.... .......... --- Za Za' Za ! Nein\\nTremmel ............... Za Stein Stein — ! Nein\\nTreviranus............. Za Stein Stein Stein ^ Za\\nTroßmann (Nürnberg) Za Stein Nein fiithciltenI Ja\\n\\nUlitzka................... Za Stein Nein Stein Stein\\nUlrich................... ! — - — —\\nUnterleitner ........... z Za Za i Nein\\nUrbahns ............... — _\\n\\nVierath................. Nein Za I Za Fa Nein\\nVogel..................... Stein Za ! Za ! Za Nein\\nVogt....................... Za Stein Stein ! Stein Za\\nVordemfelde........... krank krank krank krank !krank\\n\\nWallraf................. Za Stein Nein ! Stein Za\\nFrau Weber (Berlin) Za Stein Stein Za Stein\\nWeber (Düsseldorf) .. Stein Za Za Za Stein\\nWege..................... Za Stein Nein Stein Za\\nWegmann ............. Za Stein Stein Stein Stein\\nWeidenhöfcr........... Stein Nein Stein Stein Za\\nWels ................. Stein Za Za Za Stein\\nWendemuth............ Nein Ja Za Za ! Stein\\nDi-. Werner........... — — —\\nGraf v. Westarp ... — Nein Nein Nein ! Fa\\nWestermann........... Za Stein Nein Stein ! Za\\nWieber................... Za Stein Stein Za ! Stein\\nDr.-Fng. Wieland .. krank krank krank krank krank\\nDr. Wienbeck......... Za Nein Stein Stein Za\\nWillens................. Za Stein Nein Nein Stein\\nWinnefeld ............. Za Stein Stein Stein Za\\nDr. Wirth............. Za Stein Nein Za Stein\\nWissell................... Stein Za Za Za Stein\\nWolf (Oppeln)........ — — --- . — —\\nWolf (Stettin)........ beurl. beurl. beurl. beurl. beurl.\\nWormit................. Za Stein Nein Nein Za\\nDr. Wunderlich .... Za Stein Nein Stein Za\\nFrau Wurm............ Nein Za Ja Za Stein\\n\\nDr- Zapf............... Za Nein Nein Nein\\nFrau Zetkin .......... — — ---! — .—\\nZiegler................... Nein - Za Za ! Za Stein\\nZubeil..................... Nein Za I Za ! Za Stein\\n\\nZusammenstelln»!, »«inseitig.\\n\\n\\n\\nReichstag. — 81. Sitzung. Dienstag den 23. Juni 1925.\\n\\nZusammenstellung.\\n\\n1. Abstimmung. s. Abstimmung.\\nAbgegebene Stimmzettel................... 358 Abgegebene Stimmzettel 369\\nUngültig........................................... 5 Ungültig. ................................... 4\\n\\nBleiben gültig. . . 353 Bleiben gültig. . 365\\n\\nDavon: Davon:\\nJa ........................................... - 195 Ja............................................ . 146\\nNein......................................... . 158 Nein........................................ . . 218\\nDer Abstimmung enthalten. . . . -- Der Abstimmung enthalten... 1\\n\\nSumme wie oben. Summe wie oben.\\n\\nS. Abstimmung. 4. Abstimmung:\\nAbgegebene Stimmzettel . 367 Abgegebene Stimmzettel................... 368\\nUngültig ........................................... 1 Ungültig .......................................... 6\\n\\nBleiben gültig .. 366 Bleiben gültig .. . 362\\n\\nDavon: Davon.\\nJa............................................ 147 Ja .......................................... 181\\nNein........................................... 219 Nein......................................... 179\\nDer Abstimmung enthalten . — Der Abstimmung enthalten . . 2\\n\\nSumme wie oben. Summe wie oben.\\n\\n5. Abstimmung:\\nAbgegebene Stimmzettel.....................  362\\nUngültig....................................  2\\n\\nBleiben gültig. 360\\n\\nDavon:\\nIa..............................................  171\\nNein........................................... 189\\nDer Abstimmung enthalten\\n\\nSumme wie oben.\\n\\n2571\\n\\nDruck und Berlag der Neichsdruckerei, Berlin SW\\n\\n\\n\\n\\n\""
      ]
     },
     "execution_count": 8,
     "metadata": {},
     "output_type": "execute_result"
    }
   ],
   "source": [
    "raw['content']"
   ]
  },
  {
   "cell_type": "code",
   "execution_count": 9,
   "metadata": {},
   "outputs": [],
   "source": [
    "xml=parser.from_file(file, xmlContent=True)"
   ]
  },
  {
   "cell_type": "code",
   "execution_count": 11,
   "metadata": {},
   "outputs": [
    {
     "data": {
      "text/plain": [
       "'<html xmlns=\"http://www.w3.org/1999/xhtml\">\\n<head>\\n<meta name=\"pdf:PDFVersion\" content=\"1.4\" />\\n<meta name=\"X-Parsed-By\" content=\"org.apache.tika.parser.DefaultParser\" />\\n<meta name=\"X-Parsed-By\" content=\"org.apache.tika.parser.pdf.PDFParser\" />\\n<meta name=\"access_permission:modify_annotations\" content=\"true\" />\\n<meta name=\"access_permission:can_print_degraded\" content=\"true\" />\\n<meta name=\"access_permission:extract_for_accessibility\" content=\"true\" />\\n<meta name=\"access_permission:assemble_document\" content=\"true\" />\\n<meta name=\"xmpTPg:NPages\" content=\"8\" />\\n<meta name=\"resourceName\" content=\"Sample roll call vote PDF_multiple columns[2].pdf\" />\\n<meta name=\"dc:format\" content=\"application/pdf; version=1.4\" />\\n<meta name=\"access_permission:extract_content\" content=\"true\" />\\n<meta name=\"access_permission:can_print\" content=\"true\" />\\n<meta name=\"access_permission:fill_in_form\" content=\"true\" />\\n<meta name=\"pdf:encrypted\" content=\"false\" />\\n<meta name=\"access_permission:can_modify\" content=\"true\" />\\n<meta name=\"Content-Type\" content=\"application/pdf\" />\\n<title></title>\\n</head>\\n<body><div class=\"page\"><p />\\n</div>\\n<div class=\"page\"><p />\\n<p>2566 Reichstag. — 81. Sitzung. Dienstag den 26. Juni 1925.\\n</p>\\n<p>Namentliche Abstimmungen\\nin der 81. Sitzung am Dienstag den 23. Juni 1925\\n</p>\\n<p>1. über den Antrag des 9. Ausschusses (Soziale Angelegenheiten) — Nr. 937 Ziffer 1 der Drucksache» — aus \\nAblehnung des Antrags Müller (Franken) und Genossen, betreffend den Entwurf eines Gesetzes zur Verlängerung \\nder Dauer der Erwerbslosennnterstützung im besetzten Gebiet — Nr. 917 der Drucksachen —\\n</p>\\n<p>2. über Artikel 1 Ziffer 4 des Entwurfs eines Gesetzes zur Änderung der Pachtschutzordnung vom 9. Zuni 1926 \\n(Reichsgesetzbl. S. 1193) — Nr. 928 der Drucksachen —\\n</p>\\n<p>3. über die Änderungsanträge Müller (Frauken) und Genossen — Nr. 943 der Drucksachen — und Ronneburg, \\nKoch-Weser und Genossen — Nr. 1037 der Drucksachen — zur zweiten Beratung des vom 11. Ausschuß \\nbeantragten Entwurfs eines Gesetzes zur Änderung der Pachtschutzorduuug — Nr. 928 der Drucksachen —\\n</p>\\n<p>4. über den Änderungsantrag Ronneburg, Koch-Weser und Genossen — Nr. 1037 Ziffer 3 der Drucksachen — \\nzur zweiten Beratung des vom 11. Ausschuß beantragten Entwurfs eines Gesetzes zur Änderung der Bacht- \\nschutzordnnng — Nr. 928 der Drucksachen —\\n</p>\\n<p>5. über den handschriftlichen Antrag Henning unter 6 zur zweiten Beratung des vom 11. Allsschuß beantragten \\nEntwurfs eines Gesetzes zur Änderung der Bachtschntzordnung — Nr. 928 der Drucksachen —.\\n</p>\\n<p>Name\\nl. l 2. ! 4.\\n</p>\\n<p>Abstimmung\\n5.\\n</p>\\n<p>Adams ................. Za Nein Nein Nein Za\\nFrau Agnes... . . . . . . . . . krank krank krank krank krank\\nAlbrecht................. — — — — - -\\nAllekotte ................. — Nein Nein Nein Nein\\nAlpers................... krank krank krank krank krank\\nAndre ................... Za Nein Nein Za Plein\\nFrau Ansorge... . . . . . . . Nein Za Ja Za Nein\\nFrau Arendsee.... . . . . Nein Za Ja Za . -\\nFrau Arni,lg.... . . . . . . Nein Za Ja ! Za Nein\\nAllfhäuscr............... Nein Za Ja Za Nein\\n</p>\\n<p>Wachmann............. Za ! Nein Nein - Plein Za\\nBachmeier............... - - ! — - ^\\nBaecker (Berlin) .... — Nein Nein Nein Za\\nBader..................... Nein Za Za Za\\nFrau Bartels.... . . . . . . —\\nDr. Barth............. Za Nein Nein Nein Za\\nBartschat............... Nein Ha Za Za Nein\\nFrau Dr. Bäunier .. Nein Za Za ! Za Nein\\nDr. Bayersdörfer... Za Nein Nein ^ Plein Za\\nBazille................. — — - -\\nBeck (Oppeln).... . . . . . . --  ^ Nein Nein Nein Za\\nBecker (Arnsberg)... Za Nein Nein Za Nein\\nDr. Becker (Hessen). . Za Nein Nein Nein Za\\nBecker (Herborn).... Nein Za Za Za ! Plein\\nFrau Dr. Beym... krank krank krank krank ^ krank\\nBehrens................. Za Nein Nein Za Za\\nBeier (Dresden).... Nein Nein Plein!\\nDr. Bell................. Za Nein - Nein Plein Nein\\nBender................... Nein Za Za Za Nein\\nDr. Bergsträßer .... Nein! Za Ja Za ! Nein\\nBerudt...... . . . . . . . . . . . . . Za ! Nein Nein Nein Za\\nBernstein............... Nein Ja Ja Za ^ Plein\\nGraf v. Bernstorff.. Nein l Za Za Za ! Nein\\n</p>\\n<p>Name\\ni. 2. 3 4.\\n</p>\\n<p>Abstimmung\\n5.\\n</p>\\n<p>Bertz ..................... Za Za j Za Plein\\nDr. Best................. Nein Plein Plein Nein ! Za\\nDr. Bensch............. Za Plein Plein Plein Plein\\nBeythien................. krank krank krank krank krank\\nBickes..................... Za Plein Nein Nein Za\\nBimer... . . . . . . . . .. Za Nein Nein ! Nein Za\\nBiester................... Nein Za Za ^ Za Nein\\nFürst Bismarck.... . . . . Za Nein Plein Nein Za\\nBlum..................... Za Nein Nein Plein Za\\nBock....................... Plein Za Za Za Nein\\nDr. Bockius........... Za i Plein ^ Plein Za Nein\\nBohla..................... krank krank krank krank krank\\nFrau Bvbul-Schnch . Nein Za Za Za Plein\\nBolz.. .. . .... . . . . . . . . . . . . . Za Nein Plein Plein Za\\nBornefeld-Ettmaim.. Za Plein Plein Nein Za\\nBorrmaim............. Nein Nein Nein Za\\nBossen...................\\nBraun (Düsseldorf) .\\n</p>\\n<p>krank krank krank krank krank\\nNein\\n</p>\\n<p>Dr. Braun (Franken) \\nDr. Brauns (München-\\n</p>\\n<p>Plein Za Za Za Plein\\n</p>\\n<p>Gladbach) ... . . . . . . . . . Za Plein Plein Za Nein\\nD. Dr. Dr. Brcdt... Za i Plein Nein Nein Za\\nDr. Breitscheid....... Nein j Za . Za Za Plein\\nBrekelbaum ........... Za Plein Plein Plein Za\\nBrev ..................... Plein ^ Za Za Za Plein\\nBrodauf................. Nein? Za 2a , Za Nein\\nBrühn................... Za Nein Plein Plein Za\\nDr. Brüning.... . . . . . . Za Plein Nein Za Nein\\nBrüninghans......... Za Nein Plein Nein Za\\nBuchholz.................\\nBttchlnaim.............\\n</p>\\n<p>Nein Nein Nein Nein\\n</p>\\n<p>Bilchwiß.................\\nBudjuhn.................\\nBütt.......................\\n</p>\\n<p>Plein! Za Za ! Za Nein\\nZa Nein Plein i Plein Za\\n</p>\\n<p>Bülow .... . . . . . . . . . . . . . . . . Nein Za Za Plein</p>\\n<p />\\n</div>\\n<div class=\"page\"><p />\\n<p>Reichstag. — 8l. Sitzung. Dienstag dm 23. Juni 192ü. 2567\\n</p>\\n<p>Name\\n1. ! 2. 3. ! 4.\\n</p>\\n<p>Abstimmung\\n</p>\\n<p>! 5.\\n</p>\\n<p>Cramm........................ 3« Nein Nein Stein Za\\nDr. Cremer................ 3« Nein Nein Nein Ja\\nCreutzbnrg ................... Nein Ja Ja Ja Stein\\nCrispien........................ Nein Za Ja Ja Nein\\nOe. Crone-Münzebrock Ja Nein Nein Stein Ja\\nDr. Curtins................ — — — — —\\n</p>\\n<p>Damnt........................... Ja Nein Nein Nein Za\\nDauch (Hamburg) .. Ja — — — —\\nDauer ........................... Ja Nein Stein Ja Nein\\nDr. David................... Nein Ja Ja Ja Nein\\nDenqel........................... — — —\\n</p>\\n<p>NeinDr. Derirburg............. Nein - - Za Ja\\nDr. Dessauer................ Za Nein Nein Ja Nein\\nv. Dewitz (Stettin).. Ja Nein Stein Nein Ja\\nDiernreiter................... — — —\\n</p>\\n<p>Dietrich (Baden) . . . Nein Ja Za Ja\\nNein\\n</p>\\n<p>Nein\\nDietrich (Frauken) . . Nein Nein Nein Za\\nDietrich (Prenzlau). . beurl. beurl. beurl. beurl. beurl.\\nDietrich (Thüringen). — — — — -\\nDietze............................. — — — — —\\n</p>\\n<p>Diez................................ Ja Nein Nein Nein Ja\\nDißmann ..................... Nein Za\\n</p>\\n<p>Ja NeinDittmann..................... Nein Ja Ja\\nDöbrich........................ Za Nein Stein Ja Ja\\nDomsch (Dresden) .. Ja Nein Nein Stein Ja\\nDorsch (Hessen) .... Ja Nein Nein Nein Ja\\nDrewitz (Berlin).... Ja Nein Neu: Nein Za\\nDr. v. Dryander ... Ja Nein Nein Nein Ja\\nDunkel........................... Ja Nein Nein Stein Ja\\n</p>\\n<p>Eggers ........................ krank krank krank krank krank\\nEggerstedt..................... Nein Ja Ja Ja Stein\\nEhrhardt ..................... Za Nein Nein Ja Nein\\nEichhorn........................ Nein Ja Ja Za Nein\\nEisenberger...........-.. Za Nein Nein Nein Ja\\nDr. Ellenbeck............ . Ja Nein Stein Nein Ja\\nEmminger..................... Ja Nein Stein Nein Ja\\nEügberding................... Ja Nein Stein Nein Ja\\nErkelenz ........................ beurl. beurl. beurl. beurl. beurl.\\nErsing............................. Ja Nein Nein Ja Nein\\nEsser................................ Za Nein Nein Nein Nein\\nGraf zu Eulenburg - Ja Nein Stein Nein Ja\\nDr. Everling................ Ja Nein Nein Nein Ja\\n</p>\\n<p>Feder............................. Nein Nein Nein enthalten Ja\\nFehr................................ Ja Nein Nein Nein Ja\\nFehrenbach.................. Za Nein Nein Nein Stein\\nFeilmayr........................ Nein Nein Nein Ja\\nFeldmann..................... krank krank krank krank krank\\nFerl................................ Nein Ja Ja Ja Stein\\nFindeisen . . . .............. Ja Nein Nein Nein Za\\nFischbeck........................ Nein Ja Ja Ja Stein\\nFischer (Berlin)........... Nein Ja Ja Za Nein\\nDr. Fischer (Köln) .. Nein — — — —\\n</p>\\n<p>Fleischer........................ Nein Ja Za Ja Nein\\nFlorin ...........................\\nDr. Frhr. v. Freytagh-\\n</p>\\n<p>krank krank krank krank krank\\n</p>\\n<p>Loringhoven........... Za Nein Nein Nein Ja\\nDr. Frick ..................... Nein Nein Nein Nein Za\\nFrölich.......................... Nein Za Ja Ja Nein\\nFromm........................... Ja Stein Nein Ja Ja\\n</p>\\n<p>Name\\ni. 2. 3. 4.\\n</p>\\n<p>Abstimmung\\n</p>\\n<p>I 5.\\n</p>\\n<p>Geck (Mannheim)... krank krank krank krank krank\\nGeisler........................... — Nein Nein Nein Ja\\nGerauer........................ Za Nein Nein Nein Ja\\nDi-. Gereke................... Za Nein Nein Nein Za\\nGerig............................. Ja Nein Nein Ja Stein.\\nGeschke........................... Ja Ja Ja Nein\\nGiebel.............................. krank krank krank krank krank\\nGiesberts..................... Ja Nein Nein Ja Nein\\nGiese................................ krank krank krank krank krank\\nDr. Gildemeister .... Za Nein Nein Nein Za\\nGok................................ Za Nein Nein Nein Ja\\nv. Goldacker................ Za Nein Stein Nein Za\\nFrau Golke................ Nein — — — — .\\nDr. Goch..................... Nein Ja Ja Za Nein\\nGraes (Thüringen) .. Za Stein Nein Stein Ja\\nv.Graefe(Mecklenbnrg) Nein Nein Stein Ja\\nGraschiann................... — — — —\\n</p>\\n<p>NeinGroß ............................. Ja Nein Nein Za\\nv. Giwrard................... Ja Nein Nein Nein Ja\\n</p>\\n<p>Haag............................. Za Nein Nein Nein Ja\\nDr. Haas (Baden) . . Nein Ja Ja Za Nein\\nDr. Haedenkamp.... Za Nein Nein Stein Ja\\nHarnkens........................ Za Nein Nein Stein Ja\\nHampe........................... Ja Nein Nein Stein Ja\\nDr. Hanemann..... Ja Stein Nein Stein Ja\\nHänse (Thüringen) .. Ja Nein Nein Stein Ja\\nHarmony..................... Ja Nein Nein Nein Ja\\nHartmann.................... Ja Nein Nein Nein Ja\\nHartwig........................ Ja Stein Nein Ja Ja\\nHavemann.................. — — — —\\n</p>\\n<p>Heckert........................... — — — — —\\n</p>\\n<p>Heimann........................ Nein Za Za Za Nein\\nDr. Heinze................... Ja Nein &gt; Nein Stein Za\\nHelling (Weser)........... krank krank krank krank krank\\nHemeter........................ beurl. beurl.! beurl. beurl. beurl.\\nHenke............................. Nein Ja ! Za Ja Nein\\nHenning........................ Nein Nein Nein Nein Za\\nHensel (Ostpreußen).. — — — — -------\\nSepp................................ — — — — ------- ,\\nHerbert.......................... Ja Nein Nein Nein Ja\\nHergt............................. Za Nein Nein Nein Za\\nHerold.......................... Za Nein i Nein Nein Nein\\nDr. Hertz..................... Nein Za ! Za Za Nein\\nDr. Heuß..................... Nein -------- ! — —\\n</p>\\n<p>NeinHildenbrand................ Nein Ja ! Za Ja\\nDr. Hilferdinq........... Nein Ja ! Za Ja Nein\\nHoch................................ Nein Ja ! Ja Ja Nein\\nDr. Hoff........................\\nHoffmann (Kaisers\\xad\\n</p>\\n<p>------- &gt;\\n</p>\\n<p>Neinlautern) ..................... Nein Ja Ja Ja\\nHofmaun (Köln).... \\nHofmann (Ludwigs\\xad\\n</p>\\n<p>Ja Nein j Nein Stein Ja\\n</p>\\n<p>hafen)................ Za Nein Nein Za Nein\\nHöllein..................... Nein Ja Za Ja Nein.\\nHolzamer................... Ja Stein ^ Stein Nein Za .\\nDr. ten Hompel .... — ^ — —\\nDr. Horlachcr. - - Za Nein Nein Stein Ja .\\nHoernle. ......... Stein Ja ^ Za Za- Stein,\\nDr. Hoetzsch------ ... Ja i --- - — —\\n</p>\\n<p>JaDr. Hugeuberg ... .. Fa (Nein! Nein, Nein</p>\\n<p />\\n</div>\\n<div class=\"page\"><p />\\n<p>2568 Reichstag. — 81. Sitzung. Dienstag den 23. Juni 1925\\n</p>\\n<p>Name\\n1. 2. 3. 4.\\n</p>\\n<p>Abstimmung\\n5.\\n</p>\\n<p>Dr. Hugo.................. krank krank krank krank krank\\nHuke ......................... Za Nein Nein Za Nein\\nHülser......................... Za Nein Nein Za Za\\nDr.-Ing. Hummel... — — — — —\\nHünlich....................... Nein Za Za Za Nein\\nHusemauu.................. Nein Za Za Za Nein\\nHüttmann.................. Nein Za Za Za Nein\\n</p>\\n<p>Jmbusch.................... krank krank krank krank krank\\n</p>\\n<p>Jäcker ....................... — ------ . — — - -\\nJacobshagen.............. Nein Za Za Za Nein\\nJadasch.................... Nein Za Za Za Nein\\nJandrey.................... — Nein Nein Nein Za\\nJanschek.................... Nein Za Za Za Nein\\nJanson....................... krank krank krank krank krank\\nJoos........................... Za Nein Nein Za Nein\\nDr. Jöriffen.............. Za Nein Nein Nein Za\\nFrau Juchacz........... Nein — — Za Nein\\nJulier......................... — — — — —\\nJunke......................... Nein Za Za Za Nein\\n</p>\\n<p>Dr. Kaas (Trier)... Za Nein Nein Nein Nein\\nv. Dr. Kahl.............. beurl. beurl. beurl. beurl. beurl.\\nDr. Kalle.................. Za Nein Nein Nein Za\\nKaltenecker................ Za Nein Nein Nein Za\\nv. Kardorff................ — — —\\nKarsten....................... beurl. beurl. beurl. beurl. beurl.\\nKatz........................... — — --- — —\\nKeil........................... Nein Za Za Za Nein\\nKeinath .................... Za Nein Nein Nein Za\\nv. Kemnitz.................. Za Nein Nein Nein Za\\nKempkes.................... Za Nein — — —\\nKenzler....................... Nein — — — —\\nKerp........................... Za Nein Nein Nein Za\\nKerschbaum................ Za Nein Nein Nein Za\\nDr. v. Keudell ..... Za Nein Nein Nein Za\\nKirschmann .............. Nein Za Za Za Nein\\nKling......................... — Nein Nein Nein Za\\nKlingspor.................. — — — —\\nDr. Klöckner.............. Za Nein Nein Nein Nein\\nDr.-Ing. Klönne.... Nein Nein Nein Za\\nKnoll......................... Za Nein Nein Za Nein\\nKoch (Düffeldorf)... Za Nein Nein Za Za\\nKoch (Essen).............. Za Nein Nein Za Nein\\nKoch-Weser................ Nein Za Za Za Nein\\nKoenen....................... — ---- —\\nKoenig (Düsseldorf) . — — — — —\\nKönig (Westfalen)... — Za Za Za Nein\\nKopsch ....................... Nein Za Za Za Nein\\nKorell......................... entsch. entsch. entsch. entsch. entsch.\\nKörner....................... Za Nein Nein Nein Za\\nDr. Korsch................ — — —\\nKotzke......................... — — —- — —\\nKrätzig....................... Nein Za Za Za Nein\\nKröger (Rostock).... Nein Za Za Za Nein\\nKrüger (Merseburg) . Nein Za Za Za Nein\\nKube........................... Nein Nein Nein Nein Za\\nKuhnt......................... Nein Za Za Za Nein\\nDr. Kulenkampff----- — Za\\n</p>\\n<p>Name\\n1- 2. 3. 4.\\n</p>\\n<p>Abstimmung\\n5.\\n</p>\\n<p>Dr. Külz.................... -\\nKünstler.................... Nein Za Za Za Nein\\n</p>\\n<p>Lambach....................\\nLammers ..................\\n</p>\\n<p>— — — —\\n</p>\\n<p>Landsberg.................. Nein Za Za Za , Stein\\nLang ......................... Za Nein Nein Nein Za\\nFrau Lang-Brumann Za Nein Nein Nein Za\\nLange-Hegermann... — — — —-\\nLaufkötter.................. Nein Za Za Za Nein\\nLaverrenz.................. Za Stein Stein Nein Za\\nI)r. Leber.................. — — Ja Nein\\nLeicht......................... Za Nein Nein Nein Za\\nDr. Lejeune-Jung ... Za Nein Stein Nein Za\\nLemmer....................... — — — — —\\nLeopold....................... Za Nein Nein Nein Za\\nGraf v. Lerchenfeld.. — — — — —\\nLeutheußer................ — — — -— —\\nDr. Levi.................... — — — — —\\nLimbertz.................... Nein Za Za Za Nein\\nLind........................... Za Nein Nein Nein Za\\nv. Lindeiner-Wildau . Za Nein Nein Nein Za\\nLipinski .................... Nein Za Za Za Nein\\nLöbe........................... Nein Za Za Za Nein\\nLogemann (Hannover) Za Nein Nein Nein Za\\nLohmann (Altona) .. Za Nein Nein Nein Za\\nLoibl ....... ................. Za Nein Nein Nein Za\\nDr. Löwenstein......... Nein Za Za Za Nein\\nLübbring .................. krank krank krank krank krank\\nLucke ......................... Za Nein Nein Nein Za\\nLudendorff................ — — --\\nFrau Dr. Lüders ... krank krank krank krank krank\\nLudwig...................... Nein — — — —\\n</p>\\n<p>Martin...........\\nMarx......................... Za Nein Nein Za Nein\\nFrau Dr. Matz......... — — — — —\\nMeier (Baden)......... — — — --- —\\nFrau Mende.............. Za — — — —\\nMentzel....................... Za Nein Nein Nein Za\\nMerck......................... Za Nein Nein Nein Za\\nGraf v. Merveldt... — — —\\nMeyer (Berlin)......... Nein Za Za Za Nein\\nMeyer (Franken).... Nein Za Za Za Nein\\nMeyer (Hannover) .. Za Nein Nein Nein Za\\nDr. Mittelmann .... Za Nein Nein Nein Za\\nDr. Moldenhauer . - - Za Nein Nein Nein Za\\nMollath.................... Za Nein Nein Nein Za\\nMorath .................... Za Nein Nein Nein Za\\nOr. Moses................ Nein Za Za Za Nein\\nDr. Most.................. — — — — —\\nMüller (Franken) ... Nein Za Za Za Nein\\nFrau Mueller-Otfried beurl. beurl. beurl. beurl. beurl.\\nD. Mumm................ — — — — —\\nMünzenberg.............. Nein Za Za — - -\\n</p>\\n<p>Neddermeyer........... — — —\\nFrau Nemitz.............. Nein Za Za Za Nein\\nNeubauer.................. Nein Za Za Za Nein\\nNeuhaus (Düss eldorf). krank krank krank krank krank</p>\\n<p />\\n</div>\\n<div class=\"page\"><p />\\n<p>2569Reichstag. — 8t. Sitzung. Dienstag den 23. Juni 1925.\\n</p>\\n<p>Name\\n1. 2. 3. 4. I\\n</p>\\n<p>Abstimmung\\n5.\\n</p>\\n<p>Frau Neuhaus (West\\xad\\nfalen) ................. Ja Nein Nein Za ! Stein\\n</p>\\n<p>Neumann............... Ja Nein Nein Nein! Za\\nNevses .... /.......... Nein Nein Nein Za\\nNientimp ............... — — — — —\\nNolte..................... Za Nein Nein Nein Za\\nNowack ................. Nein Za Za Za Stein\\nObmdiek............... Nein Za Za Za Nein\\nDr. Oberfohren .... Za Nein Nein Nein Za\\nOhler......................... Ja Nein Nein Nein Za\\nPaeth ....................... Za Nein Nein Nein Za\\nPassehl................... Nein Za Za Za Nein\\nPeine......................... Nein Za Za Za Nein\\nPennemann............ — —\\n</p>\\n<p>Nein\\n— —\\n</p>\\n<p>Dr. Perlitius.......... Za Nein Nein Za\\nPeters ................... Nein Za Za Za Nein\\nPetzold................... Za Nein Stein Nein Za\\nDr. Pfeffer............. Za Nein Nein Nein Za\\nPfeiffer................... — —\\n</p>\\n<p>beurl.\\n— —\\n</p>\\n<p>Dr. Pfleger............ beurl. beurl. beurl. beurl.\\nFrau Pfülf............ Nein Za Za Za j Nein\\nDr. Philipp............ Za Nein Nein Nein Za\\nDr. Do. Preyer .... Za Nein Nein Nein Za\\nPutz....................... Nein Za Za Za Nein\\nDr. Duaatz........... Za Nein Stein Nein Za\\nDr. Queffel ............ Nein Za Za ! Za Nein\\nRädel..................... Nein Za Za Za Nein\\nDr. Rademacher .... Za Nein Stein Nein —\\nv. Ramin............... Nein Nein Nein Nein Za\\nDr. Raschig........... Nein Za Za Za Nein\\nRauch (München)... Za Nein Nein Nein Za\\nv. Raumer............. — Nein Nein Nein Za\\nDr. Reichert............ Za Nein Nein Nein Za\\nFrau Reitze........... Nein Za Za Za Nein\\nRemmele................. — — — ! --- —\\nGraf zu Reventlow. Nein Nein Nein Nein Za\\nFrhr. v. Rheinbaben. — — — Nein Za\\nRheinländer............ Za Nein Nein Za Nein\\nRichter................... beurl. beurl. beurl. beurl. beurl.\\nFrhr. v. Richthofen \\n</p>\\n<p>(Breslau) ....... Za Nein Nein Nein Za\\nFrhr. v. Richthofen \\n</p>\\n<p>(Hannover)......... Nein Za Za ! Za Nein\\nRieseberg............... Za Nein Nein Nein Za\\nDr. Riester............. Za Nein Nein Nein Za\\nNippel................... Za Nein Nein Nein Za\\nRöder (Baden)........ krank krank krank krank krank\\nRöder (Franken).... Za Nein Nein Nein Za\\nRönneburg............. Nein Za Za Za Nein\\nRosenbaum............. Nein Za Za ^ Za Nein\\nDo. Rosenberg........ — — — ! — —\\nDr. Rosenfeld......... Nein Za Za Za Nein\\nDr. Roß................. Za Nein Nein Za Nein\\nRoßmann (Württem- \\n</p>\\n<p>berg)................... Nein Za Za Za Nein\\nDr. Runkel.......... Za Nein Nein Nein Za\\nSachs ................... Za Nein Nein Nein Za\\nSaenger................. — — —\\nSaupe................... Nein Za Za\\n</p>\\n<p>Name 1-\\n2. 3. 4.\\n</p>\\n<p>Abstimmung\\n5.\\n</p>\\n<p>Schaffner............... Nein Za Za Za Nein\\nFrau Scheidet.......... Za Nein Nein Nein Za\\nScheidemann........... krank krank krank krank krank\\nDr. Schetter............ Za Nein Nein Nein Za\\nSchiele ................. Za Nein Nein Nein Za\\nFrau Schiffgens .... Nein Za Za Za Nein\\nSchiller (Hannover).. Nein Za Za Za Nein\\nFrau Schilling ..... Nein Za Za Za Nein\\nSchirmer (Dresden) . Nein Za Za Za Nein\\nSchirmer (Franken).. Za Za enthalten Za Nein\\nSchlack................... - - — — — —\\nSchlagewerth ..... krank krank krank krank krank\\nSchlange................. — — — — —\\nSchlecht................. — — — —\\n</p>\\n<p>NeinSchlicke................... Nein Za Za Za\\nSchlüter................. Nein Za Za Za Nein\\nSchmidt (Berlin) ... Nein Za Za Za Nein\\nSchmidt (Cöpenick).. Nein Za Za Za Stein\\nSchmidt (Hannover). Za Stein Stein Nein Za\\nSchmidt (Hirschberg). Za Nein Nein Nein Za\\nSchmidt (Meißen).. - Nein Za Za Za Nein\\nSchmidt (Stettin)... Za Nein Nein Nein Za\\nSchnabrich............. Nein Za Za Za Nein\\nDr. Schnee............. beurl. beurl. beurl. beurl. beurl.\\nSchneider (Berlin)... Nein Za Za Za Nein\\nDr. Schneider \\n</p>\\n<p>(Dresden)........... Za Nein Nein Nein --------\\nDr. Schneider \\n</p>\\n<p>(Thüringen)........ Nein Nein Nein z Za\\nSchneller............... — — —\\n</p>\\n<p>Za NeinScholem................. Nein Za Za\\nDr. Scholz.............. Za Nein Nein Nein Za\\nSchöpflin............... Nein Za Za Za Nein\\nFrau Schott............ Za Nein Nein Nein Za\\nSchreck................... Nein Za Za Za Nein\\nD. Dr. Schreiber .. . Za Nein Nein Nein Nein\\nSchröder (Mecklen- \\n</p>\\n<p>bürg)................. krank krank krank krank krank\\nFrau Schroeder \\n</p>\\n<p>(Schleswig-Holstein) Nein Za Za Za Nein\\nSchröter (Liegnitz).. - Za Nein Nein Nein Za\\nDr. Schücking ........ Nein Za Za Za Nein\\nSchuldt (Steglitz) .. . Nein Za Za Za Nein\\nGraf v. d. Schulenburg Za Nein Nein Nein Za\\nSchulte (Breslau)... Za Nein Nein Nein Nein\\nSchultz (Bromberg).. Za Nein Nein Nein Za\\nSchulz (Bremen)---- Nein Za Za Za Nein\\nSchulz-Gahmen........ — — —\\n</p>\\n<p>Za\\n—\\n</p>\\n<p>Schulz (Königsberg). Nein Za Za Nein\\nFrau Schulz (West\\xad\\n</p>\\n<p>falen) ................. Nein Za Za Za Nein\\nSchulze (Frankfurt).. Za Nein Nein Nein ! Za\\nSchumann (Frankfurt) — — — — —\\nSchumann (Stettin). — — —\\n</p>\\n<p>Za NeinSchurig................. Nein Za Za\\nSchütz ................... — Za Za — Nein\\nSchwan................. — — — — —\\nDr. Schwarz (Berlin) Nein\\n</p>\\n<p>Nein Za NeinSchwarz (Frankfurt). Ja Nein\\nSchwarzer (Ober\\xad\\n</p>\\n<p>bayern) ............... Za Nein Nein Za ! Nein</p>\\n<p />\\n</div>\\n<div class=\"page\"><p />\\n<p>2570 Reichstag. — 81. Sitzung. Dienstag den 23. Juni !025.\\n</p>\\n<p>Name\\n2. 3. 4.\\n</p>\\n<p>Abstimmung\\n</p>\\n<p>5.\\n</p>\\n<p>Seger ..................... krank krank krank krank krank\\nSeibert................... Za Nein Nein Nein Za\\nSeidel........................ Nein Za Za Za Stein\\nSeiffert..................... — Nein Stein Nein Za\\nFrau Sender........... Nein Za Za Za Stein\\nSeppel..................... Nein Za Za Za Nein\\nSevering ............... krank krank krank krank krank\\nSeydewitz................ Nein Za Za Za Nein\\nSilberschmidt.......... Nein Za Za Za Nein\\nSiller (Württemberg). krank krank krank krank krank\\nSimon (Franken) ... Nein Za Za Za —\\nSimon (Schwaben).. Nein Za Za Za Nein\\nSinn....................... — — — — —\\nSollmann ........ Nein Za Za Za Stein\\nSonner..................... Za Nein Stein Za Nein\\nDr.-Jng. Sorge... beurl. beurl. beurl. beurl. beurl.\\nDr. Spahn (Berlin). — — — — —\\nDr. Spahn (Köln) .. — — — — —\\nSparrer................. Nein Za Za Za Nein\\nFrau v. Sperber ... Za Nein Stein Nein Za\\nDr. Spuler............. Za Nein Stein Nein Za\\n</p>\\n<p>Staab................... Nein Za Za Za Nein\\nStampfer............... Nein Za Za Za Nein\\nFrhr. v. Stausfenberg Za Nein Stein Stein Za\\nStegerwald............. Za Nein Nein Za Nein\\nFrau Dr. Stegmanu. Nein Za Za Za Nein\\nSteiger................... — — — —\\nDr. Steiniger.......... Za Nein Nein Nein Za\\nSteinkopf............... Nein Za Za Za Stein\\nStelling (Oppeln)... Nein Za Za Za Nein\\nStoecker................. Nein Za Za Za Stein\\nStöhr ................... Nein Stein Stein Stein Za\\nStraßer................. krank krank krank krank krank\\nD. Strathman» .... Za Nein Nein Nein Za\\nStrauß ................. Za Nein Stein Nein Za\\nDr. Stresemann .... — — —\\nStröbel................... Nein Za Za Za Stein\\nStrötzel................... --- ! —\\nStubbendorff.......... _____ ! Nein Nein Nein Za\\nStücklen.................. Nein! Za Za Za Nein\\n</p>\\n<p>Taubadel......... Nein Za Za Za Nein\\nFrau Teufel)............ Za Nein Nein Za Stein\\nThabor................... krank krank krank krank krank\\nThälmann............. — — — — —\\n</p>\\n<p>Name\\n1. ? 2. 3. 4.\\n</p>\\n<p>Abstimmung\\n</p>\\n<p>! ^\\n! o.\\n</p>\\n<p>Thiel ..................... Za\\n!\\n</p>\\n<p>Nein Nein Ja\\nThomsen................. Za Stein Nein Stein Za\\nv. Tirpitz................. Nein Nein — ! —\\nTorgler.... .......... --- Za Za\\' Za ! Nein\\nTremmel ............... Za Stein Stein — ! Nein\\nTreviranus............. Za Stein Stein Stein ^ Za\\nTroßmann (Nürnberg) Za Stein Nein fiithciltenI Ja\\n</p>\\n<p>Ulitzka................... Za Stein Nein Stein Stein\\nUlrich................... ! — - — —\\nUnterleitner ........... z Za Za i Nein\\nUrbahns ............... — _\\n</p>\\n<p>Vierath................. Nein Za I Za Fa Nein\\nVogel..................... Stein Za ! Za ! Za Nein\\nVogt....................... Za Stein Stein ! Stein Za\\nVordemfelde........... krank krank krank krank !krank\\n</p>\\n<p>Wallraf................. Za Stein Nein ! Stein Za\\nFrau Weber (Berlin) Za Stein Stein Za Stein\\nWeber (Düsseldorf) .. Stein Za Za Za Stein\\nWege..................... Za Stein Nein Stein Za\\nWegmann ............. Za Stein Stein Stein Stein\\nWeidenhöfcr........... Stein Nein Stein Stein Za\\nWels ................. Stein Za Za Za Stein\\nWendemuth............ Nein Ja Za Za ! Stein\\nDi-. Werner........... — — —\\nGraf v. Westarp ... — Nein Nein Nein ! Fa\\nWestermann........... Za Stein Nein Stein ! Za\\nWieber................... Za Stein Stein Za ! Stein\\nDr.-Fng. Wieland .. krank krank krank krank krank\\nDr. Wienbeck......... Za Nein Stein Stein Za\\nWillens................. Za Stein Nein Nein Stein\\nWinnefeld ............. Za Stein Stein Stein Za\\nDr. Wirth............. Za Stein Nein Za Stein\\nWissell................... Stein Za Za Za Stein\\nWolf (Oppeln)........ — — --- . — —\\nWolf (Stettin)........ beurl. beurl. beurl. beurl. beurl.\\nWormit................. Za Stein Nein Nein Za\\nDr. Wunderlich .... Za Stein Nein Stein Za\\nFrau Wurm............ Nein Za Ja Za Stein\\n</p>\\n<p>Dr- Zapf............... Za Nein Nein Nein\\nFrau Zetkin .......... — — ---! — .—\\nZiegler................... Nein - Za Za ! Za Stein\\nZubeil..................... Nein Za I Za ! Za Stein\\n</p>\\n<p>Zusammenstelln»!, »«inseitig.</p>\\n<p />\\n</div>\\n<div class=\"page\"><p />\\n<p>Reichstag. — 81. Sitzung. Dienstag den 23. Juni 1925.\\n</p>\\n<p>Zusammenstellung.\\n</p>\\n<p>1. Abstimmung. s. Abstimmung.\\nAbgegebene Stimmzettel................... 358 Abgegebene Stimmzettel 369\\nUngültig........................................... 5 Ungültig. ................................... 4\\n</p>\\n<p>Bleiben gültig. . . 353 Bleiben gültig. . 365\\n</p>\\n<p>Davon: Davon:\\nJa ........................................... - 195 Ja............................................ . 146\\nNein......................................... . 158 Nein........................................ . . 218\\nDer Abstimmung enthalten. . . . -- Der Abstimmung enthalten... 1\\n</p>\\n<p>Summe wie oben. Summe wie oben.\\n</p>\\n<p>S. Abstimmung. 4. Abstimmung:\\nAbgegebene Stimmzettel . 367 Abgegebene Stimmzettel................... 368\\nUngültig ........................................... 1 Ungültig .......................................... 6\\n</p>\\n<p>Bleiben gültig .. 366 Bleiben gültig .. . 362\\n</p>\\n<p>Davon: Davon.\\nJa............................................ 147 Ja .......................................... 181\\nNein........................................... 219 Nein......................................... 179\\nDer Abstimmung enthalten . — Der Abstimmung enthalten . . 2\\n</p>\\n<p>Summe wie oben. Summe wie oben.\\n</p>\\n<p>5. Abstimmung:\\nAbgegebene Stimmzettel.....................  362\\nUngültig....................................  2\\n</p>\\n<p>Bleiben gültig. 360\\n</p>\\n<p>Davon:\\nIa..............................................  171\\nNein........................................... 189\\nDer Abstimmung enthalten\\n</p>\\n<p>Summe wie oben.\\n</p>\\n<p>2571\\n</p>\\n<p>Druck und Berlag der Neichsdruckerei, Berlin SW</p>\\n<p />\\n</div>\\n<div class=\"page\"><p />\\n</div>\\n</body></html>'"
      ]
     },
     "execution_count": 11,
     "metadata": {},
     "output_type": "execute_result"
    }
   ],
   "source": [
    "xml['content']"
   ]
  },
  {
   "cell_type": "code",
   "execution_count": 12,
   "metadata": {},
   "outputs": [
    {
     "name": "stdout",
     "output_type": "stream",
     "text": [
      "\n",
      "\n",
      "\n",
      "\n",
      "\n",
      "\n",
      "\n",
      "\n",
      "\n",
      "\n",
      "\n",
      "\n",
      "\n",
      "\n",
      "\n",
      "\n",
      "\n",
      "\n",
      "\n",
      "\n",
      "\n",
      "\n",
      "\n",
      "2566 Reichstag. — 81. Sitzung. Dienstag den 26. Juni 1925.\n",
      "\n",
      "Namentliche Abstimmungen\n",
      "in der 81. Sitzung am Dienstag den 23. Juni 1925\n",
      "\n",
      "1. über den Antrag des 9. Ausschusses (Soziale Angelegenheiten) — Nr. 937 Ziffer 1 der Drucksache» — aus \n",
      "Ablehnung des Antrags Müller (Franken) und Genossen, betreffend den Entwurf eines Gesetzes zur Verlängerung \n",
      "der Dauer der Erwerbslosennnterstützung im besetzten Gebiet — Nr. 917 der Drucksachen —\n",
      "\n",
      "2. über Artikel 1 Ziffer 4 des Entwurfs eines Gesetzes zur Änderung der Pachtschutzordnung vom 9. Zuni 1926 \n",
      "(Reichsgesetzbl. S. 1193) — Nr. 928 der Drucksachen —\n",
      "\n",
      "3. über die Änderungsanträge Müller (Frauken) und Genossen — Nr. 943 der Drucksachen — und Ronneburg, \n",
      "Koch-Weser und Genossen — Nr. 1037 der Drucksachen — zur zweiten Beratung des vom 11. Ausschuß \n",
      "beantragten Entwurfs eines Gesetzes zur Änderung der Pachtschutzorduuug — Nr. 928 der Drucksachen —\n",
      "\n",
      "4. über den Änderungsantrag Ronneburg, Koch-Weser und Genossen — Nr. 1037 Ziffer 3 der Drucksachen — \n",
      "zur zweiten Beratung des vom 11. Ausschuß beantragten Entwurfs eines Gesetzes zur Änderung der Bacht- \n",
      "schutzordnnng — Nr. 928 der Drucksachen —\n",
      "\n",
      "5. über den handschriftlichen Antrag Henning unter 6 zur zweiten Beratung des vom 11. Allsschuß beantragten \n",
      "Entwurfs eines Gesetzes zur Änderung der Bachtschntzordnung — Nr. 928 der Drucksachen —.\n",
      "\n",
      "Name\n",
      "l. l 2. ! 4.\n",
      "\n",
      "Abstimmung\n",
      "5.\n",
      "\n",
      "Adams ................. Za Nein Nein Nein Za\n",
      "Frau Agnes... . . . . . . . . . krank krank krank krank krank\n",
      "Albrecht................. — — — — - -\n",
      "Allekotte ................. — Nein Nein Nein Nein\n",
      "Alpers................... krank krank krank krank krank\n",
      "Andre ................... Za Nein Nein Za Plein\n",
      "Frau Ansorge... . . . . . . . Nein Za Ja Za Nein\n",
      "Frau Arendsee.... . . . . Nein Za Ja Za . -\n",
      "Frau Arni,lg.... . . . . . . Nein Za Ja ! Za Nein\n",
      "Allfhäuscr............... Nein Za Ja Za Nein\n",
      "\n",
      "Wachmann............. Za ! Nein Nein - Plein Za\n",
      "Bachmeier............... - - ! — - ^\n",
      "Baecker (Berlin) .... — Nein Nein Nein Za\n",
      "Bader..................... Nein Za Za Za\n",
      "Frau Bartels.... . . . . . . —\n",
      "Dr. Barth............. Za Nein Nein Nein Za\n",
      "Bartschat............... Nein Ha Za Za Nein\n",
      "Frau Dr. Bäunier .. Nein Za Za ! Za Nein\n",
      "Dr. Bayersdörfer... Za Nein Nein ^ Plein Za\n",
      "Bazille................. — — - -\n",
      "Beck (Oppeln).... . . . . . . --  ^ Nein Nein Nein Za\n",
      "Becker (Arnsberg)... Za Nein Nein Za Nein\n",
      "Dr. Becker (Hessen). . Za Nein Nein Nein Za\n",
      "Becker (Herborn).... Nein Za Za Za ! Plein\n",
      "Frau Dr. Beym... krank krank krank krank ^ krank\n",
      "Behrens................. Za Nein Nein Za Za\n",
      "Beier (Dresden).... Nein Nein Plein!\n",
      "Dr. Bell................. Za Nein - Nein Plein Nein\n",
      "Bender................... Nein Za Za Za Nein\n",
      "Dr. Bergsträßer .... Nein! Za Ja Za ! Nein\n",
      "Berudt...... . . . . . . . . . . . . . Za ! Nein Nein Nein Za\n",
      "Bernstein............... Nein Ja Ja Za ^ Plein\n",
      "Graf v. Bernstorff.. Nein l Za Za Za ! Nein\n",
      "\n",
      "Name\n",
      "i. 2. 3 4.\n",
      "\n",
      "Abstimmung\n",
      "5.\n",
      "\n",
      "Bertz ..................... Za Za j Za Plein\n",
      "Dr. Best................. Nein Plein Plein Nein ! Za\n",
      "Dr. Bensch............. Za Plein Plein Plein Plein\n",
      "Beythien................. krank krank krank krank krank\n",
      "Bickes..................... Za Plein Nein Nein Za\n",
      "Bimer... . . . . . . . . .. Za Nein Nein ! Nein Za\n",
      "Biester................... Nein Za Za ^ Za Nein\n",
      "Fürst Bismarck.... . . . . Za Nein Plein Nein Za\n",
      "Blum..................... Za Nein Nein Plein Za\n",
      "Bock....................... Plein Za Za Za Nein\n",
      "Dr. Bockius........... Za i Plein ^ Plein Za Nein\n",
      "Bohla..................... krank krank krank krank krank\n",
      "Frau Bvbul-Schnch . Nein Za Za Za Plein\n",
      "Bolz.. .. . .... . . . . . . . . . . . . . Za Nein Plein Plein Za\n",
      "Bornefeld-Ettmaim.. Za Plein Plein Nein Za\n",
      "Borrmaim............. Nein Nein Nein Za\n",
      "Bossen...................\n",
      "Braun (Düsseldorf) .\n",
      "\n",
      "krank krank krank krank krank\n",
      "Nein\n",
      "\n",
      "Dr. Braun (Franken) \n",
      "Dr. Brauns (München-\n",
      "\n",
      "Plein Za Za Za Plein\n",
      "\n",
      "Gladbach) ... . . . . . . . . . Za Plein Plein Za Nein\n",
      "D. Dr. Dr. Brcdt... Za i Plein Nein Nein Za\n",
      "Dr. Breitscheid....... Nein j Za . Za Za Plein\n",
      "Brekelbaum ........... Za Plein Plein Plein Za\n",
      "Brev ..................... Plein ^ Za Za Za Plein\n",
      "Brodauf................. Nein? Za 2a , Za Nein\n",
      "Brühn................... Za Nein Plein Plein Za\n",
      "Dr. Brüning.... . . . . . . Za Plein Nein Za Nein\n",
      "Brüninghans......... Za Nein Plein Nein Za\n",
      "Buchholz.................\n",
      "Bttchlnaim.............\n",
      "\n",
      "Nein Nein Nein Nein\n",
      "\n",
      "Bilchwiß.................\n",
      "Budjuhn.................\n",
      "Bütt.......................\n",
      "\n",
      "Plein! Za Za ! Za Nein\n",
      "Za Nein Plein i Plein Za\n",
      "\n",
      "Bülow .... . . . . . . . . . . . . . . . . Nein Za Za Plein\n",
      "\n",
      "\n",
      "\n",
      "Reichstag. — 8l. Sitzung. Dienstag dm 23. Juni 192ü. 2567\n",
      "\n",
      "Name\n",
      "1. ! 2. 3. ! 4.\n",
      "\n",
      "Abstimmung\n",
      "\n",
      "! 5.\n",
      "\n",
      "Cramm........................ 3« Nein Nein Stein Za\n",
      "Dr. Cremer................ 3« Nein Nein Nein Ja\n",
      "Creutzbnrg ................... Nein Ja Ja Ja Stein\n",
      "Crispien........................ Nein Za Ja Ja Nein\n",
      "Oe. Crone-Münzebrock Ja Nein Nein Stein Ja\n",
      "Dr. Curtins................ — — — — —\n",
      "\n",
      "Damnt........................... Ja Nein Nein Nein Za\n",
      "Dauch (Hamburg) .. Ja — — — —\n",
      "Dauer ........................... Ja Nein Stein Ja Nein\n",
      "Dr. David................... Nein Ja Ja Ja Nein\n",
      "Denqel........................... — — —\n",
      "\n",
      "NeinDr. Derirburg............. Nein - - Za Ja\n",
      "Dr. Dessauer................ Za Nein Nein Ja Nein\n",
      "v. Dewitz (Stettin).. Ja Nein Stein Nein Ja\n",
      "Diernreiter................... — — —\n",
      "\n",
      "Dietrich (Baden) . . . Nein Ja Za Ja\n",
      "Nein\n",
      "\n",
      "Nein\n",
      "Dietrich (Frauken) . . Nein Nein Nein Za\n",
      "Dietrich (Prenzlau). . beurl. beurl. beurl. beurl. beurl.\n",
      "Dietrich (Thüringen). — — — — -\n",
      "Dietze............................. — — — — —\n",
      "\n",
      "Diez................................ Ja Nein Nein Nein Ja\n",
      "Dißmann ..................... Nein Za\n",
      "\n",
      "Ja NeinDittmann..................... Nein Ja Ja\n",
      "Döbrich........................ Za Nein Stein Ja Ja\n",
      "Domsch (Dresden) .. Ja Nein Nein Stein Ja\n",
      "Dorsch (Hessen) .... Ja Nein Nein Nein Ja\n",
      "Drewitz (Berlin).... Ja Nein Neu: Nein Za\n",
      "Dr. v. Dryander ... Ja Nein Nein Nein Ja\n",
      "Dunkel........................... Ja Nein Nein Stein Ja\n",
      "\n",
      "Eggers ........................ krank krank krank krank krank\n",
      "Eggerstedt..................... Nein Ja Ja Ja Stein\n",
      "Ehrhardt ..................... Za Nein Nein Ja Nein\n",
      "Eichhorn........................ Nein Ja Ja Za Nein\n",
      "Eisenberger...........-.. Za Nein Nein Nein Ja\n",
      "Dr. Ellenbeck............ . Ja Nein Stein Nein Ja\n",
      "Emminger..................... Ja Nein Stein Nein Ja\n",
      "Eügberding................... Ja Nein Stein Nein Ja\n",
      "Erkelenz ........................ beurl. beurl. beurl. beurl. beurl.\n",
      "Ersing............................. Ja Nein Nein Ja Nein\n",
      "Esser................................ Za Nein Nein Nein Nein\n",
      "Graf zu Eulenburg - Ja Nein Stein Nein Ja\n",
      "Dr. Everling................ Ja Nein Nein Nein Ja\n",
      "\n",
      "Feder............................. Nein Nein Nein enthalten Ja\n",
      "Fehr................................ Ja Nein Nein Nein Ja\n",
      "Fehrenbach.................. Za Nein Nein Nein Stein\n",
      "Feilmayr........................ Nein Nein Nein Ja\n",
      "Feldmann..................... krank krank krank krank krank\n",
      "Ferl................................ Nein Ja Ja Ja Stein\n",
      "Findeisen . . . .............. Ja Nein Nein Nein Za\n",
      "Fischbeck........................ Nein Ja Ja Ja Stein\n",
      "Fischer (Berlin)........... Nein Ja Ja Za Nein\n",
      "Dr. Fischer (Köln) .. Nein — — — —\n",
      "\n",
      "Fleischer........................ Nein Ja Za Ja Nein\n",
      "Florin ...........................\n",
      "Dr. Frhr. v. Freytagh-\n",
      "\n",
      "krank krank krank krank krank\n",
      "\n",
      "Loringhoven........... Za Nein Nein Nein Ja\n",
      "Dr. Frick ..................... Nein Nein Nein Nein Za\n",
      "Frölich.......................... Nein Za Ja Ja Nein\n",
      "Fromm........................... Ja Stein Nein Ja Ja\n",
      "\n",
      "Name\n",
      "i. 2. 3. 4.\n",
      "\n",
      "Abstimmung\n",
      "\n",
      "I 5.\n",
      "\n",
      "Geck (Mannheim)... krank krank krank krank krank\n",
      "Geisler........................... — Nein Nein Nein Ja\n",
      "Gerauer........................ Za Nein Nein Nein Ja\n",
      "Di-. Gereke................... Za Nein Nein Nein Za\n",
      "Gerig............................. Ja Nein Nein Ja Stein.\n",
      "Geschke........................... Ja Ja Ja Nein\n",
      "Giebel.............................. krank krank krank krank krank\n",
      "Giesberts..................... Ja Nein Nein Ja Nein\n",
      "Giese................................ krank krank krank krank krank\n",
      "Dr. Gildemeister .... Za Nein Nein Nein Za\n",
      "Gok................................ Za Nein Nein Nein Ja\n",
      "v. Goldacker................ Za Nein Stein Nein Za\n",
      "Frau Golke................ Nein — — — — .\n",
      "Dr. Goch..................... Nein Ja Ja Za Nein\n",
      "Graes (Thüringen) .. Za Stein Nein Stein Ja\n",
      "v.Graefe(Mecklenbnrg) Nein Nein Stein Ja\n",
      "Graschiann................... — — — —\n",
      "\n",
      "NeinGroß ............................. Ja Nein Nein Za\n",
      "v. Giwrard................... Ja Nein Nein Nein Ja\n",
      "\n",
      "Haag............................. Za Nein Nein Nein Ja\n",
      "Dr. Haas (Baden) . . Nein Ja Ja Za Nein\n",
      "Dr. Haedenkamp.... Za Nein Nein Stein Ja\n",
      "Harnkens........................ Za Nein Nein Stein Ja\n",
      "Hampe........................... Ja Nein Nein Stein Ja\n",
      "Dr. Hanemann..... Ja Stein Nein Stein Ja\n",
      "Hänse (Thüringen) .. Ja Nein Nein Stein Ja\n",
      "Harmony..................... Ja Nein Nein Nein Ja\n",
      "Hartmann.................... Ja Nein Nein Nein Ja\n",
      "Hartwig........................ Ja Stein Nein Ja Ja\n",
      "Havemann.................. — — — —\n",
      "\n",
      "Heckert........................... — — — — —\n",
      "\n",
      "Heimann........................ Nein Za Za Za Nein\n",
      "Dr. Heinze................... Ja Nein > Nein Stein Za\n",
      "Helling (Weser)........... krank krank krank krank krank\n",
      "Hemeter........................ beurl. beurl.! beurl. beurl. beurl.\n",
      "Henke............................. Nein Ja ! Za Ja Nein\n",
      "Henning........................ Nein Nein Nein Nein Za\n",
      "Hensel (Ostpreußen).. — — — — -------\n",
      "Sepp................................ — — — — ------- ,\n",
      "Herbert.......................... Ja Nein Nein Nein Ja\n",
      "Hergt............................. Za Nein Nein Nein Za\n",
      "Herold.......................... Za Nein i Nein Nein Nein\n",
      "Dr. Hertz..................... Nein Za ! Za Za Nein\n",
      "Dr. Heuß..................... Nein -------- ! — —\n",
      "\n",
      "NeinHildenbrand................ Nein Ja ! Za Ja\n",
      "Dr. Hilferdinq........... Nein Ja ! Za Ja Nein\n",
      "Hoch................................ Nein Ja ! Ja Ja Nein\n",
      "Dr. Hoff........................\n",
      "Hoffmann (Kaisers­\n",
      "\n",
      "------- >\n",
      "\n",
      "Neinlautern) ..................... Nein Ja Ja Ja\n",
      "Hofmaun (Köln).... \n",
      "Hofmann (Ludwigs­\n",
      "\n",
      "Ja Nein j Nein Stein Ja\n",
      "\n",
      "hafen)................ Za Nein Nein Za Nein\n",
      "Höllein..................... Nein Ja Za Ja Nein.\n",
      "Holzamer................... Ja Stein ^ Stein Nein Za .\n",
      "Dr. ten Hompel .... — ^ — —\n",
      "Dr. Horlachcr. - - Za Nein Nein Stein Ja .\n",
      "Hoernle. ......... Stein Ja ^ Za Za- Stein,\n",
      "Dr. Hoetzsch------ ... Ja i --- - — —\n",
      "\n",
      "JaDr. Hugeuberg ... .. Fa (Nein! Nein, Nein\n",
      "\n",
      "\n",
      "\n",
      "2568 Reichstag. — 81. Sitzung. Dienstag den 23. Juni 1925\n",
      "\n",
      "Name\n",
      "1. 2. 3. 4.\n",
      "\n",
      "Abstimmung\n",
      "5.\n",
      "\n",
      "Dr. Hugo.................. krank krank krank krank krank\n",
      "Huke ......................... Za Nein Nein Za Nein\n",
      "Hülser......................... Za Nein Nein Za Za\n",
      "Dr.-Ing. Hummel... — — — — —\n",
      "Hünlich....................... Nein Za Za Za Nein\n",
      "Husemauu.................. Nein Za Za Za Nein\n",
      "Hüttmann.................. Nein Za Za Za Nein\n",
      "\n",
      "Jmbusch.................... krank krank krank krank krank\n",
      "\n",
      "Jäcker ....................... — ------ . — — - -\n",
      "Jacobshagen.............. Nein Za Za Za Nein\n",
      "Jadasch.................... Nein Za Za Za Nein\n",
      "Jandrey.................... — Nein Nein Nein Za\n",
      "Janschek.................... Nein Za Za Za Nein\n",
      "Janson....................... krank krank krank krank krank\n",
      "Joos........................... Za Nein Nein Za Nein\n",
      "Dr. Jöriffen.............. Za Nein Nein Nein Za\n",
      "Frau Juchacz........... Nein — — Za Nein\n",
      "Julier......................... — — — — —\n",
      "Junke......................... Nein Za Za Za Nein\n",
      "\n",
      "Dr. Kaas (Trier)... Za Nein Nein Nein Nein\n",
      "v. Dr. Kahl.............. beurl. beurl. beurl. beurl. beurl.\n",
      "Dr. Kalle.................. Za Nein Nein Nein Za\n",
      "Kaltenecker................ Za Nein Nein Nein Za\n",
      "v. Kardorff................ — — —\n",
      "Karsten....................... beurl. beurl. beurl. beurl. beurl.\n",
      "Katz........................... — — --- — —\n",
      "Keil........................... Nein Za Za Za Nein\n",
      "Keinath .................... Za Nein Nein Nein Za\n",
      "v. Kemnitz.................. Za Nein Nein Nein Za\n",
      "Kempkes.................... Za Nein — — —\n",
      "Kenzler....................... Nein — — — —\n",
      "Kerp........................... Za Nein Nein Nein Za\n",
      "Kerschbaum................ Za Nein Nein Nein Za\n",
      "Dr. v. Keudell ..... Za Nein Nein Nein Za\n",
      "Kirschmann .............. Nein Za Za Za Nein\n",
      "Kling......................... — Nein Nein Nein Za\n",
      "Klingspor.................. — — — —\n",
      "Dr. Klöckner.............. Za Nein Nein Nein Nein\n",
      "Dr.-Ing. Klönne.... Nein Nein Nein Za\n",
      "Knoll......................... Za Nein Nein Za Nein\n",
      "Koch (Düffeldorf)... Za Nein Nein Za Za\n",
      "Koch (Essen).............. Za Nein Nein Za Nein\n",
      "Koch-Weser................ Nein Za Za Za Nein\n",
      "Koenen....................... — ---- —\n",
      "Koenig (Düsseldorf) . — — — — —\n",
      "König (Westfalen)... — Za Za Za Nein\n",
      "Kopsch ....................... Nein Za Za Za Nein\n",
      "Korell......................... entsch. entsch. entsch. entsch. entsch.\n",
      "Körner....................... Za Nein Nein Nein Za\n",
      "Dr. Korsch................ — — —\n",
      "Kotzke......................... — — —- — —\n",
      "Krätzig....................... Nein Za Za Za Nein\n",
      "Kröger (Rostock).... Nein Za Za Za Nein\n",
      "Krüger (Merseburg) . Nein Za Za Za Nein\n",
      "Kube........................... Nein Nein Nein Nein Za\n",
      "Kuhnt......................... Nein Za Za Za Nein\n",
      "Dr. Kulenkampff----- — Za\n",
      "\n",
      "Name\n",
      "1- 2. 3. 4.\n",
      "\n",
      "Abstimmung\n",
      "5.\n",
      "\n",
      "Dr. Külz.................... -\n",
      "Künstler.................... Nein Za Za Za Nein\n",
      "\n",
      "Lambach....................\n",
      "Lammers ..................\n",
      "\n",
      "— — — —\n",
      "\n",
      "Landsberg.................. Nein Za Za Za , Stein\n",
      "Lang ......................... Za Nein Nein Nein Za\n",
      "Frau Lang-Brumann Za Nein Nein Nein Za\n",
      "Lange-Hegermann... — — — —-\n",
      "Laufkötter.................. Nein Za Za Za Nein\n",
      "Laverrenz.................. Za Stein Stein Nein Za\n",
      "I)r. Leber.................. — — Ja Nein\n",
      "Leicht......................... Za Nein Nein Nein Za\n",
      "Dr. Lejeune-Jung ... Za Nein Stein Nein Za\n",
      "Lemmer....................... — — — — —\n",
      "Leopold....................... Za Nein Nein Nein Za\n",
      "Graf v. Lerchenfeld.. — — — — —\n",
      "Leutheußer................ — — — -— —\n",
      "Dr. Levi.................... — — — — —\n",
      "Limbertz.................... Nein Za Za Za Nein\n",
      "Lind........................... Za Nein Nein Nein Za\n",
      "v. Lindeiner-Wildau . Za Nein Nein Nein Za\n",
      "Lipinski .................... Nein Za Za Za Nein\n",
      "Löbe........................... Nein Za Za Za Nein\n",
      "Logemann (Hannover) Za Nein Nein Nein Za\n",
      "Lohmann (Altona) .. Za Nein Nein Nein Za\n",
      "Loibl ....... ................. Za Nein Nein Nein Za\n",
      "Dr. Löwenstein......... Nein Za Za Za Nein\n",
      "Lübbring .................. krank krank krank krank krank\n",
      "Lucke ......................... Za Nein Nein Nein Za\n",
      "Ludendorff................ — — --\n",
      "Frau Dr. Lüders ... krank krank krank krank krank\n",
      "Ludwig...................... Nein — — — —\n",
      "\n",
      "Martin...........\n",
      "Marx......................... Za Nein Nein Za Nein\n",
      "Frau Dr. Matz......... — — — — —\n",
      "Meier (Baden)......... — — — --- —\n",
      "Frau Mende.............. Za — — — —\n",
      "Mentzel....................... Za Nein Nein Nein Za\n",
      "Merck......................... Za Nein Nein Nein Za\n",
      "Graf v. Merveldt... — — —\n",
      "Meyer (Berlin)......... Nein Za Za Za Nein\n",
      "Meyer (Franken).... Nein Za Za Za Nein\n",
      "Meyer (Hannover) .. Za Nein Nein Nein Za\n",
      "Dr. Mittelmann .... Za Nein Nein Nein Za\n",
      "Dr. Moldenhauer . - - Za Nein Nein Nein Za\n",
      "Mollath.................... Za Nein Nein Nein Za\n",
      "Morath .................... Za Nein Nein Nein Za\n",
      "Or. Moses................ Nein Za Za Za Nein\n",
      "Dr. Most.................. — — — — —\n",
      "Müller (Franken) ... Nein Za Za Za Nein\n",
      "Frau Mueller-Otfried beurl. beurl. beurl. beurl. beurl.\n",
      "D. Mumm................ — — — — —\n",
      "Münzenberg.............. Nein Za Za — - -\n",
      "\n",
      "Neddermeyer........... — — —\n",
      "Frau Nemitz.............. Nein Za Za Za Nein\n",
      "Neubauer.................. Nein Za Za Za Nein\n",
      "Neuhaus (Düss eldorf). krank krank krank krank krank\n",
      "\n",
      "\n",
      "\n",
      "2569Reichstag. — 8t. Sitzung. Dienstag den 23. Juni 1925.\n",
      "\n",
      "Name\n",
      "1. 2. 3. 4. I\n",
      "\n",
      "Abstimmung\n",
      "5.\n",
      "\n",
      "Frau Neuhaus (West­\n",
      "falen) ................. Ja Nein Nein Za ! Stein\n",
      "\n",
      "Neumann............... Ja Nein Nein Nein! Za\n",
      "Nevses .... /.......... Nein Nein Nein Za\n",
      "Nientimp ............... — — — — —\n",
      "Nolte..................... Za Nein Nein Nein Za\n",
      "Nowack ................. Nein Za Za Za Stein\n",
      "Obmdiek............... Nein Za Za Za Nein\n",
      "Dr. Oberfohren .... Za Nein Nein Nein Za\n",
      "Ohler......................... Ja Nein Nein Nein Za\n",
      "Paeth ....................... Za Nein Nein Nein Za\n",
      "Passehl................... Nein Za Za Za Nein\n",
      "Peine......................... Nein Za Za Za Nein\n",
      "Pennemann............ — —\n",
      "\n",
      "Nein\n",
      "— —\n",
      "\n",
      "Dr. Perlitius.......... Za Nein Nein Za\n",
      "Peters ................... Nein Za Za Za Nein\n",
      "Petzold................... Za Nein Stein Nein Za\n",
      "Dr. Pfeffer............. Za Nein Nein Nein Za\n",
      "Pfeiffer................... — —\n",
      "\n",
      "beurl.\n",
      "— —\n",
      "\n",
      "Dr. Pfleger............ beurl. beurl. beurl. beurl.\n",
      "Frau Pfülf............ Nein Za Za Za j Nein\n",
      "Dr. Philipp............ Za Nein Nein Nein Za\n",
      "Dr. Do. Preyer .... Za Nein Nein Nein Za\n",
      "Putz....................... Nein Za Za Za Nein\n",
      "Dr. Duaatz........... Za Nein Stein Nein Za\n",
      "Dr. Queffel ............ Nein Za Za ! Za Nein\n",
      "Rädel..................... Nein Za Za Za Nein\n",
      "Dr. Rademacher .... Za Nein Stein Nein —\n",
      "v. Ramin............... Nein Nein Nein Nein Za\n",
      "Dr. Raschig........... Nein Za Za Za Nein\n",
      "Rauch (München)... Za Nein Nein Nein Za\n",
      "v. Raumer............. — Nein Nein Nein Za\n",
      "Dr. Reichert............ Za Nein Nein Nein Za\n",
      "Frau Reitze........... Nein Za Za Za Nein\n",
      "Remmele................. — — — ! --- —\n",
      "Graf zu Reventlow. Nein Nein Nein Nein Za\n",
      "Frhr. v. Rheinbaben. — — — Nein Za\n",
      "Rheinländer............ Za Nein Nein Za Nein\n",
      "Richter................... beurl. beurl. beurl. beurl. beurl.\n",
      "Frhr. v. Richthofen \n",
      "\n",
      "(Breslau) ....... Za Nein Nein Nein Za\n",
      "Frhr. v. Richthofen \n",
      "\n",
      "(Hannover)......... Nein Za Za ! Za Nein\n",
      "Rieseberg............... Za Nein Nein Nein Za\n",
      "Dr. Riester............. Za Nein Nein Nein Za\n",
      "Nippel................... Za Nein Nein Nein Za\n",
      "Röder (Baden)........ krank krank krank krank krank\n",
      "Röder (Franken).... Za Nein Nein Nein Za\n",
      "Rönneburg............. Nein Za Za Za Nein\n",
      "Rosenbaum............. Nein Za Za ^ Za Nein\n",
      "Do. Rosenberg........ — — — ! — —\n",
      "Dr. Rosenfeld......... Nein Za Za Za Nein\n",
      "Dr. Roß................. Za Nein Nein Za Nein\n",
      "Roßmann (Württem- \n",
      "\n",
      "berg)................... Nein Za Za Za Nein\n",
      "Dr. Runkel.......... Za Nein Nein Nein Za\n",
      "Sachs ................... Za Nein Nein Nein Za\n",
      "Saenger................. — — —\n",
      "Saupe................... Nein Za Za\n",
      "\n",
      "Name 1-\n",
      "2. 3. 4.\n",
      "\n",
      "Abstimmung\n",
      "5.\n",
      "\n",
      "Schaffner............... Nein Za Za Za Nein\n",
      "Frau Scheidet.......... Za Nein Nein Nein Za\n",
      "Scheidemann........... krank krank krank krank krank\n",
      "Dr. Schetter............ Za Nein Nein Nein Za\n",
      "Schiele ................. Za Nein Nein Nein Za\n",
      "Frau Schiffgens .... Nein Za Za Za Nein\n",
      "Schiller (Hannover).. Nein Za Za Za Nein\n",
      "Frau Schilling ..... Nein Za Za Za Nein\n",
      "Schirmer (Dresden) . Nein Za Za Za Nein\n",
      "Schirmer (Franken).. Za Za enthalten Za Nein\n",
      "Schlack................... - - — — — —\n",
      "Schlagewerth ..... krank krank krank krank krank\n",
      "Schlange................. — — — — —\n",
      "Schlecht................. — — — —\n",
      "\n",
      "NeinSchlicke................... Nein Za Za Za\n",
      "Schlüter................. Nein Za Za Za Nein\n",
      "Schmidt (Berlin) ... Nein Za Za Za Nein\n",
      "Schmidt (Cöpenick).. Nein Za Za Za Stein\n",
      "Schmidt (Hannover). Za Stein Stein Nein Za\n",
      "Schmidt (Hirschberg). Za Nein Nein Nein Za\n",
      "Schmidt (Meißen).. - Nein Za Za Za Nein\n",
      "Schmidt (Stettin)... Za Nein Nein Nein Za\n",
      "Schnabrich............. Nein Za Za Za Nein\n",
      "Dr. Schnee............. beurl. beurl. beurl. beurl. beurl.\n",
      "Schneider (Berlin)... Nein Za Za Za Nein\n",
      "Dr. Schneider \n",
      "\n",
      "(Dresden)........... Za Nein Nein Nein --------\n",
      "Dr. Schneider \n",
      "\n",
      "(Thüringen)........ Nein Nein Nein z Za\n",
      "Schneller............... — — —\n",
      "\n",
      "Za NeinScholem................. Nein Za Za\n",
      "Dr. Scholz.............. Za Nein Nein Nein Za\n",
      "Schöpflin............... Nein Za Za Za Nein\n",
      "Frau Schott............ Za Nein Nein Nein Za\n",
      "Schreck................... Nein Za Za Za Nein\n",
      "D. Dr. Schreiber .. . Za Nein Nein Nein Nein\n",
      "Schröder (Mecklen- \n",
      "\n",
      "bürg)................. krank krank krank krank krank\n",
      "Frau Schroeder \n",
      "\n",
      "(Schleswig-Holstein) Nein Za Za Za Nein\n",
      "Schröter (Liegnitz).. - Za Nein Nein Nein Za\n",
      "Dr. Schücking ........ Nein Za Za Za Nein\n",
      "Schuldt (Steglitz) .. . Nein Za Za Za Nein\n",
      "Graf v. d. Schulenburg Za Nein Nein Nein Za\n",
      "Schulte (Breslau)... Za Nein Nein Nein Nein\n",
      "Schultz (Bromberg).. Za Nein Nein Nein Za\n",
      "Schulz (Bremen)---- Nein Za Za Za Nein\n",
      "Schulz-Gahmen........ — — —\n",
      "\n",
      "Za\n",
      "—\n",
      "\n",
      "Schulz (Königsberg). Nein Za Za Nein\n",
      "Frau Schulz (West­\n",
      "\n",
      "falen) ................. Nein Za Za Za Nein\n",
      "Schulze (Frankfurt).. Za Nein Nein Nein ! Za\n",
      "Schumann (Frankfurt) — — — — —\n",
      "Schumann (Stettin). — — —\n",
      "\n",
      "Za NeinSchurig................. Nein Za Za\n",
      "Schütz ................... — Za Za — Nein\n",
      "Schwan................. — — — — —\n",
      "Dr. Schwarz (Berlin) Nein\n",
      "\n",
      "Nein Za NeinSchwarz (Frankfurt). Ja Nein\n",
      "Schwarzer (Ober­\n",
      "\n",
      "bayern) ............... Za Nein Nein Za ! Nein\n",
      "\n",
      "\n",
      "\n",
      "2570 Reichstag. — 81. Sitzung. Dienstag den 23. Juni !025.\n",
      "\n",
      "Name\n",
      "2. 3. 4.\n",
      "\n",
      "Abstimmung\n",
      "\n",
      "5.\n",
      "\n",
      "Seger ..................... krank krank krank krank krank\n",
      "Seibert................... Za Nein Nein Nein Za\n",
      "Seidel........................ Nein Za Za Za Stein\n",
      "Seiffert..................... — Nein Stein Nein Za\n",
      "Frau Sender........... Nein Za Za Za Stein\n",
      "Seppel..................... Nein Za Za Za Nein\n",
      "Severing ............... krank krank krank krank krank\n",
      "Seydewitz................ Nein Za Za Za Nein\n",
      "Silberschmidt.......... Nein Za Za Za Nein\n",
      "Siller (Württemberg). krank krank krank krank krank\n",
      "Simon (Franken) ... Nein Za Za Za —\n",
      "Simon (Schwaben).. Nein Za Za Za Nein\n",
      "Sinn....................... — — — — —\n",
      "Sollmann ........ Nein Za Za Za Stein\n",
      "Sonner..................... Za Nein Stein Za Nein\n",
      "Dr.-Jng. Sorge... beurl. beurl. beurl. beurl. beurl.\n",
      "Dr. Spahn (Berlin). — — — — —\n",
      "Dr. Spahn (Köln) .. — — — — —\n",
      "Sparrer................. Nein Za Za Za Nein\n",
      "Frau v. Sperber ... Za Nein Stein Nein Za\n",
      "Dr. Spuler............. Za Nein Stein Nein Za\n",
      "\n",
      "Staab................... Nein Za Za Za Nein\n",
      "Stampfer............... Nein Za Za Za Nein\n",
      "Frhr. v. Stausfenberg Za Nein Stein Stein Za\n",
      "Stegerwald............. Za Nein Nein Za Nein\n",
      "Frau Dr. Stegmanu. Nein Za Za Za Nein\n",
      "Steiger................... — — — —\n",
      "Dr. Steiniger.......... Za Nein Nein Nein Za\n",
      "Steinkopf............... Nein Za Za Za Stein\n",
      "Stelling (Oppeln)... Nein Za Za Za Nein\n",
      "Stoecker................. Nein Za Za Za Stein\n",
      "Stöhr ................... Nein Stein Stein Stein Za\n",
      "Straßer................. krank krank krank krank krank\n",
      "D. Strathman» .... Za Nein Nein Nein Za\n",
      "Strauß ................. Za Nein Stein Nein Za\n",
      "Dr. Stresemann .... — — —\n",
      "Ströbel................... Nein Za Za Za Stein\n",
      "Strötzel................... --- ! —\n",
      "Stubbendorff.......... _____ ! Nein Nein Nein Za\n",
      "Stücklen.................. Nein! Za Za Za Nein\n",
      "\n",
      "Taubadel......... Nein Za Za Za Nein\n",
      "Frau Teufel)............ Za Nein Nein Za Stein\n",
      "Thabor................... krank krank krank krank krank\n",
      "Thälmann............. — — — — —\n",
      "\n",
      "Name\n",
      "1. ? 2. 3. 4.\n",
      "\n",
      "Abstimmung\n",
      "\n",
      "! ^\n",
      "! o.\n",
      "\n",
      "Thiel ..................... Za\n",
      "!\n",
      "\n",
      "Nein Nein Ja\n",
      "Thomsen................. Za Stein Nein Stein Za\n",
      "v. Tirpitz................. Nein Nein — ! —\n",
      "Torgler.... .......... --- Za Za' Za ! Nein\n",
      "Tremmel ............... Za Stein Stein — ! Nein\n",
      "Treviranus............. Za Stein Stein Stein ^ Za\n",
      "Troßmann (Nürnberg) Za Stein Nein fiithciltenI Ja\n",
      "\n",
      "Ulitzka................... Za Stein Nein Stein Stein\n",
      "Ulrich................... ! — - — —\n",
      "Unterleitner ........... z Za Za i Nein\n",
      "Urbahns ............... — _\n",
      "\n",
      "Vierath................. Nein Za I Za Fa Nein\n",
      "Vogel..................... Stein Za ! Za ! Za Nein\n",
      "Vogt....................... Za Stein Stein ! Stein Za\n",
      "Vordemfelde........... krank krank krank krank !krank\n",
      "\n",
      "Wallraf................. Za Stein Nein ! Stein Za\n",
      "Frau Weber (Berlin) Za Stein Stein Za Stein\n",
      "Weber (Düsseldorf) .. Stein Za Za Za Stein\n",
      "Wege..................... Za Stein Nein Stein Za\n",
      "Wegmann ............. Za Stein Stein Stein Stein\n",
      "Weidenhöfcr........... Stein Nein Stein Stein Za\n",
      "Wels ................. Stein Za Za Za Stein\n",
      "Wendemuth............ Nein Ja Za Za ! Stein\n",
      "Di-. Werner........... — — —\n",
      "Graf v. Westarp ... — Nein Nein Nein ! Fa\n",
      "Westermann........... Za Stein Nein Stein ! Za\n",
      "Wieber................... Za Stein Stein Za ! Stein\n",
      "Dr.-Fng. Wieland .. krank krank krank krank krank\n",
      "Dr. Wienbeck......... Za Nein Stein Stein Za\n",
      "Willens................. Za Stein Nein Nein Stein\n",
      "Winnefeld ............. Za Stein Stein Stein Za\n",
      "Dr. Wirth............. Za Stein Nein Za Stein\n",
      "Wissell................... Stein Za Za Za Stein\n",
      "Wolf (Oppeln)........ — — --- . — —\n",
      "Wolf (Stettin)........ beurl. beurl. beurl. beurl. beurl.\n",
      "Wormit................. Za Stein Nein Nein Za\n",
      "Dr. Wunderlich .... Za Stein Nein Stein Za\n",
      "Frau Wurm............ Nein Za Ja Za Stein\n",
      "\n",
      "Dr- Zapf............... Za Nein Nein Nein\n",
      "Frau Zetkin .......... — — ---! — .—\n",
      "Ziegler................... Nein - Za Za ! Za Stein\n",
      "Zubeil..................... Nein Za I Za ! Za Stein\n",
      "\n",
      "Zusammenstelln»!, »«inseitig.\n",
      "\n",
      "\n",
      "\n",
      "Reichstag. — 81. Sitzung. Dienstag den 23. Juni 1925.\n",
      "\n",
      "Zusammenstellung.\n",
      "\n",
      "1. Abstimmung. s. Abstimmung.\n",
      "Abgegebene Stimmzettel................... 358 Abgegebene Stimmzettel 369\n",
      "Ungültig........................................... 5 Ungültig. ................................... 4\n",
      "\n",
      "Bleiben gültig. . . 353 Bleiben gültig. . 365\n",
      "\n",
      "Davon: Davon:\n",
      "Ja ........................................... - 195 Ja............................................ . 146\n",
      "Nein......................................... . 158 Nein........................................ . . 218\n",
      "Der Abstimmung enthalten. . . . -- Der Abstimmung enthalten... 1\n",
      "\n",
      "Summe wie oben. Summe wie oben.\n",
      "\n",
      "S. Abstimmung. 4. Abstimmung:\n",
      "Abgegebene Stimmzettel . 367 Abgegebene Stimmzettel................... 368\n",
      "Ungültig ........................................... 1 Ungültig .......................................... 6\n",
      "\n",
      "Bleiben gültig .. 366 Bleiben gültig .. . 362\n",
      "\n",
      "Davon: Davon.\n",
      "Ja............................................ 147 Ja .......................................... 181\n",
      "Nein........................................... 219 Nein......................................... 179\n",
      "Der Abstimmung enthalten . — Der Abstimmung enthalten . . 2\n",
      "\n",
      "Summe wie oben. Summe wie oben.\n",
      "\n",
      "5. Abstimmung:\n",
      "Abgegebene Stimmzettel.....................  362\n",
      "Ungültig....................................  2\n",
      "\n",
      "Bleiben gültig. 360\n",
      "\n",
      "Davon:\n",
      "Ia..............................................  171\n",
      "Nein........................................... 189\n",
      "Der Abstimmung enthalten\n",
      "\n",
      "Summe wie oben.\n",
      "\n",
      "2571\n",
      "\n",
      "Druck und Berlag der Neichsdruckerei, Berlin SW\n",
      "\n",
      "\n",
      "\n",
      "\n",
      "\n"
     ]
    }
   ],
   "source": [
    "print(raw['content'])"
   ]
  },
  {
   "cell_type": "code",
   "execution_count": 6,
   "metadata": {},
   "outputs": [],
   "source": [
    "import pdfquery"
   ]
  },
  {
   "cell_type": "code",
   "execution_count": 7,
   "metadata": {},
   "outputs": [],
   "source": [
    "pdf = pdfquery.PDFQuery(file)"
   ]
  },
  {
   "cell_type": "code",
   "execution_count": 8,
   "metadata": {},
   "outputs": [],
   "source": [
    "pdf.load()"
   ]
  },
  {
   "cell_type": "code",
   "execution_count": 9,
   "metadata": {},
   "outputs": [],
   "source": [
    "label=pdf.pq('LTPage:contains(\"Namentliche Abstimmungen\")')"
   ]
  },
  {
   "cell_type": "code",
   "execution_count": 10,
   "metadata": {},
   "outputs": [
    {
     "data": {
      "text/plain": [
       "[<LTPage>]"
      ]
     },
     "execution_count": 10,
     "metadata": {},
     "output_type": "execute_result"
    }
   ],
   "source": [
    "label"
   ]
  },
  {
   "cell_type": "code",
   "execution_count": 42,
   "metadata": {},
   "outputs": [
    {
     "data": {
      "text/plain": [
       "[<LTImage>]"
      ]
     },
     "execution_count": 42,
     "metadata": {},
     "output_type": "execute_result"
    }
   ],
   "source": [
    "(label.contents())"
   ]
  },
  {
   "cell_type": "code",
   "execution_count": 33,
   "metadata": {},
   "outputs": [
    {
     "data": {
      "text/plain": [
       "['Fn',\n",
       " '__add__',\n",
       " '__call__',\n",
       " '__class__',\n",
       " '__contains__',\n",
       " '__delattr__',\n",
       " '__delitem__',\n",
       " '__dict__',\n",
       " '__dir__',\n",
       " '__doc__',\n",
       " '__eq__',\n",
       " '__format__',\n",
       " '__ge__',\n",
       " '__getattribute__',\n",
       " '__getitem__',\n",
       " '__gt__',\n",
       " '__hash__',\n",
       " '__html__',\n",
       " '__iadd__',\n",
       " '__imul__',\n",
       " '__init__',\n",
       " '__init_subclass__',\n",
       " '__iter__',\n",
       " '__le__',\n",
       " '__len__',\n",
       " '__lt__',\n",
       " '__module__',\n",
       " '__mul__',\n",
       " '__ne__',\n",
       " '__new__',\n",
       " '__reduce__',\n",
       " '__reduce_ex__',\n",
       " '__repr__',\n",
       " '__reversed__',\n",
       " '__rmul__',\n",
       " '__setattr__',\n",
       " '__setitem__',\n",
       " '__sizeof__',\n",
       " '__str__',\n",
       " '__subclasshook__',\n",
       " '__unicode__',\n",
       " '__weakref__',\n",
       " '_append',\n",
       " '_base_url',\n",
       " '_copy',\n",
       " '_css_to_xpath',\n",
       " '_extend',\n",
       " '_filter_only',\n",
       " '_get_root',\n",
       " '_next_all',\n",
       " '_parent',\n",
       " '_prev_all',\n",
       " '_translator',\n",
       " '_translator_class',\n",
       " '_traverse',\n",
       " '_traverse_parent_topdown',\n",
       " 'addClass',\n",
       " 'add_class',\n",
       " 'after',\n",
       " 'append',\n",
       " 'appendTo',\n",
       " 'append_to',\n",
       " 'attr',\n",
       " 'base_url',\n",
       " 'before',\n",
       " 'children',\n",
       " 'clear',\n",
       " 'clone',\n",
       " 'closest',\n",
       " 'contents',\n",
       " 'copy',\n",
       " 'count',\n",
       " 'css',\n",
       " 'each',\n",
       " 'empty',\n",
       " 'encoding',\n",
       " 'end',\n",
       " 'eq',\n",
       " 'extend',\n",
       " 'filter',\n",
       " 'find',\n",
       " 'fn',\n",
       " 'hasClass',\n",
       " 'has_class',\n",
       " 'height',\n",
       " 'hide',\n",
       " 'html',\n",
       " 'index',\n",
       " 'insert',\n",
       " 'insertAfter',\n",
       " 'insertBefore',\n",
       " 'insert_after',\n",
       " 'insert_before',\n",
       " 'is_',\n",
       " 'items',\n",
       " 'length',\n",
       " 'make_links_absolute',\n",
       " 'map',\n",
       " 'namespaces',\n",
       " 'next',\n",
       " 'nextAll',\n",
       " 'next_all',\n",
       " 'not_',\n",
       " 'outerHtml',\n",
       " 'outer_html',\n",
       " 'parent',\n",
       " 'parents',\n",
       " 'parser',\n",
       " 'pop',\n",
       " 'prepend',\n",
       " 'prependTo',\n",
       " 'prepend_to',\n",
       " 'prev',\n",
       " 'prevAll',\n",
       " 'prev_all',\n",
       " 'remove',\n",
       " 'removeAttr',\n",
       " 'removeClass',\n",
       " 'remove_attr',\n",
       " 'remove_class',\n",
       " 'remove_namespaces',\n",
       " 'replaceAll',\n",
       " 'replaceWith',\n",
       " 'replace_all',\n",
       " 'replace_with',\n",
       " 'reverse',\n",
       " 'root',\n",
       " 'show',\n",
       " 'siblings',\n",
       " 'size',\n",
       " 'sort',\n",
       " 'text',\n",
       " 'toggleClass',\n",
       " 'toggle_class',\n",
       " 'val',\n",
       " 'width',\n",
       " 'wrap',\n",
       " 'wrapAll',\n",
       " 'wrap_all',\n",
       " 'xhtml_to_html']"
      ]
     },
     "execution_count": 33,
     "metadata": {},
     "output_type": "execute_result"
    }
   ],
   "source": [
    "dir(label)"
   ]
  },
  {
   "cell_type": "code",
   "execution_count": 43,
   "metadata": {},
   "outputs": [
    {
     "data": {
      "text/plain": [
       "'2566\\nReichstag. — 81. Sitzung. Dienstag den 26. Juni 1925.\\nNamentliche Abstimmungen\\nin der 81. Sitzung am Dienstag den 23. Juni 1925\\n1. über den Antrag des 9. Ausschusses (Soziale Angelegenheiten) — Nr. 937 Ziffer 1 der Drucksache» — aus\\nAblehnung des Antrags Müller (Franken) und Genossen, betreffend den Entwurf eines Gesetzes zur Verlängerung\\nder Dauer der Erwerbslosennnterstützung im besetzten Gebiet — Nr. 917 der Drucksachen —\\n2. über Artikel 1 Ziffer 4 des Entwurfs eines Gesetzes zur Änderung der Pachtschutzordnung vom 9. Zuni 1926\\n(Reichsgesetzbl. S. 1193) — Nr. 928 der Drucksachen —\\n3. über die Änderungsanträge Müller (Frauken) und Genossen — Nr. 943 der Drucksachen — und Ronneburg,\\nKoch-Weser und Genossen — Nr. 1037 der Drucksachen — zur zweiten Beratung des vom 11. Ausschuß\\nbeantragten Entwurfs eines Gesetzes zur Änderung der Pachtschutzorduuug — Nr. 928 der Drucksachen —\\n4. über den Änderungsantrag Ronneburg, Koch-Weser und Genossen — Nr. 1037 Ziffer 3 der Drucksachen —\\nzur zweiten Beratung des vom 11. Ausschuß beantragten Entwurfs eines Gesetzes zur Änderung der Bacht-\\nschutzordnnng — Nr. 928 der Drucksachen —\\n5. über den handschriftlichen Antrag Henning unter 6 zur zweiten Beratung des vom 11. Allsschuß beantragten\\nEntwurfs eines Gesetzes zur Änderung der Bachtschntzordnung — Nr. 928 der Drucksachen —.\\nName\\nl.\\nl 2. !\\n4.\\nAbstimmung\\n5.\\nName\\ni.\\n3\\n2.\\n4.\\nAbstimmung\\n5.\\nAdams .................\\nZa Nein Nein Nein\\nZa\\nFrau Agnes............\\nkrank krank krank krank krank\\nAlbrecht................. — — — — - -\\nAllekotte ................. — Nein Nein Nein Nein\\nAlpers...................\\nkrank krank krank krank krank\\nAndre ...................\\nZa Nein Nein\\nPlein\\nZa\\nFrau Ansorge.......... Nein Za\\nZa Nein\\nJa\\nZa . -\\nFrau Arendsee........ Nein Za\\nJa\\nFrau Arni,lg.......... Nein\\nJa ! Za Nein\\nZa\\nAllfhäuscr............... Nein\\nNein\\nZa\\nJa\\nZa\\nZa\\nZa\\nZa\\nZa\\n! — - ^\\nWachmann.............\\nZa ! Nein Nein - Plein\\n- -\\nBachmeier...............\\nBaecker (Berlin) .... — Nein Nein Nein\\nBader..................... Nein\\nZa\\nFrau Bartels.......... —\\nDr. Barth.............\\nZa Nein Nein Nein\\nZa\\nBartschat............... Nein\\nHa\\nZa Nein\\nZa\\nFrau Dr. Bäunier .. Nein Za\\nZa ! Za Nein\\nZa Nein Nein ^ Plein\\nDr. Bayersdörfer...\\nZa\\n— —\\n- -\\nBazille.................\\n-- ^ Nein Nein Nein\\nBeck (Oppeln)..........\\nZa\\nZa Nein Nein\\nBecker (Arnsberg)...\\nZa Nein\\nDr. Becker (Hessen). .\\nZa Nein Nein Nein\\nZa\\nBecker (Herborn).... Nein\\nZa ! Plein\\nZa\\nFrau Dr. Beym... krank krank krank krank ^ krank\\nBehrens.................\\nZa Nein Nein\\nZa\\nZa\\nBeier (Dresden)....\\nDr. Bell.................\\nZa Nein - Nein Plein Nein\\nBender................... Nein\\nZa Nein\\nZa\\nDr. Bergsträßer .... Nein! Za\\nZa ! Nein\\nBerudt...................\\nZa\\nBernstein............... Nein\\nZa ^ Plein\\nJa\\nGraf v. Bernstorff.. Nein l Za\\nZa ! Nein\\nZa ! Nein Nein Nein\\nNein Nein Plein!\\nZa\\nJa\\nJa\\nZa\\nJa Ja Za\\nZa\\nZa\\nZa\\nPlein\\nBertz .....................\\nZa\\nZa j Za\\nDr. Best................. Nein Plein Plein Nein ! Za\\nPlein Plein Plein\\nPlein\\nDr. Bensch.............\\nZa\\nkrank krank krank krank krank\\nBeythien.................\\nPlein Nein Nein\\nBickes.....................\\nZa\\nZa\\nZa Nein Nein ! Nein\\nBimer.............\\nZa\\nZa ^ Za Nein\\nBiester................... Nein\\nZa Nein Plein Nein\\nFürst Bismarck........\\nZa\\nZa Nein Nein Plein\\nBlum.....................\\nZa\\nPlein\\nNein\\nBock.......................\\nZa\\nZa\\nZa i Plein ^ Plein\\nNein\\nDr. Bockius...........\\nZa\\nkrank krank krank krank krank\\nBohla.....................\\nFrau Bvbul-Schnch . Nein\\nPlein\\nZa\\nZa\\nZa\\nZa Nein Plein Plein\\nBolz......................\\nZa\\nPlein Plein Nein\\nBornefeld-Ettmaim..\\nZa\\nZa\\nNein Nein Nein\\nBorrmaim.............\\nZa\\nkrank krank krank krank krank\\nBossen...................\\nNein\\nBraun (Düsseldorf) .\\nPlein\\nPlein\\nDr. Braun (Franken)\\nZa\\nZa\\nZa\\nDr. Brauns (München-\\nPlein Plein\\nNein\\nGladbach) ............\\nZa\\nZa\\nZa i Plein Nein Nein\\nD. Dr. Dr. Brcdt...\\nZa\\nPlein\\nNein j Za . Za\\nDr. Breitscheid.......\\nZa\\nPlein Plein Plein\\nBrekelbaum ...........\\nZa\\nZa\\nPlein\\nPlein ^ Za\\nBrev .....................\\nZa\\nZa\\nNein\\nBrodauf................. Nein? Za\\n2a , Za\\nZa Nein Plein Plein\\nBrühn...................\\nZa\\nZa Nein\\nPlein Nein\\nDr. Brüning..........\\nZa\\nZa Nein Plein Nein\\nZa\\nBrüninghans.........\\nNein Nein Nein Nein\\nBuchholz.................\\nBttchlnaim.............\\nNein\\nBilchwiß.................\\nBudjuhn.................\\nZa\\nBütt.......................\\nPlein\\nBülow .................... Nein\\nPlein! Za\\nZa ! Za\\nZa Nein Plein i Plein\\nPlein! Za ! Za Za Nein Plein i Plein Za\\nZa\\nZa'"
      ]
     },
     "execution_count": 43,
     "metadata": {},
     "output_type": "execute_result"
    }
   ],
   "source": [
    "label.text()"
   ]
  },
  {
   "cell_type": "code",
   "execution_count": 48,
   "metadata": {},
   "outputs": [
    {
     "data": {
      "text/plain": [
       "[<LTTextLineHorizontal>, <LTTextLineHorizontal>, <LTTextLineHorizontal>, <LTTextLineHorizontal>, <LTTextBoxHorizontal>, <LTTextLineHorizontal>, <LTTextLineHorizontal>, <LTTextBoxHorizontal>, <LTTextLineHorizontal>, <LTTextLineHorizontal>, <LTTextLineHorizontal>, <LTTextLineHorizontal>, <LTTextLineHorizontal>, <LTTextBoxHorizontal>, <LTTextLineHorizontal>, <LTTextLineHorizontal>, <LTTextLineHorizontal>, <LTTextBoxHorizontal>, <LTTextLineHorizontal>, <LTTextBoxHorizontal>, <LTTextBoxHorizontal>, <LTTextBoxHorizontal>, <LTTextBoxHorizontal>, <LTTextBoxHorizontal>, <LTTextLineHorizontal>]"
      ]
     },
     "execution_count": 48,
     "metadata": {},
     "output_type": "execute_result"
    }
   ],
   "source": [
    "label.children().children().children()[0]"
   ]
  },
  {
   "cell_type": "code",
   "execution_count": 87,
   "metadata": {},
   "outputs": [],
   "source": [
    "line=pdf.pq('LTTextLineHorizontal:contains(\"Namentliche Abstimmungen\")')"
   ]
  },
  {
   "cell_type": "code",
   "execution_count": 88,
   "metadata": {},
   "outputs": [
    {
     "data": {
      "text/plain": [
       "['Fn',\n",
       " '__add__',\n",
       " '__call__',\n",
       " '__class__',\n",
       " '__contains__',\n",
       " '__delattr__',\n",
       " '__delitem__',\n",
       " '__dict__',\n",
       " '__dir__',\n",
       " '__doc__',\n",
       " '__eq__',\n",
       " '__format__',\n",
       " '__ge__',\n",
       " '__getattribute__',\n",
       " '__getitem__',\n",
       " '__gt__',\n",
       " '__hash__',\n",
       " '__html__',\n",
       " '__iadd__',\n",
       " '__imul__',\n",
       " '__init__',\n",
       " '__init_subclass__',\n",
       " '__iter__',\n",
       " '__le__',\n",
       " '__len__',\n",
       " '__lt__',\n",
       " '__module__',\n",
       " '__mul__',\n",
       " '__ne__',\n",
       " '__new__',\n",
       " '__reduce__',\n",
       " '__reduce_ex__',\n",
       " '__repr__',\n",
       " '__reversed__',\n",
       " '__rmul__',\n",
       " '__setattr__',\n",
       " '__setitem__',\n",
       " '__sizeof__',\n",
       " '__str__',\n",
       " '__subclasshook__',\n",
       " '__unicode__',\n",
       " '__weakref__',\n",
       " '_append',\n",
       " '_base_url',\n",
       " '_copy',\n",
       " '_css_to_xpath',\n",
       " '_extend',\n",
       " '_filter_only',\n",
       " '_get_root',\n",
       " '_next_all',\n",
       " '_parent',\n",
       " '_prev_all',\n",
       " '_translator',\n",
       " '_translator_class',\n",
       " '_traverse',\n",
       " '_traverse_parent_topdown',\n",
       " 'addClass',\n",
       " 'add_class',\n",
       " 'after',\n",
       " 'append',\n",
       " 'appendTo',\n",
       " 'append_to',\n",
       " 'attr',\n",
       " 'base_url',\n",
       " 'before',\n",
       " 'children',\n",
       " 'clear',\n",
       " 'clone',\n",
       " 'closest',\n",
       " 'contents',\n",
       " 'copy',\n",
       " 'count',\n",
       " 'css',\n",
       " 'each',\n",
       " 'empty',\n",
       " 'encoding',\n",
       " 'end',\n",
       " 'eq',\n",
       " 'extend',\n",
       " 'filter',\n",
       " 'find',\n",
       " 'fn',\n",
       " 'hasClass',\n",
       " 'has_class',\n",
       " 'height',\n",
       " 'hide',\n",
       " 'html',\n",
       " 'index',\n",
       " 'insert',\n",
       " 'insertAfter',\n",
       " 'insertBefore',\n",
       " 'insert_after',\n",
       " 'insert_before',\n",
       " 'is_',\n",
       " 'items',\n",
       " 'length',\n",
       " 'make_links_absolute',\n",
       " 'map',\n",
       " 'namespaces',\n",
       " 'next',\n",
       " 'nextAll',\n",
       " 'next_all',\n",
       " 'not_',\n",
       " 'outerHtml',\n",
       " 'outer_html',\n",
       " 'parent',\n",
       " 'parents',\n",
       " 'parser',\n",
       " 'pop',\n",
       " 'prepend',\n",
       " 'prependTo',\n",
       " 'prepend_to',\n",
       " 'prev',\n",
       " 'prevAll',\n",
       " 'prev_all',\n",
       " 'remove',\n",
       " 'removeAttr',\n",
       " 'removeClass',\n",
       " 'remove_attr',\n",
       " 'remove_class',\n",
       " 'remove_namespaces',\n",
       " 'replaceAll',\n",
       " 'replaceWith',\n",
       " 'replace_all',\n",
       " 'replace_with',\n",
       " 'reverse',\n",
       " 'root',\n",
       " 'show',\n",
       " 'siblings',\n",
       " 'size',\n",
       " 'sort',\n",
       " 'text',\n",
       " 'toggleClass',\n",
       " 'toggle_class',\n",
       " 'val',\n",
       " 'width',\n",
       " 'wrap',\n",
       " 'wrapAll',\n",
       " 'wrap_all',\n",
       " 'xhtml_to_html']"
      ]
     },
     "execution_count": 88,
     "metadata": {},
     "output_type": "execute_result"
    }
   ],
   "source": [
    "dir(line)"
   ]
  },
  {
   "cell_type": "code",
   "execution_count": 73,
   "metadata": {},
   "outputs": [
    {
     "data": {
      "text/plain": [
       "[<LTTextLineHorizontal>, <LTTextLineHorizontal>, <LTTextLineHorizontal>, <LTTextBoxHorizontal>, <LTTextLineHorizontal>, <LTTextLineHorizontal>, <LTTextBoxHorizontal>, <LTTextLineHorizontal>, <LTTextLineHorizontal>, <LTTextLineHorizontal>, <LTTextLineHorizontal>, <LTTextLineHorizontal>, <LTTextBoxHorizontal>, <LTTextLineHorizontal>, <LTTextLineHorizontal>, <LTTextLineHorizontal>, <LTTextBoxHorizontal>, <LTTextLineHorizontal>, <LTTextBoxHorizontal>, <LTTextBoxHorizontal>, <LTTextBoxHorizontal>, <LTTextBoxHorizontal>, <LTTextBoxHorizontal>, <LTTextLineHorizontal>]"
      ]
     },
     "execution_count": 73,
     "metadata": {},
     "output_type": "execute_result"
    }
   ],
   "source": [
    "line.siblings()"
   ]
  },
  {
   "cell_type": "code",
   "execution_count": 74,
   "metadata": {},
   "outputs": [],
   "source": [
    "der = pdf.pq('LTTextLineHorizontal:contains(\"der\")')"
   ]
  },
  {
   "cell_type": "code",
   "execution_count": 78,
   "metadata": {},
   "outputs": [
    {
     "name": "stdout",
     "output_type": "stream",
     "text": [
      "\n",
      "1. über den Antrag des 9. Ausschusses (Soziale Angelegenheiten) — Nr. 937 Ziffer 1 der Drucksache» — aus \n",
      "der Dauer der Erwerbslosennnterstützung im besetzten Gebiet — Nr. 917 der Drucksachen — \n",
      "\n",
      "\n",
      "3. über die Änderungsanträge Müller (Frauken) und Genossen — Nr. 943 der Drucksachen — und Ronneburg, \n",
      "Koch-Weser und Genossen — Nr. 1037 der Drucksachen — zur zweiten Beratung des vom 11. Ausschuß \n",
      "beantragten Entwurfs eines Gesetzes zur Änderung der Pachtschutzorduuug — Nr. 928 der Drucksachen — \n",
      "4. über den Änderungsantrag Ronneburg, Koch-Weser und Genossen — Nr. 1037 Ziffer 3 der Drucksachen — \n",
      "zur zweiten Beratung des vom 11. Ausschuß beantragten Entwurfs eines Gesetzes zur Änderung der Bacht- \n",
      "schutzordnnng — Nr. 928 der Drucksachen — \n",
      "\n",
      "Bader..................... Nein \n",
      "Bender................... Nein \n",
      "Dr. v. Dryander ... \n",
      "Feder............................. Nein Nein Nein enthalten Ja \n",
      "Frau Dr. Lüders ... \n",
      "Neddermeyer........... \n",
      "Rheinländer............ \n",
      "Röder (Baden)........ \n",
      "Röder (Franken).... \n",
      "Schneider (Berlin)... Nein Za \n",
      "Dr. Schneider \n",
      "Dr. Schneider \n",
      "Schröder (Mecklen- \n",
      "Frau Schroeder \n",
      "Frau Sender........... Nein Za \n",
      "Dr. Wunderlich .... \n",
      "\n"
     ]
    }
   ],
   "source": [
    "for d in der:\n",
    "    print(d.text)"
   ]
  },
  {
   "cell_type": "code",
   "execution_count": 120,
   "metadata": {},
   "outputs": [
    {
     "name": "stdout",
     "output_type": "stream",
     "text": [
      "<Element LTTextLineHorizontal at 0x1150bdd18>\n",
      "<Element LTTextLineHorizontal at 0x1150bdd68>\n",
      "<Element LTTextLineHorizontal at 0x1150d1458>\n",
      "<Element LTTextBoxHorizontal at 0x1150d6408>\n",
      "<Element LTTextLineHorizontal at 0x1150ee818>\n",
      "<Element LTTextLineHorizontal at 0x1150f6ef8>\n",
      "<Element LTTextBoxHorizontal at 0x1150fd228>\n",
      "<Element LTTextLineHorizontal at 0x115129368>\n",
      "<Element LTTextLineHorizontal at 0x115132a48>\n",
      "<Element LTTextLineHorizontal at 0x11513a408>\n",
      "<Element LTTextLineHorizontal at 0x11513a7c8>\n",
      "<Element LTTextLineHorizontal at 0x11513aa48>\n",
      "<Element LTTextBoxHorizontal at 0x11513af98>\n",
      "<Element LTTextLineHorizontal at 0x11513c9f8>\n",
      "<Element LTTextLineHorizontal at 0x11513cc78>\n",
      "<Element LTTextLineHorizontal at 0x11513f098>\n",
      "<Element LTTextBoxHorizontal at 0x11513f548>\n",
      "<Element LTTextLineHorizontal at 0x115141278>\n",
      "<Element LTTextBoxHorizontal at 0x1151414a8>\n",
      "<Element LTTextBoxHorizontal at 0x11516b458>\n",
      "<Element LTTextBoxHorizontal at 0x1151bc818>\n",
      "<Element LTTextBoxHorizontal at 0x1151bd908>\n",
      "<Element LTTextBoxHorizontal at 0x1152875e8>\n",
      "<Element LTTextLineHorizontal at 0x11528c368>\n"
     ]
    }
   ],
   "source": [
    "for something in line.siblings():\n",
    "    print(something)"
   ]
  },
  {
   "cell_type": "code",
   "execution_count": 121,
   "metadata": {},
   "outputs": [
    {
     "data": {
      "text/plain": [
       "[<LTTextLineHorizontal>]"
      ]
     },
     "execution_count": 121,
     "metadata": {},
     "output_type": "execute_result"
    }
   ],
   "source": [
    "line"
   ]
  },
  {
   "cell_type": "code",
   "execution_count": 100,
   "metadata": {},
   "outputs": [
    {
     "data": {
      "text/plain": [
       "[<LTFigure>]"
      ]
     },
     "execution_count": 100,
     "metadata": {},
     "output_type": "execute_result"
    }
   ],
   "source": [
    "line.parent().parent().children()"
   ]
  },
  {
   "cell_type": "code",
   "execution_count": 109,
   "metadata": {},
   "outputs": [
    {
     "data": {
      "text/plain": [
       "pyquery.pyquery.PyQuery"
      ]
     },
     "execution_count": 109,
     "metadata": {},
     "output_type": "execute_result"
    }
   ],
   "source": [
    "type(line)"
   ]
  },
  {
   "cell_type": "code",
   "execution_count": 108,
   "metadata": {},
   "outputs": [
    {
     "data": {
      "text/plain": [
       "<pyquery.pyquery.PyQuery.Fn at 0x1168e9a90>"
      ]
     },
     "execution_count": 108,
     "metadata": {},
     "output_type": "execute_result"
    }
   ],
   "source": [
    "line.Fn()"
   ]
  },
  {
   "cell_type": "code",
   "execution_count": 112,
   "metadata": {},
   "outputs": [
    {
     "data": {
      "text/plain": [
       "<Element LTTextLineHorizontal at 0x1150d1458>"
      ]
     },
     "execution_count": 112,
     "metadata": {},
     "output_type": "execute_result"
    }
   ],
   "source": [
    "line.nextAll()[0]"
   ]
  },
  {
   "cell_type": "code",
   "execution_count": 113,
   "metadata": {},
   "outputs": [
    {
     "data": {
      "text/plain": [
       "[<LTTextLineHorizontal>]"
      ]
     },
     "execution_count": 113,
     "metadata": {},
     "output_type": "execute_result"
    }
   ],
   "source": [
    "line.next()"
   ]
  },
  {
   "cell_type": "code",
   "execution_count": 122,
   "metadata": {},
   "outputs": [
    {
     "name": "stdout",
     "output_type": "stream",
     "text": [
      "<LTFigure y0=\"0.0\" y1=\"841.9\" x0=\"0.0\" x1=\"595.3\" width=\"595.3\" height=\"841.9\" bbox=\"[0.0, 0.0, 595.3, 841.9]\" name=\"BG\" matrix=\"[595.3, 0.0, 0.0, 841.9, 0.0, 0.0]\" style=\"display: block\"><LTTextLineHorizontal y0=\"776.532\" y1=\"791.064\" x0=\"65.65\" x1=\"85.8\" width=\"20.15\" height=\"14.532\" bbox=\"[65.65, 776.532, 85.8, 791.064]\" word_margin=\"0.1\"><LTTextBoxHorizontal y0=\"776.532\" y1=\"791.064\" x0=\"65.65\" x1=\"85.8\" width=\"20.15\" height=\"14.532\" bbox=\"[65.65, 776.532, 85.8, 791.064]\" index=\"0\">2566 </LTTextBoxHorizontal></LTTextLineHorizontal><LTTextLineHorizontal y0=\"776.982\" y1=\"791.514\" x0=\"178.44\" x1=\"423.964\" width=\"245.524\" height=\"14.532\" bbox=\"[178.44, 776.982, 423.964, 791.514]\" word_margin=\"0.1\"><LTTextBoxHorizontal y0=\"776.982\" y1=\"791.514\" x0=\"178.44\" x1=\"423.964\" width=\"245.524\" height=\"14.532\" bbox=\"[178.44, 776.982, 423.964, 791.514]\" index=\"1\">Reichstag. — 81. Sitzung. Dienstag den 26. Juni 1925. </LTTextBoxHorizontal></LTTextLineHorizontal><LTTextLineHorizontal y0=\"701.946\" y1=\"727.539\" x0=\"190.3\" x1=\"415.993\" width=\"225.693\" height=\"25.593\" bbox=\"[190.3, 701.946, 415.993, 727.539]\" word_margin=\"0.1\" style=\"display: block\"><LTTextBoxHorizontal y0=\"701.946\" y1=\"727.539\" x0=\"190.3\" x1=\"415.993\" width=\"225.693\" height=\"25.593\" bbox=\"[190.3, 701.946, 415.993, 727.539]\" index=\"2\">Namentliche Abstimmungen </LTTextBoxHorizontal></LTTextLineHorizontal><LTTextLineHorizontal y0=\"676.224\" y1=\"691.448\" x0=\"171.5\" x1=\"431.639\" width=\"260.139\" height=\"15.224\" bbox=\"[171.5, 676.224, 431.639, 691.448]\" word_margin=\"0.1\"><LTTextBoxHorizontal y0=\"676.224\" y1=\"691.448\" x0=\"171.5\" x1=\"431.639\" width=\"260.139\" height=\"15.224\" bbox=\"[171.5, 676.224, 431.639, 691.448]\" index=\"3\">in der 81. Sitzung am Dienstag den 23. Juni 1925 </LTTextBoxHorizontal></LTTextLineHorizontal><LTTextBoxHorizontal y0=\"633.124\" y1=\"673.641\" x0=\"66.099\" x1=\"539.013\" width=\"472.914\" height=\"40.517\" bbox=\"[66.099, 633.124, 539.013, 673.641]\" index=\"4\"><LTTextLineHorizontal y0=\"658.824\" y1=\"673.641\" x0=\"66.099\" x1=\"539.013\" width=\"472.914\" height=\"14.817\" bbox=\"[66.099, 658.824, 539.013, 673.641]\" word_margin=\"0.1\">1. über den Antrag des 9. Ausschusses (Soziale Angelegenheiten) — Nr. 937 Ziffer 1 der Drucksache» — aus </LTTextLineHorizontal><LTTextLineHorizontal y0=\"645.824\" y1=\"660.641\" x0=\"78.849\" x1=\"538.562\" width=\"459.714\" height=\"14.817\" bbox=\"[78.849, 645.824, 538.562, 660.641]\" word_margin=\"0.1\">Ablehnung des Antrags Müller (Franken) und Genossen, betreffend den Entwurf eines Gesetzes zur Verlängerung </LTTextLineHorizontal><LTTextLineHorizontal y0=\"633.124\" y1=\"647.941\" x0=\"78.849\" x1=\"472.9\" width=\"394.051\" height=\"14.817\" bbox=\"[78.849, 633.124, 472.9, 647.941]\" word_margin=\"0.1\">der Dauer der Erwerbslosennnterstützung im besetzten Gebiet — Nr. 917 der Drucksachen — </LTTextLineHorizontal></LTTextBoxHorizontal><LTTextLineHorizontal y0=\"618.224\" y1=\"633.041\" x0=\"65.4\" x1=\"538.812\" width=\"473.413\" height=\"14.817\" bbox=\"[65.4, 618.224, 538.812, 633.041]\" word_margin=\"0.1\"><LTTextBoxHorizontal y0=\"618.224\" y1=\"633.041\" x0=\"65.4\" x1=\"538.812\" width=\"473.413\" height=\"14.817\" bbox=\"[65.4, 618.224, 538.812, 633.041]\" index=\"5\">2. über Artikel 1 Ziffer 4 des Entwurfs eines Gesetzes zur Änderung der Pachtschutzordnung vom 9. Zuni 1926 </LTTextBoxHorizontal></LTTextLineHorizontal><LTTextLineHorizontal y0=\"605.174\" y1=\"619.991\" x0=\"78.349\" x1=\"318.85\" width=\"240.501\" height=\"14.817\" bbox=\"[78.349, 605.174, 318.85, 619.991]\" word_margin=\"0.1\"><LTTextBoxHorizontal y0=\"605.174\" y1=\"619.991\" x0=\"78.349\" x1=\"318.85\" width=\"240.501\" height=\"14.817\" bbox=\"[78.349, 605.174, 318.85, 619.991]\" index=\"6\">(Reichsgesetzbl. S. 1193) — Nr. 928 der Drucksachen — </LTTextBoxHorizontal></LTTextLineHorizontal><LTTextBoxHorizontal y0=\"524.424\" y1=\"605.341\" x0=\"64.9\" x1=\"538.812\" width=\"473.913\" height=\"80.917\" bbox=\"[64.9, 524.424, 538.812, 605.341]\" index=\"7\"><LTTextLineHorizontal y0=\"590.524\" y1=\"605.341\" x0=\"65.4\" x1=\"538.562\" width=\"473.163\" height=\"14.817\" bbox=\"[65.4, 590.524, 538.562, 605.341]\" word_margin=\"0.1\">3. über die Änderungsanträge Müller (Frauken) und Genossen — Nr. 943 der Drucksachen — und Ronneburg, </LTTextLineHorizontal><LTTextLineHorizontal y0=\"577.824\" y1=\"592.641\" x0=\"78.349\" x1=\"538.562\" width=\"460.214\" height=\"14.817\" bbox=\"[78.349, 577.824, 538.562, 592.641]\" word_margin=\"0.1\">Koch-Weser und Genossen — Nr. 1037 der Drucksachen — zur zweiten Beratung des vom 11. Ausschuß </LTTextLineHorizontal><LTTextLineHorizontal y0=\"564.974\" y1=\"579.791\" x0=\"78.599\" x1=\"536.75\" width=\"458.151\" height=\"14.817\" bbox=\"[78.599, 564.974, 536.75, 579.791]\" word_margin=\"0.1\">beantragten Entwurfs eines Gesetzes zur Änderung der Pachtschutzorduuug — Nr. 928 der Drucksachen — </LTTextLineHorizontal><LTTextLineHorizontal y0=\"550.074\" y1=\"564.891\" x0=\"64.9\" x1=\"538.812\" width=\"473.913\" height=\"14.817\" bbox=\"[64.9, 550.074, 538.812, 564.891]\" word_margin=\"0.1\">4. über den Änderungsantrag Ronneburg, Koch-Weser und Genossen — Nr. 1037 Ziffer 3 der Drucksachen — </LTTextLineHorizontal><LTTextLineHorizontal y0=\"537.374\" y1=\"552.191\" x0=\"78.099\" x1=\"538.352\" width=\"460.253\" height=\"14.817\" bbox=\"[78.099, 537.374, 538.352, 552.191]\" word_margin=\"0.1\">zur zweiten Beratung des vom 11. Ausschuß beantragten Entwurfs eines Gesetzes zur Änderung der Bacht- </LTTextLineHorizontal><LTTextLineHorizontal y0=\"524.424\" y1=\"539.241\" x0=\"78.349\" x1=\"272.3\" width=\"193.951\" height=\"14.817\" bbox=\"[78.349, 524.424, 272.3, 539.241]\" word_margin=\"0.1\">schutzordnnng — Nr. 928 der Drucksachen — </LTTextLineHorizontal></LTTextBoxHorizontal><LTTextLineHorizontal y0=\"509.624\" y1=\"524.441\" x0=\"65.15\" x1=\"538.312\" width=\"473.163\" height=\"14.817\" bbox=\"[65.15, 509.624, 538.312, 524.441]\" word_margin=\"0.1\"><LTTextBoxHorizontal y0=\"509.624\" y1=\"524.441\" x0=\"65.15\" x1=\"538.312\" width=\"473.163\" height=\"14.817\" bbox=\"[65.15, 509.624, 538.312, 524.441]\" index=\"8\">5. über den handschriftlichen Antrag Henning unter 6 zur zweiten Beratung des vom 11. Allsschuß beantragten </LTTextBoxHorizontal></LTTextLineHorizontal><LTTextLineHorizontal y0=\"496.924\" y1=\"511.741\" x0=\"78.099\" x1=\"482.5\" width=\"404.401\" height=\"14.817\" bbox=\"[78.099, 496.924, 482.5, 511.741]\" word_margin=\"0.1\"><LTTextBoxHorizontal y0=\"496.924\" y1=\"511.741\" x0=\"78.099\" x1=\"482.5\" width=\"404.401\" height=\"14.817\" bbox=\"[78.099, 496.924, 482.5, 511.741]\" index=\"9\">Entwurfs eines Gesetzes zur Änderung der Bachtschntzordnung — Nr. 928 der Drucksachen —. </LTTextBoxHorizontal></LTTextLineHorizontal><LTTextLineHorizontal y0=\"458.424\" y1=\"473.241\" x0=\"94.45\" x1=\"124.458\" width=\"30.008\" height=\"14.817\" bbox=\"[94.45, 458.424, 124.458, 473.241]\" word_margin=\"0.1\"><LTTextBoxHorizontal y0=\"458.424\" y1=\"473.241\" x0=\"94.45\" x1=\"124.458\" width=\"30.008\" height=\"14.817\" bbox=\"[94.45, 458.424, 124.458, 473.241]\" index=\"10\">Name </LTTextBoxHorizontal></LTTextLineHorizontal><LTTextLineHorizontal y0=\"467.024\" y1=\"481.841\" x0=\"169.1\" x1=\"175.308\" width=\"6.208\" height=\"14.817\" bbox=\"[169.1, 467.024, 175.308, 481.841]\" word_margin=\"0.1\"><LTTextBoxHorizontal y0=\"467.024\" y1=\"481.841\" x0=\"169.1\" x1=\"175.308\" width=\"6.208\" height=\"14.817\" bbox=\"[169.1, 467.024, 175.308, 481.841]\" index=\"11\">l. </LTTextBoxHorizontal></LTTextLineHorizontal><LTTextLineHorizontal y0=\"466.924\" y1=\"481.741\" x0=\"184.44\" x1=\"214.713\" width=\"30.273\" height=\"14.817\" bbox=\"[184.44, 466.924, 214.713, 481.741]\" word_margin=\"0.1\"><LTTextBoxHorizontal y0=\"466.924\" y1=\"481.741\" x0=\"184.44\" x1=\"214.713\" width=\"30.273\" height=\"14.817\" bbox=\"[184.44, 466.924, 214.713, 481.741]\" index=\"12\">l 2. ! </LTTextBoxHorizontal></LTTextLineHorizontal><LTTextBoxHorizontal y0=\"451.674\" y1=\"481.741\" x0=\"200.75\" x1=\"258.25\" width=\"57.5\" height=\"30.067\" bbox=\"[200.75, 451.674, 258.25, 481.741]\" index=\"13\"><LTTextLineHorizontal y0=\"466.924\" y1=\"481.741\" x0=\"251.05\" x1=\"258.25\" width=\"7.2\" height=\"14.817\" bbox=\"[251.05, 466.924, 258.25, 481.741]\" word_margin=\"0.1\">4. </LTTextLineHorizontal><LTTextLineHorizontal y0=\"451.674\" y1=\"466.491\" x0=\"200.75\" x1=\"252.593\" width=\"51.843\" height=\"14.817\" bbox=\"[200.75, 451.674, 252.593, 466.491]\" word_margin=\"0.1\">Abstimmung </LTTextLineHorizontal></LTTextBoxHorizontal><LTTextLineHorizontal y0=\"466.424\" y1=\"481.241\" x0=\"278.89\" x1=\"286.09\" width=\"7.2\" height=\"14.817\" bbox=\"[278.89, 466.424, 286.09, 481.241]\" word_margin=\"0.1\"><LTTextBoxHorizontal y0=\"466.424\" y1=\"481.241\" x0=\"278.89\" x1=\"286.09\" width=\"7.2\" height=\"14.817\" bbox=\"[278.89, 466.424, 286.09, 481.241]\" index=\"14\">5. </LTTextBoxHorizontal></LTTextLineHorizontal><LTTextLineHorizontal y0=\"458.624\" y1=\"473.441\" x0=\"335.89\" x1=\"367.932\" width=\"32.042\" height=\"14.817\" bbox=\"[335.89, 458.624, 367.932, 473.441]\" word_margin=\"0.1\"><LTTextBoxHorizontal y0=\"458.624\" y1=\"473.441\" x0=\"335.89\" x1=\"367.932\" width=\"32.042\" height=\"14.817\" bbox=\"[335.89, 458.624, 367.932, 473.441]\" index=\"15\">Name </LTTextBoxHorizontal></LTTextLineHorizontal><LTTextLineHorizontal y0=\"467.524\" y1=\"482.341\" x0=\"411.95\" x1=\"418.458\" width=\"6.508\" height=\"14.817\" bbox=\"[411.95, 467.524, 418.458, 482.341]\" word_margin=\"0.1\"><LTTextBoxHorizontal y0=\"467.524\" y1=\"482.341\" x0=\"411.95\" x1=\"418.458\" width=\"6.508\" height=\"14.817\" bbox=\"[411.95, 467.524, 418.458, 482.341]\" index=\"16\">i. </LTTextBoxHorizontal></LTTextLineHorizontal><LTTextBoxHorizontal y0=\"452.174\" y1=\"482.241\" x0=\"438.85\" x1=\"501.15\" width=\"62.3\" height=\"30.067\" bbox=\"[438.85, 452.174, 501.15, 482.241]\" index=\"18\"><LTTextLineHorizontal y0=\"467.424\" y1=\"482.241\" x0=\"466.1\" x1=\"473.312\" width=\"7.212\" height=\"14.817\" bbox=\"[466.1, 467.424, 473.312, 482.241]\" word_margin=\"0.1\"><LTTextBoxHorizontal y0=\"467.424\" y1=\"482.241\" x0=\"466.1\" x1=\"473.312\" width=\"7.212\" height=\"14.817\" bbox=\"[466.1, 467.424, 473.312, 482.241]\" index=\"17\">3 </LTTextBoxHorizontal></LTTextLineHorizontal><LTTextLineHorizontal y0=\"467.424\" y1=\"482.241\" x0=\"438.85\" x1=\"448.202\" width=\"9.352\" height=\"14.817\" bbox=\"[438.85, 467.424, 448.202, 482.241]\" word_margin=\"0.1\">2. </LTTextLineHorizontal><LTTextLineHorizontal y0=\"467.424\" y1=\"482.241\" x0=\"493.95\" x1=\"501.15\" width=\"7.2\" height=\"14.817\" bbox=\"[493.95, 467.424, 501.15, 482.241]\" word_margin=\"0.1\">4. </LTTextLineHorizontal><LTTextLineHorizontal y0=\"452.174\" y1=\"466.991\" x0=\"443.89\" x1=\"495.483\" width=\"51.593\" height=\"14.817\" bbox=\"[443.89, 452.174, 495.483, 466.991]\" word_margin=\"0.1\">Abstimmung </LTTextLineHorizontal></LTTextBoxHorizontal><LTTextLineHorizontal y0=\"467.174\" y1=\"481.991\" x0=\"522.0\" x1=\"528.85\" width=\"6.85\" height=\"14.817\" bbox=\"[522.0, 467.174, 528.85, 481.991]\" word_margin=\"0.1\"><LTTextBoxHorizontal y0=\"467.174\" y1=\"481.991\" x0=\"522.0\" x1=\"528.85\" width=\"6.85\" height=\"14.817\" bbox=\"[522.0, 467.174, 528.85, 481.991]\" index=\"19\">5. </LTTextBoxHorizontal></LTTextLineHorizontal><LTTextBoxHorizontal y0=\"326.624\" y1=\"439.141\" x0=\"64.45\" x1=\"291.036\" width=\"226.586\" height=\"112.517\" bbox=\"[64.45, 326.624, 291.036, 439.141]\" index=\"20\"><LTTextLineHorizontal y0=\"424.324\" y1=\"439.141\" x0=\"64.45\" x1=\"148.251\" width=\"83.801\" height=\"14.817\" bbox=\"[64.45, 424.324, 148.251, 439.141]\" word_margin=\"0.1\">Adams ................. </LTTextLineHorizontal><LTTextLineHorizontal y0=\"422.624\" y1=\"439.041\" x0=\"165.25\" x1=\"262.677\" width=\"97.427\" height=\"16.417\" bbox=\"[165.25, 422.624, 262.677, 439.041]\" word_margin=\"0.1\">Za Nein Nein Nein </LTTextLineHorizontal><LTTextLineHorizontal y0=\"422.424\" y1=\"437.241\" x0=\"275.89\" x1=\"286.49\" width=\"10.6\" height=\"14.817\" bbox=\"[275.89, 422.424, 286.49, 437.241]\" word_margin=\"0.1\">Za </LTTextLineHorizontal><LTTextLineHorizontal y0=\"413.624\" y1=\"428.441\" x0=\"64.45\" x1=\"150.738\" width=\"86.288\" height=\"14.817\" bbox=\"[64.45, 413.624, 150.738, 428.441]\" word_margin=\"0.1\">Frau Agnes............ </LTTextLineHorizontal><LTTextLineHorizontal y0=\"413.024\" y1=\"428.341\" x0=\"160.9\" x1=\"291.036\" width=\"130.136\" height=\"15.317\" bbox=\"[160.9, 413.024, 291.036, 428.341]\" word_margin=\"0.1\">krank krank krank krank krank </LTTextLineHorizontal><LTTextLineHorizontal y0=\"402.974\" y1=\"418.041\" x0=\"64.7\" x1=\"286.454\" width=\"221.754\" height=\"15.067\" bbox=\"[64.7, 402.974, 286.454, 418.041]\" word_margin=\"0.1\">Albrecht................. — — — — - - </LTTextLineHorizontal><LTTextLineHorizontal y0=\"391.924\" y1=\"407.941\" x0=\"64.7\" x1=\"289.869\" width=\"225.169\" height=\"16.017\" bbox=\"[64.7, 391.924, 289.869, 407.941]\" word_margin=\"0.1\">Allekotte ................. — Nein Nein Nein Nein </LTTextLineHorizontal><LTTextLineHorizontal y0=\"381.824\" y1=\"396.641\" x0=\"64.7\" x1=\"148.814\" width=\"84.114\" height=\"14.817\" bbox=\"[64.7, 381.824, 148.814, 396.641]\" word_margin=\"0.1\">Alpers................... </LTTextLineHorizontal><LTTextLineHorizontal y0=\"381.124\" y1=\"396.441\" x0=\"160.9\" x1=\"291.036\" width=\"130.136\" height=\"15.317\" bbox=\"[160.9, 381.124, 291.036, 396.441]\" word_margin=\"0.1\">krank krank krank krank krank </LTTextLineHorizontal><LTTextLineHorizontal y0=\"371.424\" y1=\"386.241\" x0=\"64.45\" x1=\"148.564\" width=\"84.114\" height=\"14.817\" bbox=\"[64.45, 371.424, 148.564, 386.241]\" word_margin=\"0.1\">Andre ................... </LTTextLineHorizontal><LTTextLineHorizontal y0=\"369.624\" y1=\"385.641\" x0=\"165.25\" x1=\"234.761\" width=\"69.511\" height=\"16.017\" bbox=\"[165.25, 369.624, 234.761, 385.641]\" word_margin=\"0.1\">Za Nein Nein </LTTextLineHorizontal><LTTextLineHorizontal y0=\"370.574\" y1=\"385.391\" x0=\"272.05\" x1=\"289.852\" width=\"17.802\" height=\"14.817\" bbox=\"[272.05, 370.574, 289.852, 385.391]\" word_margin=\"0.1\">Plein </LTTextLineHorizontal><LTTextLineHorizontal y0=\"369.124\" y1=\"383.941\" x0=\"248.05\" x1=\"258.901\" width=\"10.851\" height=\"14.817\" bbox=\"[248.05, 369.124, 258.901, 383.941]\" word_margin=\"0.1\">Za </LTTextLineHorizontal><LTTextLineHorizontal y0=\"358.824\" y1=\"375.291\" x0=\"64.45\" x1=\"203.954\" width=\"139.504\" height=\"16.467\" bbox=\"[64.45, 358.824, 203.954, 375.291]\" word_margin=\"0.1\">Frau Ansorge.......... Nein Za </LTTextLineHorizontal><LTTextLineHorizontal y0=\"358.574\" y1=\"374.841\" x0=\"248.05\" x1=\"289.87\" width=\"41.82\" height=\"16.267\" bbox=\"[248.05, 358.574, 289.87, 374.841]\" word_margin=\"0.1\">Za Nein </LTTextLineHorizontal><LTTextLineHorizontal y0=\"359.624\" y1=\"374.441\" x0=\"220.3\" x1=\"231.325\" width=\"11.025\" height=\"14.817\" bbox=\"[220.3, 359.624, 231.325, 374.441]\" word_margin=\"0.1\">Ja </LTTextLineHorizontal><LTTextLineHorizontal y0=\"347.774\" y1=\"364.741\" x0=\"248.05\" x1=\"278.308\" width=\"30.258\" height=\"16.967\" bbox=\"[248.05, 347.774, 278.308, 364.741]\" word_margin=\"0.1\">Za . - </LTTextLineHorizontal><LTTextLineHorizontal y0=\"348.024\" y1=\"364.741\" x0=\"64.45\" x1=\"203.954\" width=\"139.504\" height=\"16.717\" bbox=\"[64.45, 348.024, 203.954, 364.741]\" word_margin=\"0.1\">Frau Arendsee........ Nein Za </LTTextLineHorizontal><LTTextLineHorizontal y0=\"349.324\" y1=\"364.141\" x0=\"220.55\" x1=\"231.324\" width=\"10.774\" height=\"14.817\" bbox=\"[220.55, 349.324, 231.324, 364.141]\" word_margin=\"0.1\">Ja </LTTextLineHorizontal><LTTextLineHorizontal y0=\"339.224\" y1=\"354.191\" x0=\"64.45\" x1=\"179.387\" width=\"114.937\" height=\"14.967\" bbox=\"[64.45, 339.224, 179.387, 354.191]\" word_margin=\"0.1\">Frau Arni,lg.......... Nein </LTTextLineHorizontal><LTTextLineHorizontal y0=\"337.224\" y1=\"353.441\" x0=\"220.1\" x1=\"289.87\" width=\"69.77\" height=\"16.217\" bbox=\"[220.1, 337.224, 289.87, 353.441]\" word_margin=\"0.1\">Ja ! Za Nein </LTTextLineHorizontal><LTTextLineHorizontal y0=\"337.424\" y1=\"352.241\" x0=\"192.6\" x1=\"203.451\" width=\"10.851\" height=\"14.817\" bbox=\"[192.6, 337.424, 203.451, 352.241]\" word_margin=\"0.1\">Za </LTTextLineHorizontal><LTTextLineHorizontal y0=\"328.574\" y1=\"343.641\" x0=\"64.45\" x1=\"179.221\" width=\"114.771\" height=\"15.067\" bbox=\"[64.45, 328.574, 179.221, 343.641]\" word_margin=\"0.1\">Allfhäuscr............... Nein </LTTextLineHorizontal><LTTextLineHorizontal y0=\"328.074\" y1=\"342.891\" x0=\"272.05\" x1=\"289.87\" width=\"17.82\" height=\"14.817\" bbox=\"[272.05, 328.074, 289.87, 342.891]\" word_margin=\"0.1\">Nein </LTTextLineHorizontal><LTTextLineHorizontal y0=\"327.374\" y1=\"342.191\" x0=\"192.6\" x1=\"203.451\" width=\"10.851\" height=\"14.817\" bbox=\"[192.6, 327.374, 203.451, 342.191]\" word_margin=\"0.1\">Za </LTTextLineHorizontal><LTTextLineHorizontal y0=\"326.774\" y1=\"341.591\" x0=\"220.1\" x1=\"230.975\" width=\"10.875\" height=\"14.817\" bbox=\"[220.1, 326.774, 230.975, 341.591]\" word_margin=\"0.1\">Ja </LTTextLineHorizontal><LTTextLineHorizontal y0=\"326.624\" y1=\"341.441\" x0=\"248.05\" x1=\"258.65\" width=\"10.6\" height=\"14.817\" bbox=\"[248.05, 326.624, 258.65, 341.441]\" word_margin=\"0.1\">Za </LTTextLineHorizontal></LTTextBoxHorizontal><LTTextBoxHorizontal y0=\"61.674\" y1=\"311.441\" x0=\"63.7\" x1=\"290.337\" width=\"226.637\" height=\"249.767\" bbox=\"[63.7, 61.674, 290.337, 311.441]\" index=\"25\"><LTTextLineHorizontal y0=\"262.324\" y1=\"277.141\" x0=\"219.94\" x1=\"230.791\" width=\"10.851\" height=\"14.817\" bbox=\"[219.94, 262.324, 230.791, 277.141]\" word_margin=\"0.1\"><LTTextBoxHorizontal y0=\"262.324\" y1=\"277.141\" x0=\"219.94\" x1=\"230.791\" width=\"10.851\" height=\"14.817\" bbox=\"[219.94, 262.324, 230.791, 277.141]\" index=\"21\">Za </LTTextBoxHorizontal></LTTextLineHorizontal><LTTextLineHorizontal y0=\"263.024\" y1=\"277.841\" x0=\"192.35\" x1=\"203.453\" width=\"11.103\" height=\"14.817\" bbox=\"[192.35, 263.024, 203.453, 277.841]\" word_margin=\"0.1\"><LTTextBoxHorizontal y0=\"263.024\" y1=\"277.841\" x0=\"192.35\" x1=\"203.453\" width=\"11.103\" height=\"14.817\" bbox=\"[192.35, 263.024, 203.453, 277.841]\" index=\"22\">Za </LTTextBoxHorizontal></LTTextLineHorizontal><LTTextBoxHorizontal y0=\"273.824\" y1=\"309.541\" x0=\"275.64\" x1=\"286.248\" width=\"10.608\" height=\"35.717\" bbox=\"[275.64, 273.824, 286.248, 309.541]\" index=\"23\"><LTTextLineHorizontal y0=\"294.724\" y1=\"309.541\" x0=\"275.64\" x1=\"285.989\" width=\"10.349\" height=\"14.817\" bbox=\"[275.64, 294.724, 285.989, 309.541]\" word_margin=\"0.1\">Za </LTTextLineHorizontal><LTTextLineHorizontal y0=\"273.824\" y1=\"288.641\" x0=\"276.1\" x1=\"286.248\" width=\"10.148\" height=\"14.817\" bbox=\"[276.1, 273.824, 286.248, 288.641]\" word_margin=\"0.1\">Za </LTTextLineHorizontal></LTTextBoxHorizontal><LTTextLineHorizontal y0=\"286.324\" y1=\"301.641\" x0=\"183.85\" x1=\"239.5\" width=\"55.65\" height=\"15.317\" bbox=\"[183.85, 286.324, 239.5, 301.641]\" word_margin=\"0.1\"><LTTextBoxHorizontal y0=\"286.324\" y1=\"301.641\" x0=\"183.85\" x1=\"239.5\" width=\"55.65\" height=\"15.317\" bbox=\"[183.85, 286.324, 239.5, 301.641]\" index=\"24\">! — - ^ </LTTextBoxHorizontal></LTTextLineHorizontal><LTTextLineHorizontal y0=\"296.624\" y1=\"311.441\" x0=\"64.2\" x1=\"147.879\" width=\"83.679\" height=\"14.817\" bbox=\"[64.2, 296.624, 147.879, 311.441]\" word_margin=\"0.1\">Wachmann............. </LTTextLineHorizontal><LTTextLineHorizontal y0=\"295.424\" y1=\"311.241\" x0=\"164.75\" x1=\"261.992\" width=\"97.242\" height=\"15.817\" bbox=\"[164.75, 295.424, 261.992, 311.241]\" word_margin=\"0.1\">Za ! Nein Nein - Plein </LTTextLineHorizontal><LTTextLineHorizontal y0=\"286.324\" y1=\"301.141\" x0=\"165.25\" x1=\"175.553\" width=\"10.303\" height=\"14.817\" bbox=\"[165.25, 286.324, 175.553, 301.141]\" word_margin=\"0.1\">- - </LTTextLineHorizontal><LTTextLineHorizontal y0=\"285.824\" y1=\"300.641\" x0=\"64.45\" x1=\"147.875\" width=\"83.425\" height=\"14.817\" bbox=\"[64.45, 285.824, 147.875, 300.641]\" word_margin=\"0.1\">Bachmeier............... </LTTextLineHorizontal><LTTextLineHorizontal y0=\"275.024\" y1=\"290.091\" x0=\"64.2\" x1=\"262.177\" width=\"197.977\" height=\"15.067\" bbox=\"[64.2, 275.024, 262.177, 290.091]\" word_margin=\"0.1\">Baecker (Berlin) .... — Nein Nein Nein </LTTextLineHorizontal><LTTextLineHorizontal y0=\"264.724\" y1=\"279.791\" x0=\"64.2\" x1=\"179.137\" width=\"114.937\" height=\"15.067\" bbox=\"[64.2, 264.724, 179.137, 279.791]\" word_margin=\"0.1\">Bader..................... Nein </LTTextLineHorizontal><LTTextLineHorizontal y0=\"262.824\" y1=\"277.641\" x0=\"247.55\" x1=\"258.401\" width=\"10.851\" height=\"14.817\" bbox=\"[247.55, 262.824, 258.401, 277.641]\" word_margin=\"0.1\">Za </LTTextLineHorizontal><LTTextLineHorizontal y0=\"254.024\" y1=\"269.241\" x0=\"64.2\" x1=\"175.55\" width=\"111.35\" height=\"15.217\" bbox=\"[64.2, 254.024, 175.55, 269.241]\" word_margin=\"0.1\">Frau Bartels.......... — </LTTextLineHorizontal><LTTextLineHorizontal y0=\"243.624\" y1=\"258.441\" x0=\"64.2\" x1=\"147.629\" width=\"83.429\" height=\"14.817\" bbox=\"[64.2, 243.624, 147.629, 258.441]\" word_margin=\"0.1\">Dr. Barth............. </LTTextLineHorizontal><LTTextLineHorizontal y0=\"241.924\" y1=\"257.941\" x0=\"164.5\" x1=\"262.011\" width=\"97.511\" height=\"16.017\" bbox=\"[164.5, 241.924, 262.011, 257.941]\" word_margin=\"0.1\">Za Nein Nein Nein </LTTextLineHorizontal><LTTextLineHorizontal y0=\"241.424\" y1=\"256.241\" x0=\"275.39\" x1=\"285.99\" width=\"10.6\" height=\"14.817\" bbox=\"[275.39, 241.424, 285.99, 256.241]\" word_margin=\"0.1\">Za </LTTextLineHorizontal><LTTextLineHorizontal y0=\"232.824\" y1=\"248.091\" x0=\"64.2\" x1=\"178.962\" width=\"114.762\" height=\"15.267\" bbox=\"[64.2, 232.824, 178.962, 248.091]\" word_margin=\"0.1\">Bartschat............... Nein </LTTextLineHorizontal><LTTextLineHorizontal y0=\"232.574\" y1=\"247.391\" x0=\"192.6\" x1=\"203.464\" width=\"10.864\" height=\"14.817\" bbox=\"[192.6, 232.574, 203.464, 247.391]\" word_margin=\"0.1\">Ha </LTTextLineHorizontal><LTTextLineHorizontal y0=\"230.874\" y1=\"246.891\" x0=\"247.55\" x1=\"289.37\" width=\"41.82\" height=\"16.017\" bbox=\"[247.55, 230.874, 289.37, 246.891]\" word_margin=\"0.1\">Za Nein </LTTextLineHorizontal><LTTextLineHorizontal y0=\"230.874\" y1=\"245.691\" x0=\"219.94\" x1=\"230.791\" width=\"10.851\" height=\"14.817\" bbox=\"[219.94, 230.874, 230.791, 245.691]\" word_margin=\"0.1\">Za </LTTextLineHorizontal><LTTextLineHorizontal y0=\"220.074\" y1=\"237.041\" x0=\"63.95\" x1=\"203.454\" width=\"139.504\" height=\"16.967\" bbox=\"[63.95, 220.074, 203.454, 237.041]\" word_margin=\"0.1\">Frau Dr. Bäunier .. Nein Za </LTTextLineHorizontal><LTTextLineHorizontal y0=\"220.074\" y1=\"236.341\" x0=\"219.94\" x1=\"289.37\" width=\"69.43\" height=\"16.267\" bbox=\"[219.94, 220.074, 289.37, 236.341]\" word_margin=\"0.1\">Za ! Za Nein </LTTextLineHorizontal><LTTextLineHorizontal y0=\"210.724\" y1=\"226.241\" x0=\"164.75\" x1=\"261.743\" width=\"96.993\" height=\"15.517\" bbox=\"[164.75, 210.724, 261.743, 226.241]\" word_margin=\"0.1\">Za Nein Nein ^ Plein </LTTextLineHorizontal><LTTextLineHorizontal y0=\"211.424\" y1=\"226.241\" x0=\"64.45\" x1=\"150.85\" width=\"86.4\" height=\"14.817\" bbox=\"[64.45, 211.424, 150.85, 226.241]\" word_margin=\"0.1\">Dr. Bayersdörfer... </LTTextLineHorizontal><LTTextLineHorizontal y0=\"209.524\" y1=\"224.341\" x0=\"275.39\" x1=\"285.99\" width=\"10.6\" height=\"14.817\" bbox=\"[275.39, 209.524, 285.99, 224.341]\" word_margin=\"0.1\">Za </LTTextLineHorizontal><LTTextLineHorizontal y0=\"198.974\" y1=\"215.941\" x0=\"164.75\" x1=\"198.85\" width=\"34.1\" height=\"16.967\" bbox=\"[164.75, 198.974, 198.85, 215.941]\" word_margin=\"0.1\">— — </LTTextLineHorizontal><LTTextLineHorizontal y0=\"201.124\" y1=\"215.941\" x0=\"247.8\" x1=\"257.919\" width=\"10.119\" height=\"14.817\" bbox=\"[247.8, 201.124, 257.919, 215.941]\" word_margin=\"0.1\">- - </LTTextLineHorizontal><LTTextLineHorizontal y0=\"200.874\" y1=\"215.691\" x0=\"63.95\" x1=\"142.511\" width=\"78.561\" height=\"14.817\" bbox=\"[63.95, 200.874, 142.511, 215.691]\" word_margin=\"0.1\">Bazille................. </LTTextLineHorizontal><LTTextLineHorizontal y0=\"189.824\" y1=\"207.541\" x0=\"164.5\" x1=\"261.56\" width=\"97.06\" height=\"17.717\" bbox=\"[164.5, 189.824, 261.56, 207.541]\" word_margin=\"0.1\">-- ^ Nein Nein Nein </LTTextLineHorizontal><LTTextLineHorizontal y0=\"190.224\" y1=\"205.041\" x0=\"63.95\" x1=\"149.577\" width=\"85.627\" height=\"14.817\" bbox=\"[63.95, 190.224, 149.577, 205.041]\" word_margin=\"0.1\">Beck (Oppeln).......... </LTTextLineHorizontal><LTTextLineHorizontal y0=\"188.174\" y1=\"202.991\" x0=\"275.14\" x1=\"285.991\" width=\"10.851\" height=\"14.817\" bbox=\"[275.14, 188.174, 285.991, 202.991]\" word_margin=\"0.1\">Za </LTTextLineHorizontal><LTTextLineHorizontal y0=\"177.824\" y1=\"194.341\" x0=\"164.5\" x1=\"233.97\" width=\"69.47\" height=\"16.517\" bbox=\"[164.5, 177.824, 233.97, 194.341]\" word_margin=\"0.1\">Za Nein Nein </LTTextLineHorizontal><LTTextLineHorizontal y0=\"179.424\" y1=\"194.241\" x0=\"63.95\" x1=\"150.6\" width=\"86.65\" height=\"14.817\" bbox=\"[63.95, 179.424, 150.6, 194.241]\" word_margin=\"0.1\">Becker (Arnsberg)... </LTTextLineHorizontal><LTTextLineHorizontal y0=\"177.824\" y1=\"193.841\" x0=\"247.55\" x1=\"289.371\" width=\"41.821\" height=\"16.017\" bbox=\"[247.55, 177.824, 289.371, 193.841]\" word_margin=\"0.1\">Za Nein </LTTextLineHorizontal><LTTextLineHorizontal y0=\"168.974\" y1=\"183.791\" x0=\"63.95\" x1=\"150.35\" width=\"86.4\" height=\"14.817\" bbox=\"[63.95, 168.974, 150.35, 183.791]\" word_margin=\"0.1\">Dr. Becker (Hessen). . </LTTextLineHorizontal><LTTextLineHorizontal y0=\"167.274\" y1=\"183.541\" x0=\"164.3\" x1=\"261.772\" width=\"97.472\" height=\"16.267\" bbox=\"[164.3, 167.274, 261.772, 183.541]\" word_margin=\"0.1\">Za Nein Nein Nein </LTTextLineHorizontal><LTTextLineHorizontal y0=\"166.824\" y1=\"181.641\" x0=\"274.89\" x1=\"285.993\" width=\"11.103\" height=\"14.817\" bbox=\"[274.89, 166.824, 285.993, 181.641]\" word_margin=\"0.1\">Za </LTTextLineHorizontal><LTTextLineHorizontal y0=\"158.174\" y1=\"173.091\" x0=\"64.2\" x1=\"178.761\" width=\"114.561\" height=\"14.917\" bbox=\"[64.2, 158.174, 178.761, 173.091]\" word_margin=\"0.1\">Becker (Herborn).... Nein </LTTextLineHorizontal><LTTextLineHorizontal y0=\"156.474\" y1=\"172.741\" x0=\"247.3\" x1=\"288.807\" width=\"41.507\" height=\"16.267\" bbox=\"[247.3, 156.474, 288.807, 172.741]\" word_margin=\"0.1\">Za ! Plein </LTTextLineHorizontal><LTTextLineHorizontal y0=\"156.474\" y1=\"171.291\" x0=\"219.69\" x1=\"230.541\" width=\"10.851\" height=\"14.817\" bbox=\"[219.69, 156.474, 230.541, 171.291]\" word_margin=\"0.1\">Za </LTTextLineHorizontal><LTTextLineHorizontal y0=\"147.124\" y1=\"162.541\" x0=\"64.2\" x1=\"290.337\" width=\"226.137\" height=\"15.417\" bbox=\"[64.2, 147.124, 290.337, 162.541]\" word_margin=\"0.1\">Frau Dr. Beym... krank krank krank krank ^ krank </LTTextLineHorizontal><LTTextLineHorizontal y0=\"137.024\" y1=\"151.841\" x0=\"64.2\" x1=\"147.508\" width=\"83.308\" height=\"14.817\" bbox=\"[64.2, 137.024, 147.508, 151.841]\" word_margin=\"0.1\">Behrens................. </LTTextLineHorizontal><LTTextLineHorizontal y0=\"135.374\" y1=\"151.641\" x0=\"164.3\" x1=\"234.171\" width=\"69.871\" height=\"16.267\" bbox=\"[164.3, 135.374, 234.171, 151.641]\" word_margin=\"0.1\">Za Nein Nein </LTTextLineHorizontal><LTTextLineHorizontal y0=\"135.124\" y1=\"149.941\" x0=\"247.3\" x1=\"258.151\" width=\"10.851\" height=\"14.817\" bbox=\"[247.3, 135.124, 258.151, 149.941]\" word_margin=\"0.1\">Za </LTTextLineHorizontal><LTTextLineHorizontal y0=\"135.124\" y1=\"149.941\" x0=\"274.89\" x1=\"285.741\" width=\"10.851\" height=\"14.817\" bbox=\"[274.89, 135.124, 285.741, 149.941]\" word_margin=\"0.1\">Za </LTTextLineHorizontal><LTTextLineHorizontal y0=\"126.624\" y1=\"141.441\" x0=\"64.2\" x1=\"150.349\" width=\"86.149\" height=\"14.817\" bbox=\"[64.2, 126.624, 150.349, 141.441]\" word_margin=\"0.1\">Beier (Dresden).... </LTTextLineHorizontal><LTTextLineHorizontal y0=\"115.924\" y1=\"130.741\" x0=\"64.2\" x1=\"147.607\" width=\"83.407\" height=\"14.817\" bbox=\"[64.2, 115.924, 147.607, 130.741]\" word_margin=\"0.1\">Dr. Bell................. </LTTextLineHorizontal><LTTextLineHorizontal y0=\"114.224\" y1=\"130.741\" x0=\"164.3\" x1=\"289.17\" width=\"124.87\" height=\"16.517\" bbox=\"[164.3, 114.224, 289.17, 130.741]\" word_margin=\"0.1\">Za Nein - Nein Plein Nein </LTTextLineHorizontal><LTTextLineHorizontal y0=\"105.124\" y1=\"120.541\" x0=\"63.95\" x1=\"178.677\" width=\"114.727\" height=\"15.417\" bbox=\"[63.95, 105.124, 178.677, 120.541]\" word_margin=\"0.1\">Bender................... Nein </LTTextLineHorizontal><LTTextLineHorizontal y0=\"103.224\" y1=\"119.691\" x0=\"247.55\" x1=\"288.92\" width=\"41.37\" height=\"16.467\" bbox=\"[247.55, 103.224, 288.92, 119.691]\" word_margin=\"0.1\">Za Nein </LTTextLineHorizontal><LTTextLineHorizontal y0=\"103.424\" y1=\"118.241\" x0=\"191.9\" x1=\"202.952\" width=\"11.052\" height=\"14.817\" bbox=\"[191.9, 103.424, 202.952, 118.241]\" word_margin=\"0.1\">Za </LTTextLineHorizontal><LTTextLineHorizontal y0=\"92.874\" y1=\"109.641\" x0=\"63.95\" x1=\"202.952\" width=\"139.002\" height=\"16.767\" bbox=\"[63.95, 92.874, 202.952, 109.641]\" word_margin=\"0.1\">Dr. Bergsträßer .... Nein! Za </LTTextLineHorizontal><LTTextLineHorizontal y0=\"93.624\" y1=\"109.141\" x0=\"247.55\" x1=\"288.668\" width=\"41.118\" height=\"15.517\" bbox=\"[247.55, 93.624, 288.668, 109.141]\" word_margin=\"0.1\">Za ! Nein </LTTextLineHorizontal><LTTextLineHorizontal y0=\"84.474\" y1=\"99.291\" x0=\"63.95\" x1=\"148.279\" width=\"84.329\" height=\"14.817\" bbox=\"[63.95, 84.474, 148.279, 99.291]\" word_margin=\"0.1\">Berudt................... </LTTextLineHorizontal><LTTextLineHorizontal y0=\"82.074\" y1=\"96.891\" x0=\"274.89\" x1=\"285.741\" width=\"10.851\" height=\"14.817\" bbox=\"[274.89, 82.074, 285.741, 96.891]\" word_margin=\"0.1\">Za </LTTextLineHorizontal><LTTextLineHorizontal y0=\"73.224\" y1=\"88.641\" x0=\"63.7\" x1=\"178.511\" width=\"114.811\" height=\"15.417\" bbox=\"[63.7, 73.224, 178.511, 88.641]\" word_margin=\"0.1\">Bernstein............... Nein </LTTextLineHorizontal><LTTextLineHorizontal y0=\"72.874\" y1=\"88.041\" x0=\"247.3\" x1=\"288.566\" width=\"41.266\" height=\"15.167\" bbox=\"[247.3, 72.874, 288.566, 88.041]\" word_margin=\"0.1\">Za ^ Plein </LTTextLineHorizontal><LTTextLineHorizontal y0=\"72.224\" y1=\"87.041\" x0=\"191.9\" x1=\"202.775\" width=\"10.875\" height=\"14.817\" bbox=\"[191.9, 72.224, 202.775, 87.041]\" word_margin=\"0.1\">Ja </LTTextLineHorizontal><LTTextLineHorizontal y0=\"62.174\" y1=\"77.841\" x0=\"63.7\" x1=\"202.753\" width=\"139.053\" height=\"15.667\" bbox=\"[63.7, 62.174, 202.753, 77.841]\" word_margin=\"0.1\">Graf v. Bernstorff.. Nein l Za </LTTextLineHorizontal><LTTextLineHorizontal y0=\"61.674\" y1=\"77.441\" x0=\"247.3\" x1=\"288.669\" width=\"41.369\" height=\"15.767\" bbox=\"[247.3, 61.674, 288.669, 77.441]\" word_margin=\"0.1\">Za ! Nein </LTTextLineHorizontal><LTTextLineHorizontal y0=\"82.574\" y1=\"98.841\" x0=\"164.05\" x1=\"261.571\" width=\"97.521\" height=\"16.267\" bbox=\"[164.05, 82.574, 261.571, 98.841]\" word_margin=\"0.1\"><LTTextBoxHorizontal y0=\"82.574\" y1=\"98.841\" x0=\"164.05\" x1=\"261.571\" width=\"97.521\" height=\"16.267\" bbox=\"[164.05, 82.574, 261.571, 98.841]\" index=\"26\">Za ! Nein Nein Nein </LTTextBoxHorizontal></LTTextLineHorizontal><LTTextLineHorizontal y0=\"126.024\" y1=\"141.041\" x0=\"188.05\" x1=\"266.752\" width=\"78.702\" height=\"15.017\" bbox=\"[188.05, 126.024, 266.752, 141.041]\" word_margin=\"0.1\"><LTTextBoxHorizontal y0=\"126.024\" y1=\"141.041\" x0=\"188.05\" x1=\"266.752\" width=\"78.702\" height=\"15.017\" bbox=\"[188.05, 126.024, 266.752, 141.041]\" index=\"27\">Nein Nein Plein! </LTTextBoxHorizontal></LTTextLineHorizontal><LTTextLineHorizontal y0=\"103.424\" y1=\"118.241\" x0=\"219.69\" x1=\"230.34\" width=\"10.65\" height=\"14.817\" bbox=\"[219.69, 103.424, 230.34, 118.241]\" word_margin=\"0.1\">Za </LTTextLineHorizontal><LTTextLineHorizontal y0=\"93.374\" y1=\"108.191\" x0=\"219.5\" x1=\"230.375\" width=\"10.875\" height=\"14.817\" bbox=\"[219.5, 93.374, 230.375, 108.191]\" word_margin=\"0.1\">Ja </LTTextLineHorizontal><LTTextLineHorizontal y0=\"72.024\" y1=\"86.841\" x0=\"219.25\" x1=\"230.125\" width=\"10.875\" height=\"14.817\" bbox=\"[219.25, 72.024, 230.125, 86.841]\" word_margin=\"0.1\">Ja </LTTextLineHorizontal><LTTextLineHorizontal y0=\"156.474\" y1=\"171.291\" x0=\"192.1\" x1=\"203.203\" width=\"11.103\" height=\"14.817\" bbox=\"[192.1, 156.474, 203.203, 171.291]\" word_margin=\"0.1\"><LTTextBoxHorizontal y0=\"156.474\" y1=\"171.291\" x0=\"192.1\" x1=\"203.203\" width=\"11.103\" height=\"14.817\" bbox=\"[192.1, 156.474, 203.203, 171.291]\" index=\"29\">Za </LTTextBoxHorizontal></LTTextLineHorizontal></LTTextBoxHorizontal><LTTextBoxHorizontal y0=\"60.974\" y1=\"118.241\" x0=\"219.25\" x1=\"230.375\" width=\"11.125\" height=\"57.267\" bbox=\"[219.25, 60.974, 230.375, 118.241]\" index=\"28\">Ja Ja Za <LTTextLineHorizontal y0=\"60.974\" y1=\"75.791\" x0=\"219.5\" x1=\"230.351\" width=\"10.851\" height=\"14.817\" bbox=\"[219.5, 60.974, 230.351, 75.791]\" word_margin=\"0.1\">Za </LTTextLineHorizontal></LTTextBoxHorizontal><LTTextBoxHorizontal y0=\"62.424\" y1=\"439.391\" x0=\"306.7\" x1=\"534.042\" width=\"227.342\" height=\"376.967\" bbox=\"[306.7, 62.424, 534.042, 439.391]\" index=\"32\"><LTTextLineHorizontal y0=\"359.274\" y1=\"374.091\" x0=\"436.2\" x1=\"446.549\" width=\"10.349\" height=\"14.817\" bbox=\"[436.2, 359.274, 446.549, 374.091]\" word_margin=\"0.1\"><LTTextBoxHorizontal y0=\"359.274\" y1=\"374.091\" x0=\"436.2\" x1=\"446.549\" width=\"10.349\" height=\"14.817\" bbox=\"[436.2, 359.274, 446.549, 374.091]\" index=\"30\">Za </LTTextBoxHorizontal></LTTextLineHorizontal><LTTextLineHorizontal y0=\"327.124\" y1=\"341.941\" x0=\"435.95\" x1=\"446.55\" width=\"10.6\" height=\"14.817\" bbox=\"[435.95, 327.124, 446.55, 341.941]\" word_margin=\"0.1\"><LTTextBoxHorizontal y0=\"327.124\" y1=\"341.941\" x0=\"435.95\" x1=\"446.55\" width=\"10.6\" height=\"14.817\" bbox=\"[435.95, 327.124, 446.55, 341.941]\" index=\"31\">Za </LTTextBoxHorizontal></LTTextLineHorizontal><LTTextLineHorizontal y0=\"424.574\" y1=\"439.391\" x0=\"515.15\" x1=\"532.952\" width=\"17.802\" height=\"14.817\" bbox=\"[515.15, 424.574, 532.952, 439.391]\" word_margin=\"0.1\">Plein </LTTextLineHorizontal><LTTextLineHorizontal y0=\"424.074\" y1=\"438.891\" x0=\"308.05\" x1=\"391.905\" width=\"83.855\" height=\"14.817\" bbox=\"[308.05, 424.074, 391.905, 438.891]\" word_margin=\"0.1\">Bertz ..................... </LTTextLineHorizontal><LTTextLineHorizontal y0=\"423.124\" y1=\"437.941\" x0=\"435.7\" x1=\"446.803\" width=\"11.103\" height=\"14.817\" bbox=\"[435.7, 423.124, 446.803, 437.941]\" word_margin=\"0.1\">Za </LTTextLineHorizontal><LTTextLineHorizontal y0=\"422.824\" y1=\"437.941\" x0=\"463.3\" x1=\"501.991\" width=\"38.691\" height=\"15.117\" bbox=\"[463.3, 422.824, 501.991, 437.941]\" word_margin=\"0.1\">Za j Za </LTTextLineHorizontal><LTTextLineHorizontal y0=\"411.974\" y1=\"428.841\" x0=\"308.05\" x1=\"529.851\" width=\"221.801\" height=\"16.867\" bbox=\"[308.05, 411.974, 529.851, 428.841]\" word_margin=\"0.1\">Dr. Best................. Nein Plein Plein Nein ! Za </LTTextLineHorizontal><LTTextLineHorizontal y0=\"403.424\" y1=\"418.241\" x0=\"431.89\" x1=\"505.352\" width=\"73.462\" height=\"14.817\" bbox=\"[431.89, 403.424, 505.352, 418.241]\" word_margin=\"0.1\">Plein Plein Plein </LTTextLineHorizontal><LTTextLineHorizontal y0=\"403.224\" y1=\"418.041\" x0=\"515.15\" x1=\"532.952\" width=\"17.802\" height=\"14.817\" bbox=\"[515.15, 403.224, 532.952, 418.041]\" word_margin=\"0.1\">Plein </LTTextLineHorizontal><LTTextLineHorizontal y0=\"403.074\" y1=\"417.891\" x0=\"307.8\" x1=\"391.211\" width=\"83.411\" height=\"14.817\" bbox=\"[307.8, 403.074, 391.211, 417.891]\" word_margin=\"0.1\">Dr. Bensch............. </LTTextLineHorizontal><LTTextLineHorizontal y0=\"401.774\" y1=\"416.591\" x0=\"408.35\" x1=\"419.201\" width=\"10.851\" height=\"14.817\" bbox=\"[408.35, 401.774, 419.201, 416.591]\" word_margin=\"0.1\">Za </LTTextLineHorizontal><LTTextLineHorizontal y0=\"392.624\" y1=\"407.441\" x0=\"404.05\" x1=\"534.042\" width=\"129.992\" height=\"14.817\" bbox=\"[404.05, 392.624, 534.042, 407.441]\" word_margin=\"0.1\">krank krank krank krank krank </LTTextLineHorizontal><LTTextLineHorizontal y0=\"392.174\" y1=\"406.991\" x0=\"307.8\" x1=\"391.358\" width=\"83.558\" height=\"14.817\" bbox=\"[307.8, 392.174, 391.358, 406.991]\" word_margin=\"0.1\">Beythien................. </LTTextLineHorizontal><LTTextLineHorizontal y0=\"382.074\" y1=\"396.891\" x0=\"431.89\" x1=\"505.37\" width=\"73.48\" height=\"14.817\" bbox=\"[431.89, 382.074, 505.37, 396.891]\" word_margin=\"0.1\">Plein Nein Nein </LTTextLineHorizontal><LTTextLineHorizontal y0=\"381.624\" y1=\"396.441\" x0=\"307.8\" x1=\"392.07\" width=\"84.27\" height=\"14.817\" bbox=\"[307.8, 381.624, 392.07, 396.441]\" word_margin=\"0.1\">Bickes..................... </LTTextLineHorizontal><LTTextLineHorizontal y0=\"380.424\" y1=\"395.241\" x0=\"518.75\" x1=\"529.601\" width=\"10.851\" height=\"14.817\" bbox=\"[518.75, 380.424, 529.601, 395.241]\" word_margin=\"0.1\">Za </LTTextLineHorizontal><LTTextLineHorizontal y0=\"380.424\" y1=\"395.241\" x0=\"408.35\" x1=\"418.95\" width=\"10.6\" height=\"14.817\" bbox=\"[408.35, 380.424, 418.95, 395.241]\" word_margin=\"0.1\">Za </LTTextLineHorizontal><LTTextLineHorizontal y0=\"369.824\" y1=\"386.341\" x0=\"408.35\" x1=\"505.787\" width=\"97.437\" height=\"16.517\" bbox=\"[408.35, 369.824, 505.787, 386.341]\" word_margin=\"0.1\">Za Nein Nein ! Nein </LTTextLineHorizontal><LTTextLineHorizontal y0=\"370.924\" y1=\"385.741\" x0=\"307.55\" x1=\"376.812\" width=\"69.262\" height=\"14.817\" bbox=\"[307.55, 370.924, 376.812, 385.741]\" word_margin=\"0.1\">Bimer............. </LTTextLineHorizontal><LTTextLineHorizontal y0=\"369.824\" y1=\"384.641\" x0=\"518.75\" x1=\"529.601\" width=\"10.851\" height=\"14.817\" bbox=\"[518.75, 369.824, 529.601, 384.641]\" word_margin=\"0.1\">Za </LTTextLineHorizontal><LTTextLineHorizontal y0=\"359.274\" y1=\"375.791\" x0=\"463.1\" x1=\"532.77\" width=\"69.67\" height=\"16.517\" bbox=\"[463.1, 359.274, 532.77, 375.791]\" word_margin=\"0.1\">Za ^ Za Nein </LTTextLineHorizontal><LTTextLineHorizontal y0=\"360.224\" y1=\"375.541\" x0=\"307.8\" x1=\"422.571\" width=\"114.771\" height=\"15.317\" bbox=\"[307.8, 360.224, 422.571, 375.541]\" word_margin=\"0.1\">Biester................... Nein </LTTextLineHorizontal><LTTextLineHorizontal y0=\"348.474\" y1=\"364.991\" x0=\"408.1\" x1=\"505.371\" width=\"97.271\" height=\"16.517\" bbox=\"[408.1, 348.474, 505.371, 364.991]\" word_margin=\"0.1\">Za Nein Plein Nein </LTTextLineHorizontal><LTTextLineHorizontal y0=\"349.674\" y1=\"364.491\" x0=\"307.55\" x1=\"393.239\" width=\"85.689\" height=\"14.817\" bbox=\"[307.55, 349.674, 393.239, 364.491]\" word_margin=\"0.1\">Fürst Bismarck........ </LTTextLineHorizontal><LTTextLineHorizontal y0=\"348.474\" y1=\"363.291\" x0=\"518.75\" x1=\"529.35\" width=\"10.6\" height=\"14.817\" bbox=\"[518.75, 348.474, 529.35, 363.291]\" word_margin=\"0.1\">Za </LTTextLineHorizontal><LTTextLineHorizontal y0=\"337.924\" y1=\"354.441\" x0=\"408.35\" x1=\"505.152\" width=\"96.802\" height=\"16.517\" bbox=\"[408.35, 337.924, 505.152, 354.441]\" word_margin=\"0.1\">Za Nein Nein Plein </LTTextLineHorizontal><LTTextLineHorizontal y0=\"339.124\" y1=\"353.941\" x0=\"307.8\" x1=\"391.905\" width=\"84.105\" height=\"14.817\" bbox=\"[307.8, 339.124, 391.905, 353.941]\" word_margin=\"0.1\">Blum..................... </LTTextLineHorizontal><LTTextLineHorizontal y0=\"337.924\" y1=\"352.741\" x0=\"518.75\" x1=\"529.601\" width=\"10.851\" height=\"14.817\" bbox=\"[518.75, 337.924, 529.601, 352.741]\" word_margin=\"0.1\">Za </LTTextLineHorizontal><LTTextLineHorizontal y0=\"329.024\" y1=\"343.841\" x0=\"404.5\" x1=\"422.352\" width=\"17.852\" height=\"14.817\" bbox=\"[404.5, 329.024, 422.352, 343.841]\" word_margin=\"0.1\">Plein </LTTextLineHorizontal><LTTextLineHorizontal y0=\"328.824\" y1=\"343.641\" x0=\"514.9\" x1=\"532.428\" width=\"17.528\" height=\"14.817\" bbox=\"[514.9, 328.824, 532.428, 343.641]\" word_margin=\"0.1\">Nein </LTTextLineHorizontal><LTTextLineHorizontal y0=\"328.324\" y1=\"343.141\" x0=\"307.55\" x1=\"391.737\" width=\"84.187\" height=\"14.817\" bbox=\"[307.55, 328.324, 391.737, 343.141]\" word_margin=\"0.1\">Bock....................... </LTTextLineHorizontal><LTTextLineHorizontal y0=\"326.874\" y1=\"341.691\" x0=\"491.14\" x1=\"501.74\" width=\"10.6\" height=\"14.817\" bbox=\"[491.14, 326.874, 501.74, 341.691]\" word_margin=\"0.1\">Za </LTTextLineHorizontal><LTTextLineHorizontal y0=\"326.624\" y1=\"341.441\" x0=\"463.1\" x1=\"474.152\" width=\"11.052\" height=\"14.817\" bbox=\"[463.1, 326.624, 474.152, 341.441]\" word_margin=\"0.1\">Za </LTTextLineHorizontal><LTTextLineHorizontal y0=\"316.574\" y1=\"333.041\" x0=\"408.1\" x1=\"477.655\" width=\"69.555\" height=\"16.467\" bbox=\"[408.1, 316.574, 477.655, 333.041]\" word_margin=\"0.1\">Za i Plein ^ Plein </LTTextLineHorizontal><LTTextLineHorizontal y0=\"318.224\" y1=\"333.041\" x0=\"514.9\" x1=\"532.428\" width=\"17.528\" height=\"14.817\" bbox=\"[514.9, 318.224, 532.428, 333.041]\" word_margin=\"0.1\">Nein </LTTextLineHorizontal><LTTextLineHorizontal y0=\"317.874\" y1=\"332.691\" x0=\"307.55\" x1=\"391.0\" width=\"83.45\" height=\"14.817\" bbox=\"[307.55, 317.874, 391.0, 332.691]\" word_margin=\"0.1\">Dr. Bockius........... </LTTextLineHorizontal><LTTextLineHorizontal y0=\"316.824\" y1=\"331.641\" x0=\"490.89\" x1=\"501.741\" width=\"10.851\" height=\"14.817\" bbox=\"[490.89, 316.824, 501.741, 331.641]\" word_margin=\"0.1\">Za </LTTextLineHorizontal><LTTextLineHorizontal y0=\"307.224\" y1=\"322.491\" x0=\"403.8\" x1=\"533.687\" width=\"129.887\" height=\"15.267\" bbox=\"[403.8, 307.224, 533.687, 322.491]\" word_margin=\"0.1\">krank krank krank krank krank </LTTextLineHorizontal><LTTextLineHorizontal y0=\"306.974\" y1=\"321.791\" x0=\"307.55\" x1=\"391.888\" width=\"84.338\" height=\"14.817\" bbox=\"[307.55, 306.974, 391.888, 321.791]\" word_margin=\"0.1\">Bohla..................... </LTTextLineHorizontal><LTTextLineHorizontal y0=\"296.524\" y1=\"311.691\" x0=\"307.55\" x1=\"422.37\" width=\"114.82\" height=\"15.167\" bbox=\"[307.55, 296.524, 422.37, 311.691]\" word_margin=\"0.1\">Frau Bvbul-Schnch . Nein </LTTextLineHorizontal><LTTextLineHorizontal y0=\"296.874\" y1=\"311.691\" x0=\"514.9\" x1=\"532.251\" width=\"17.351\" height=\"14.817\" bbox=\"[514.9, 296.874, 532.251, 311.691]\" word_margin=\"0.1\">Plein </LTTextLineHorizontal><LTTextLineHorizontal y0=\"295.424\" y1=\"310.241\" x0=\"490.89\" x1=\"501.741\" width=\"10.851\" height=\"14.817\" bbox=\"[490.89, 295.424, 501.741, 310.241]\" word_margin=\"0.1\">Za </LTTextLineHorizontal><LTTextLineHorizontal y0=\"294.724\" y1=\"309.541\" x0=\"463.3\" x1=\"474.151\" width=\"10.851\" height=\"14.817\" bbox=\"[463.3, 294.724, 474.151, 309.541]\" word_margin=\"0.1\">Za </LTTextLineHorizontal><LTTextLineHorizontal y0=\"294.424\" y1=\"309.241\" x0=\"435.5\" x1=\"446.351\" width=\"10.851\" height=\"14.817\" bbox=\"[435.5, 294.424, 446.351, 309.241]\" word_margin=\"0.1\">Za </LTTextLineHorizontal><LTTextLineHorizontal y0=\"284.624\" y1=\"301.391\" x0=\"407.89\" x1=\"505.353\" width=\"97.463\" height=\"16.767\" bbox=\"[407.89, 284.624, 505.353, 301.391]\" word_margin=\"0.1\">Za Nein Plein Plein </LTTextLineHorizontal><LTTextLineHorizontal y0=\"285.824\" y1=\"300.641\" x0=\"307.55\" x1=\"392.534\" width=\"84.984\" height=\"14.817\" bbox=\"[307.55, 285.824, 392.534, 300.641]\" word_margin=\"0.1\">Bolz...................... </LTTextLineHorizontal><LTTextLineHorizontal y0=\"284.874\" y1=\"299.691\" x0=\"518.5\" x1=\"528.899\" width=\"10.399\" height=\"14.817\" bbox=\"[518.5, 284.874, 528.899, 299.691]\" word_margin=\"0.1\">Za </LTTextLineHorizontal><LTTextLineHorizontal y0=\"275.524\" y1=\"290.591\" x0=\"431.39\" x1=\"505.171\" width=\"73.781\" height=\"15.067\" bbox=\"[431.39, 275.524, 505.171, 290.591]\" word_margin=\"0.1\">Plein Plein Nein </LTTextLineHorizontal><LTTextLineHorizontal y0=\"275.274\" y1=\"290.091\" x0=\"307.2\" x1=\"393.85\" width=\"86.65\" height=\"14.817\" bbox=\"[307.2, 275.274, 393.85, 290.091]\" word_margin=\"0.1\">Bornefeld-Ettmaim.. </LTTextLineHorizontal><LTTextLineHorizontal y0=\"274.074\" y1=\"288.891\" x0=\"407.89\" x1=\"418.741\" width=\"10.851\" height=\"14.817\" bbox=\"[407.89, 274.074, 418.741, 288.891]\" word_margin=\"0.1\">Za </LTTextLineHorizontal><LTTextLineHorizontal y0=\"274.074\" y1=\"288.891\" x0=\"518.5\" x1=\"529.15\" width=\"10.65\" height=\"14.817\" bbox=\"[518.5, 274.074, 529.15, 288.891]\" word_margin=\"0.1\">Za </LTTextLineHorizontal><LTTextLineHorizontal y0=\"264.724\" y1=\"280.041\" x0=\"431.39\" x1=\"505.171\" width=\"73.781\" height=\"15.317\" bbox=\"[431.39, 264.724, 505.171, 280.041]\" word_margin=\"0.1\">Nein Nein Nein </LTTextLineHorizontal><LTTextLineHorizontal y0=\"264.624\" y1=\"279.441\" x0=\"307.2\" x1=\"390.697\" width=\"83.497\" height=\"14.817\" bbox=\"[307.2, 264.624, 390.697, 279.441]\" word_margin=\"0.1\">Borrmaim............. </LTTextLineHorizontal><LTTextLineHorizontal y0=\"263.524\" y1=\"278.341\" x0=\"518.5\" x1=\"529.15\" width=\"10.65\" height=\"14.817\" bbox=\"[518.5, 263.524, 529.15, 278.341]\" word_margin=\"0.1\">Za </LTTextLineHorizontal><LTTextLineHorizontal y0=\"254.174\" y1=\"269.441\" x0=\"403.3\" x1=\"533.687\" width=\"130.387\" height=\"15.267\" bbox=\"[403.3, 254.174, 533.687, 269.441]\" word_margin=\"0.1\">krank krank krank krank krank </LTTextLineHorizontal><LTTextLineHorizontal y0=\"253.924\" y1=\"268.741\" x0=\"307.3\" x1=\"391.086\" width=\"83.786\" height=\"14.817\" bbox=\"[307.3, 253.924, 391.086, 268.741]\" word_margin=\"0.1\">Bossen................... </LTTextLineHorizontal><LTTextLineHorizontal y0=\"244.074\" y1=\"258.891\" x0=\"514.9\" x1=\"532.77\" width=\"17.87\" height=\"14.817\" bbox=\"[514.9, 244.074, 532.77, 258.891]\" word_margin=\"0.1\">Nein </LTTextLineHorizontal><LTTextLineHorizontal y0=\"243.224\" y1=\"258.041\" x0=\"307.3\" x1=\"393.7\" width=\"86.4\" height=\"14.817\" bbox=\"[307.3, 243.224, 393.7, 258.041]\" word_margin=\"0.1\">Braun (Düsseldorf) . </LTTextLineHorizontal><LTTextLineHorizontal y0=\"233.274\" y1=\"248.091\" x0=\"514.7\" x1=\"532.502\" width=\"17.802\" height=\"14.817\" bbox=\"[514.7, 233.274, 532.502, 248.091]\" word_margin=\"0.1\">Plein </LTTextLineHorizontal><LTTextLineHorizontal y0=\"233.274\" y1=\"248.091\" x0=\"404.05\" x1=\"422.103\" width=\"18.053\" height=\"14.817\" bbox=\"[404.05, 233.274, 422.103, 248.091]\" word_margin=\"0.1\">Plein </LTTextLineHorizontal><LTTextLineHorizontal y0=\"232.824\" y1=\"247.641\" x0=\"308.05\" x1=\"397.702\" width=\"89.652\" height=\"14.817\" bbox=\"[308.05, 232.824, 397.702, 247.641]\" word_margin=\"0.1\">Dr. Braun (Franken) </LTTextLineHorizontal><LTTextLineHorizontal y0=\"231.624\" y1=\"246.441\" x0=\"463.1\" x1=\"473.951\" width=\"10.851\" height=\"14.817\" bbox=\"[463.1, 231.624, 473.951, 246.441]\" word_margin=\"0.1\">Za </LTTextLineHorizontal><LTTextLineHorizontal y0=\"231.374\" y1=\"246.191\" x0=\"491.14\" x1=\"501.288\" width=\"10.148\" height=\"14.817\" bbox=\"[491.14, 231.374, 501.288, 246.191]\" word_margin=\"0.1\">Za </LTTextLineHorizontal><LTTextLineHorizontal y0=\"231.374\" y1=\"246.191\" x0=\"435.7\" x1=\"446.099\" width=\"10.399\" height=\"14.817\" bbox=\"[435.7, 231.374, 446.099, 246.191]\" word_margin=\"0.1\">Za </LTTextLineHorizontal><LTTextLineHorizontal y0=\"222.024\" y1=\"236.841\" x0=\"308.05\" x1=\"395.41\" width=\"87.36\" height=\"14.817\" bbox=\"[308.05, 222.024, 395.41, 236.841]\" word_margin=\"0.1\">Dr. Brauns (München- </LTTextLineHorizontal><LTTextLineHorizontal y0=\"211.674\" y1=\"226.741\" x0=\"431.39\" x1=\"477.303\" width=\"45.913\" height=\"15.067\" bbox=\"[431.39, 211.674, 477.303, 226.741]\" word_margin=\"0.1\">Plein Plein </LTTextLineHorizontal><LTTextLineHorizontal y0=\"211.924\" y1=\"226.741\" x0=\"514.7\" x1=\"532.269\" width=\"17.569\" height=\"14.817\" bbox=\"[514.7, 211.924, 532.269, 226.741]\" word_margin=\"0.1\">Nein </LTTextLineHorizontal><LTTextLineHorizontal y0=\"210.974\" y1=\"225.791\" x0=\"317.89\" x1=\"392.936\" width=\"75.046\" height=\"14.817\" bbox=\"[317.89, 210.974, 392.936, 225.791]\" word_margin=\"0.1\">Gladbach) ............ </LTTextLineHorizontal><LTTextLineHorizontal y0=\"210.224\" y1=\"225.041\" x0=\"490.89\" x1=\"501.54\" width=\"10.65\" height=\"14.817\" bbox=\"[490.89, 210.224, 501.54, 225.041]\" word_margin=\"0.1\">Za </LTTextLineHorizontal><LTTextLineHorizontal y0=\"210.224\" y1=\"225.041\" x0=\"407.89\" x1=\"418.741\" width=\"10.851\" height=\"14.817\" bbox=\"[407.89, 210.224, 418.741, 225.041]\" word_margin=\"0.1\">Za </LTTextLineHorizontal><LTTextLineHorizontal y0=\"201.124\" y1=\"216.191\" x0=\"407.89\" x1=\"505.171\" width=\"97.281\" height=\"15.067\" bbox=\"[407.89, 201.124, 505.171, 216.191]\" word_margin=\"0.1\">Za i Plein Nein Nein </LTTextLineHorizontal><LTTextLineHorizontal y0=\"200.874\" y1=\"215.691\" x0=\"308.05\" x1=\"393.718\" width=\"85.668\" height=\"14.817\" bbox=\"[308.05, 200.874, 393.718, 215.691]\" word_margin=\"0.1\">D. Dr. Dr. Brcdt... </LTTextLineHorizontal><LTTextLineHorizontal y0=\"199.674\" y1=\"214.491\" x0=\"518.5\" x1=\"529.15\" width=\"10.65\" height=\"14.817\" bbox=\"[518.5, 199.674, 529.15, 214.491]\" word_margin=\"0.1\">Za </LTTextLineHorizontal><LTTextLineHorizontal y0=\"190.824\" y1=\"205.641\" x0=\"514.7\" x1=\"532.166\" width=\"17.466\" height=\"14.817\" bbox=\"[514.7, 190.824, 532.166, 205.641]\" word_margin=\"0.1\">Plein </LTTextLineHorizontal><LTTextLineHorizontal y0=\"188.324\" y1=\"205.391\" x0=\"404.05\" x1=\"473.953\" width=\"69.903\" height=\"17.067\" bbox=\"[404.05, 188.324, 473.953, 205.391]\" word_margin=\"0.1\">Nein j Za . Za </LTTextLineHorizontal><LTTextLineHorizontal y0=\"190.074\" y1=\"204.891\" x0=\"307.55\" x1=\"390.199\" width=\"82.649\" height=\"14.817\" bbox=\"[307.55, 190.074, 390.199, 204.891]\" word_margin=\"0.1\">Dr. Breitscheid....... </LTTextLineHorizontal><LTTextLineHorizontal y0=\"188.874\" y1=\"203.691\" x0=\"491.14\" x1=\"501.288\" width=\"10.148\" height=\"14.817\" bbox=\"[491.14, 188.874, 501.288, 203.691]\" word_margin=\"0.1\">Za </LTTextLineHorizontal><LTTextLineHorizontal y0=\"179.774\" y1=\"194.841\" x0=\"431.39\" x1=\"504.902\" width=\"73.512\" height=\"15.067\" bbox=\"[431.39, 179.774, 504.902, 194.841]\" word_margin=\"0.1\">Plein Plein Plein </LTTextLineHorizontal><LTTextLineHorizontal y0=\"179.274\" y1=\"194.091\" x0=\"307.1\" x1=\"390.3\" width=\"83.2\" height=\"14.817\" bbox=\"[307.1, 179.274, 390.3, 194.091]\" word_margin=\"0.1\">Brekelbaum ........... </LTTextLineHorizontal><LTTextLineHorizontal y0=\"178.324\" y1=\"193.141\" x0=\"518.75\" x1=\"528.898\" width=\"10.148\" height=\"14.817\" bbox=\"[518.75, 178.324, 528.898, 193.141]\" word_margin=\"0.1\">Za </LTTextLineHorizontal><LTTextLineHorizontal y0=\"178.324\" y1=\"193.141\" x0=\"407.64\" x1=\"418.743\" width=\"11.103\" height=\"14.817\" bbox=\"[407.64, 178.324, 418.743, 193.141]\" word_margin=\"0.1\">Za </LTTextLineHorizontal><LTTextLineHorizontal y0=\"169.424\" y1=\"184.241\" x0=\"514.7\" x1=\"532.502\" width=\"17.802\" height=\"14.817\" bbox=\"[514.7, 169.424, 532.502, 184.241]\" word_margin=\"0.1\">Plein </LTTextLineHorizontal><LTTextLineHorizontal y0=\"167.524\" y1=\"184.041\" x0=\"404.05\" x1=\"446.351\" width=\"42.301\" height=\"16.517\" bbox=\"[404.05, 167.524, 446.351, 184.041]\" word_margin=\"0.1\">Plein ^ Za </LTTextLineHorizontal><LTTextLineHorizontal y0=\"168.224\" y1=\"183.041\" x0=\"306.85\" x1=\"391.029\" width=\"84.179\" height=\"14.817\" bbox=\"[306.85, 168.224, 391.029, 183.041]\" word_margin=\"0.1\">Brev ..................... </LTTextLineHorizontal><LTTextLineHorizontal y0=\"167.774\" y1=\"182.591\" x0=\"462.85\" x1=\"473.953\" width=\"11.103\" height=\"14.817\" bbox=\"[462.85, 167.774, 473.953, 182.591]\" word_margin=\"0.1\">Za </LTTextLineHorizontal><LTTextLineHorizontal y0=\"167.774\" y1=\"182.591\" x0=\"490.7\" x1=\"501.551\" width=\"10.851\" height=\"14.817\" bbox=\"[490.7, 167.774, 501.551, 182.591]\" word_margin=\"0.1\">Za </LTTextLineHorizontal><LTTextLineHorizontal y0=\"158.874\" y1=\"173.691\" x0=\"514.7\" x1=\"532.269\" width=\"17.569\" height=\"14.817\" bbox=\"[514.7, 158.874, 532.269, 173.691]\" word_margin=\"0.1\">Nein </LTTextLineHorizontal><LTTextLineHorizontal y0=\"156.974\" y1=\"173.441\" x0=\"306.85\" x1=\"446.101\" width=\"139.251\" height=\"16.467\" bbox=\"[306.85, 156.974, 446.101, 173.441]\" word_margin=\"0.1\">Brodauf................. Nein? Za </LTTextLineHorizontal><LTTextLineHorizontal y0=\"156.174\" y1=\"172.041\" x0=\"462.85\" x1=\"501.551\" width=\"38.701\" height=\"15.867\" bbox=\"[462.85, 156.174, 501.551, 172.041]\" word_margin=\"0.1\">2a , Za </LTTextLineHorizontal><LTTextLineHorizontal y0=\"146.424\" y1=\"162.891\" x0=\"407.64\" x1=\"504.902\" width=\"97.262\" height=\"16.467\" bbox=\"[407.64, 146.424, 504.902, 162.891]\" word_margin=\"0.1\">Za Nein Plein Plein </LTTextLineHorizontal><LTTextLineHorizontal y0=\"147.624\" y1=\"162.441\" x0=\"306.85\" x1=\"390.965\" width=\"84.115\" height=\"14.817\" bbox=\"[306.85, 147.624, 390.965, 162.441]\" word_margin=\"0.1\">Brühn................... </LTTextLineHorizontal><LTTextLineHorizontal y0=\"146.624\" y1=\"161.441\" x0=\"518.5\" x1=\"529.15\" width=\"10.65\" height=\"14.817\" bbox=\"[518.5, 146.624, 529.15, 161.441]\" word_margin=\"0.1\">Za </LTTextLineHorizontal><LTTextLineHorizontal y0=\"136.324\" y1=\"152.591\" x0=\"490.89\" x1=\"532.52\" width=\"41.63\" height=\"16.267\" bbox=\"[490.89, 136.324, 532.52, 152.591]\" word_margin=\"0.1\">Za Nein </LTTextLineHorizontal><LTTextLineHorizontal y0=\"137.274\" y1=\"152.341\" x0=\"431.39\" x1=\"477.487\" width=\"46.097\" height=\"15.067\" bbox=\"[431.39, 137.274, 477.487, 152.341]\" word_margin=\"0.1\">Plein Nein </LTTextLineHorizontal><LTTextLineHorizontal y0=\"136.924\" y1=\"151.741\" x0=\"306.85\" x1=\"392.7\" width=\"85.85\" height=\"14.817\" bbox=\"[306.85, 136.924, 392.7, 151.741]\" word_margin=\"0.1\">Dr. Brüning.......... </LTTextLineHorizontal><LTTextLineHorizontal y0=\"135.624\" y1=\"150.441\" x0=\"407.89\" x1=\"418.741\" width=\"10.851\" height=\"14.817\" bbox=\"[407.89, 135.624, 418.741, 150.441]\" word_margin=\"0.1\">Za </LTTextLineHorizontal><LTTextLineHorizontal y0=\"125.024\" y1=\"141.791\" x0=\"407.64\" x1=\"504.92\" width=\"97.28\" height=\"16.767\" bbox=\"[407.64, 125.024, 504.92, 141.791]\" word_margin=\"0.1\">Za Nein Plein Nein </LTTextLineHorizontal><LTTextLineHorizontal y0=\"126.724\" y1=\"141.541\" x0=\"518.75\" x1=\"528.898\" width=\"10.148\" height=\"14.817\" bbox=\"[518.75, 126.724, 528.898, 141.541]\" word_margin=\"0.1\">Za </LTTextLineHorizontal><LTTextLineHorizontal y0=\"126.224\" y1=\"141.041\" x0=\"306.85\" x1=\"390.375\" width=\"83.525\" height=\"14.817\" bbox=\"[306.85, 126.224, 390.375, 141.041]\" word_margin=\"0.1\">Brüninghans......... </LTTextLineHorizontal><LTTextLineHorizontal y0=\"116.174\" y1=\"131.441\" x0=\"431.39\" x1=\"532.52\" width=\"101.13\" height=\"15.267\" bbox=\"[431.39, 116.174, 532.52, 131.441]\" word_margin=\"0.1\">Nein Nein Nein Nein </LTTextLineHorizontal><LTTextLineHorizontal y0=\"115.424\" y1=\"130.241\" x0=\"306.85\" x1=\"390.612\" width=\"83.762\" height=\"14.817\" bbox=\"[306.85, 115.424, 390.612, 130.241]\" word_margin=\"0.1\">Buchholz................. </LTTextLineHorizontal><LTTextLineHorizontal y0=\"105.374\" y1=\"120.191\" x0=\"306.7\" x1=\"389.894\" width=\"83.194\" height=\"14.817\" bbox=\"[306.7, 105.374, 389.894, 120.191]\" word_margin=\"0.1\">Bttchlnaim............. </LTTextLineHorizontal><LTTextLineHorizontal y0=\"95.524\" y1=\"110.341\" x0=\"514.7\" x1=\"532.269\" width=\"17.569\" height=\"14.817\" bbox=\"[514.7, 95.524, 532.269, 110.341]\" word_margin=\"0.1\">Nein </LTTextLineHorizontal><LTTextLineHorizontal y0=\"94.324\" y1=\"109.141\" x0=\"306.85\" x1=\"390.944\" width=\"84.094\" height=\"14.817\" bbox=\"[306.85, 94.324, 390.944, 109.141]\" word_margin=\"0.1\">Bilchwiß................. </LTTextLineHorizontal><LTTextLineHorizontal y0=\"83.874\" y1=\"98.691\" x0=\"306.7\" x1=\"390.9\" width=\"84.2\" height=\"14.817\" bbox=\"[306.7, 83.874, 390.9, 98.691]\" word_margin=\"0.1\">Budjuhn................. </LTTextLineHorizontal><LTTextLineHorizontal y0=\"83.524\" y1=\"98.341\" x0=\"518.5\" x1=\"528.648\" width=\"10.148\" height=\"14.817\" bbox=\"[518.5, 83.524, 528.648, 98.341]\" word_margin=\"0.1\">Za </LTTextLineHorizontal><LTTextLineHorizontal y0=\"73.224\" y1=\"88.041\" x0=\"306.85\" x1=\"391.297\" width=\"84.447\" height=\"14.817\" bbox=\"[306.85, 73.224, 391.297, 88.041]\" word_margin=\"0.1\">Bütt....................... </LTTextLineHorizontal><LTTextLineHorizontal y0=\"63.824\" y1=\"78.641\" x0=\"514.7\" x1=\"532.0\" width=\"17.3\" height=\"14.817\" bbox=\"[514.7, 63.824, 532.0, 78.641]\" word_margin=\"0.1\">Plein </LTTextLineHorizontal><LTTextLineHorizontal y0=\"62.424\" y1=\"77.691\" x0=\"306.85\" x1=\"422.12\" width=\"115.27\" height=\"15.267\" bbox=\"[306.85, 62.424, 422.12, 77.691]\" word_margin=\"0.1\">Bülow .................... Nein </LTTextLineHorizontal><LTTextLineHorizontal y0=\"93.124\" y1=\"109.841\" x0=\"404.05\" x1=\"445.847\" width=\"41.797\" height=\"16.717\" bbox=\"[404.05, 93.124, 445.847, 109.841]\" word_margin=\"0.1\">Plein! Za </LTTextLineHorizontal><LTTextLineHorizontal y0=\"92.424\" y1=\"108.191\" x0=\"462.85\" x1=\"501.288\" width=\"38.438\" height=\"15.767\" bbox=\"[462.85, 92.424, 501.288, 108.191]\" word_margin=\"0.1\">Za ! Za </LTTextLineHorizontal><LTTextLineHorizontal y0=\"82.824\" y1=\"99.291\" x0=\"407.89\" x1=\"504.902\" width=\"97.012\" height=\"16.467\" bbox=\"[407.89, 82.824, 504.902, 99.291]\" word_margin=\"0.1\">Za Nein Plein i Plein </LTTextLineHorizontal></LTTextBoxHorizontal><LTTextBoxHorizontal y0=\"61.674\" y1=\"109.841\" x0=\"404.05\" x1=\"504.902\" width=\"100.852\" height=\"48.167\" bbox=\"[404.05, 61.674, 504.902, 109.841]\" index=\"33\">Plein! Za ! Za Za Nein Plein i Plein Za <LTTextLineHorizontal y0=\"61.674\" y1=\"76.491\" x0=\"491.39\" x1=\"501.287\" width=\"9.897\" height=\"14.817\" bbox=\"[491.39, 61.674, 501.287, 76.491]\" word_margin=\"0.1\">Za </LTTextLineHorizontal></LTTextBoxHorizontal><LTTextLineHorizontal y0=\"61.224\" y1=\"76.041\" x0=\"435.95\" x1=\"446.098\" width=\"10.148\" height=\"14.817\" bbox=\"[435.95, 61.224, 446.098, 76.041]\" word_margin=\"0.1\"><LTTextBoxHorizontal y0=\"61.224\" y1=\"76.041\" x0=\"435.95\" x1=\"446.098\" width=\"10.148\" height=\"14.817\" bbox=\"[435.95, 61.224, 446.098, 76.041]\" index=\"34\">Za </LTTextBoxHorizontal></LTTextLineHorizontal></LTFigure>\n"
     ]
    }
   ],
   "source": [
    "print(line.parent().show())"
   ]
  },
  {
   "cell_type": "code",
   "execution_count": 130,
   "metadata": {},
   "outputs": [
    {
     "name": "stdout",
     "output_type": "stream",
     "text": [
      "> <ipython-input-130-bbf78cd296a9>(1)<module>()\n",
      "-> for something in (line.nextAll()):\n",
      "(Pdb) something\n",
      "<Element LTTextLineHorizontal at 0x1150d1458>\n",
      "(Pdb) dir(something)\n",
      "['__bool__', '__class__', '__contains__', '__copy__', '__deepcopy__', '__delattr__', '__delitem__', '__dict__', '__dir__', '__doc__', '__eq__', '__format__', '__ge__', '__getattribute__', '__getitem__', '__gt__', '__hash__', '__init__', '__init_subclass__', '__iter__', '__le__', '__len__', '__lt__', '__module__', '__ne__', '__new__', '__reduce__', '__reduce_ex__', '__repr__', '__reversed__', '__setattr__', '__setitem__', '__sizeof__', '__str__', '__subclasshook__', '__weakref__', '_init', '_layout', 'addnext', 'addprevious', 'append', 'attrib', 'base', 'clear', 'cssselect', 'extend', 'find', 'findall', 'findtext', 'get', 'getchildren', 'getiterator', 'getnext', 'getparent', 'getprevious', 'getroottree', 'index', 'insert', 'items', 'iter', 'iterancestors', 'iterchildren', 'iterdescendants', 'iterfind', 'itersiblings', 'itertext', 'keys', 'layout', 'makeelement', 'nsmap', 'prefix', 'remove', 'replace', 'set', 'sourceline', 'tag', 'tail', 'text', 'values', 'xpath']\n",
      "(Pdb) type(something)\n",
      "<class 'pdfquery.pdfquery.LayoutElement'>\n",
      "(Pdb) line.text()\n",
      "'Namentliche Abstimmungen'\n",
      "(Pdb) type(line)\n",
      "<class 'pyquery.pyquery.PyQuery'>\n",
      "(Pdb) (pyquery.pyquery.PyQuery)(something)\n",
      "*** NameError: name 'pyquery' is not defined\n",
      "(Pdb) import pyquery\n",
      "(Pdb) pyquery.pyquery.PyQuery(something)\n",
      "[<LTTextLineHorizontal>]\n",
      "(Pdb) e = pyquery.pyquery.PyQuery(something)\n",
      "(Pdb) e.text()\n",
      "'in der 81. Sitzung am Dienstag den 23. Juni 1925'\n",
      "(Pdb) quit()\n"
     ]
    },
    {
     "ename": "BdbQuit",
     "evalue": "",
     "output_type": "error",
     "traceback": [
      "\u001b[0;31m---------------------------------------------------------------------------\u001b[0m",
      "\u001b[0;31mBdbQuit\u001b[0m                                   Traceback (most recent call last)",
      "\u001b[0;32m<ipython-input-130-bbf78cd296a9>\u001b[0m in \u001b[0;36m<module>\u001b[0;34m\u001b[0m\n\u001b[0;32m----> 1\u001b[0;31m \u001b[0;32mfor\u001b[0m \u001b[0msomething\u001b[0m \u001b[0;32min\u001b[0m \u001b[0;34m(\u001b[0m\u001b[0mline\u001b[0m\u001b[0;34m.\u001b[0m\u001b[0mnextAll\u001b[0m\u001b[0;34m(\u001b[0m\u001b[0;34m)\u001b[0m\u001b[0;34m)\u001b[0m\u001b[0;34m:\u001b[0m\u001b[0;34m\u001b[0m\u001b[0;34m\u001b[0m\u001b[0m\n\u001b[0m\u001b[1;32m      2\u001b[0m     \u001b[0;32mimport\u001b[0m \u001b[0mpdb\u001b[0m\u001b[0;34m;\u001b[0m\u001b[0mpdb\u001b[0m\u001b[0;34m.\u001b[0m\u001b[0mset_trace\u001b[0m\u001b[0;34m(\u001b[0m\u001b[0;34m)\u001b[0m\u001b[0;34m\u001b[0m\u001b[0;34m\u001b[0m\u001b[0m\n",
      "\u001b[0;32m<ipython-input-130-bbf78cd296a9>\u001b[0m in \u001b[0;36m<module>\u001b[0;34m\u001b[0m\n\u001b[0;32m----> 1\u001b[0;31m \u001b[0;32mfor\u001b[0m \u001b[0msomething\u001b[0m \u001b[0;32min\u001b[0m \u001b[0;34m(\u001b[0m\u001b[0mline\u001b[0m\u001b[0;34m.\u001b[0m\u001b[0mnextAll\u001b[0m\u001b[0;34m(\u001b[0m\u001b[0;34m)\u001b[0m\u001b[0;34m)\u001b[0m\u001b[0;34m:\u001b[0m\u001b[0;34m\u001b[0m\u001b[0;34m\u001b[0m\u001b[0m\n\u001b[0m\u001b[1;32m      2\u001b[0m     \u001b[0;32mimport\u001b[0m \u001b[0mpdb\u001b[0m\u001b[0;34m;\u001b[0m\u001b[0mpdb\u001b[0m\u001b[0;34m.\u001b[0m\u001b[0mset_trace\u001b[0m\u001b[0;34m(\u001b[0m\u001b[0;34m)\u001b[0m\u001b[0;34m\u001b[0m\u001b[0;34m\u001b[0m\u001b[0m\n",
      "\u001b[0;32m/Library/Frameworks/Python.framework/Versions/3.7/lib/python3.7/bdb.py\u001b[0m in \u001b[0;36mtrace_dispatch\u001b[0;34m(self, frame, event, arg)\u001b[0m\n\u001b[1;32m     86\u001b[0m             \u001b[0;32mreturn\u001b[0m \u001b[0;31m# None\u001b[0m\u001b[0;34m\u001b[0m\u001b[0;34m\u001b[0m\u001b[0m\n\u001b[1;32m     87\u001b[0m         \u001b[0;32mif\u001b[0m \u001b[0mevent\u001b[0m \u001b[0;34m==\u001b[0m \u001b[0;34m'line'\u001b[0m\u001b[0;34m:\u001b[0m\u001b[0;34m\u001b[0m\u001b[0;34m\u001b[0m\u001b[0m\n\u001b[0;32m---> 88\u001b[0;31m             \u001b[0;32mreturn\u001b[0m \u001b[0mself\u001b[0m\u001b[0;34m.\u001b[0m\u001b[0mdispatch_line\u001b[0m\u001b[0;34m(\u001b[0m\u001b[0mframe\u001b[0m\u001b[0;34m)\u001b[0m\u001b[0;34m\u001b[0m\u001b[0;34m\u001b[0m\u001b[0m\n\u001b[0m\u001b[1;32m     89\u001b[0m         \u001b[0;32mif\u001b[0m \u001b[0mevent\u001b[0m \u001b[0;34m==\u001b[0m \u001b[0;34m'call'\u001b[0m\u001b[0;34m:\u001b[0m\u001b[0;34m\u001b[0m\u001b[0;34m\u001b[0m\u001b[0m\n\u001b[1;32m     90\u001b[0m             \u001b[0;32mreturn\u001b[0m \u001b[0mself\u001b[0m\u001b[0;34m.\u001b[0m\u001b[0mdispatch_call\u001b[0m\u001b[0;34m(\u001b[0m\u001b[0mframe\u001b[0m\u001b[0;34m,\u001b[0m \u001b[0marg\u001b[0m\u001b[0;34m)\u001b[0m\u001b[0;34m\u001b[0m\u001b[0;34m\u001b[0m\u001b[0m\n",
      "\u001b[0;32m/Library/Frameworks/Python.framework/Versions/3.7/lib/python3.7/bdb.py\u001b[0m in \u001b[0;36mdispatch_line\u001b[0;34m(self, frame)\u001b[0m\n\u001b[1;32m    111\u001b[0m         \u001b[0;32mif\u001b[0m \u001b[0mself\u001b[0m\u001b[0;34m.\u001b[0m\u001b[0mstop_here\u001b[0m\u001b[0;34m(\u001b[0m\u001b[0mframe\u001b[0m\u001b[0;34m)\u001b[0m \u001b[0;32mor\u001b[0m \u001b[0mself\u001b[0m\u001b[0;34m.\u001b[0m\u001b[0mbreak_here\u001b[0m\u001b[0;34m(\u001b[0m\u001b[0mframe\u001b[0m\u001b[0;34m)\u001b[0m\u001b[0;34m:\u001b[0m\u001b[0;34m\u001b[0m\u001b[0;34m\u001b[0m\u001b[0m\n\u001b[1;32m    112\u001b[0m             \u001b[0mself\u001b[0m\u001b[0;34m.\u001b[0m\u001b[0muser_line\u001b[0m\u001b[0;34m(\u001b[0m\u001b[0mframe\u001b[0m\u001b[0;34m)\u001b[0m\u001b[0;34m\u001b[0m\u001b[0;34m\u001b[0m\u001b[0m\n\u001b[0;32m--> 113\u001b[0;31m             \u001b[0;32mif\u001b[0m \u001b[0mself\u001b[0m\u001b[0;34m.\u001b[0m\u001b[0mquitting\u001b[0m\u001b[0;34m:\u001b[0m \u001b[0;32mraise\u001b[0m \u001b[0mBdbQuit\u001b[0m\u001b[0;34m\u001b[0m\u001b[0;34m\u001b[0m\u001b[0m\n\u001b[0m\u001b[1;32m    114\u001b[0m         \u001b[0;32mreturn\u001b[0m \u001b[0mself\u001b[0m\u001b[0;34m.\u001b[0m\u001b[0mtrace_dispatch\u001b[0m\u001b[0;34m\u001b[0m\u001b[0;34m\u001b[0m\u001b[0m\n\u001b[1;32m    115\u001b[0m \u001b[0;34m\u001b[0m\u001b[0m\n",
      "\u001b[0;31mBdbQuit\u001b[0m: "
     ]
    }
   ],
   "source": [
    "for something in (line.nextAll()):\n",
    "    import pdb;pdb.set_trace()"
   ]
  },
  {
   "cell_type": "code",
   "execution_count": 139,
   "metadata": {},
   "outputs": [],
   "source": [
    "pattern = re.compile(r\"Name\")"
   ]
  },
  {
   "cell_type": "code",
   "execution_count": 140,
   "metadata": {},
   "outputs": [
    {
     "name": "stdout",
     "output_type": "stream",
     "text": [
      "i 0\n",
      "in der 81. Sitzung am Dienstag den 23. Juni 1925\n",
      "i 1\n",
      "1. über den Antrag des 9. Ausschusses (Soziale Angelegenheiten) — Nr. 937 Ziffer 1 der Drucksache» — aus\n",
      "Ablehnung des Antrags Müller (Franken) und Genossen, betreffend den Entwurf eines Gesetzes zur Verlängerung\n",
      "der Dauer der Erwerbslosennnterstützung im besetzten Gebiet — Nr. 917 der Drucksachen —\n",
      "i 2\n",
      "2. über Artikel 1 Ziffer 4 des Entwurfs eines Gesetzes zur Änderung der Pachtschutzordnung vom 9. Zuni 1926\n",
      "i 3\n",
      "(Reichsgesetzbl. S. 1193) — Nr. 928 der Drucksachen —\n",
      "i 4\n",
      "3. über die Änderungsanträge Müller (Frauken) und Genossen — Nr. 943 der Drucksachen — und Ronneburg,\n",
      "Koch-Weser und Genossen — Nr. 1037 der Drucksachen — zur zweiten Beratung des vom 11. Ausschuß\n",
      "beantragten Entwurfs eines Gesetzes zur Änderung der Pachtschutzorduuug — Nr. 928 der Drucksachen —\n",
      "4. über den Änderungsantrag Ronneburg, Koch-Weser und Genossen — Nr. 1037 Ziffer 3 der Drucksachen —\n",
      "zur zweiten Beratung des vom 11. Ausschuß beantragten Entwurfs eines Gesetzes zur Änderung der Bacht-\n",
      "schutzordnnng — Nr. 928 der Drucksachen —\n",
      "i 5\n",
      "5. über den handschriftlichen Antrag Henning unter 6 zur zweiten Beratung des vom 11. Allsschuß beantragten\n",
      "i 6\n",
      "Entwurfs eines Gesetzes zur Änderung der Bachtschntzordnung — Nr. 928 der Drucksachen —.\n",
      "i 7\n"
     ]
    }
   ],
   "source": [
    "\n",
    "\n",
    "for i,some in enumerate(line.nextAll().items()):\n",
    "    #pdb.set_trace()\n",
    "    print(\"i\", i)\n",
    "    text = some.text()\n",
    "    if pattern.search(text):\n",
    "        break\n",
    "    print(text)"
   ]
  },
  {
   "cell_type": "code",
   "execution_count": 142,
   "metadata": {},
   "outputs": [],
   "source": [
    "file2= '/Users/Dhruv/Downloads/Sample roll call vote PDF_single column.pdf'"
   ]
  },
  {
   "cell_type": "code",
   "execution_count": 143,
   "metadata": {},
   "outputs": [],
   "source": [
    "pdf2 = pdf = pdfquery.PDFQuery(file2)"
   ]
  },
  {
   "cell_type": "code",
   "execution_count": 144,
   "metadata": {},
   "outputs": [],
   "source": [
    "pdf2.load()"
   ]
  },
  {
   "cell_type": "code",
   "execution_count": 11,
   "metadata": {},
   "outputs": [],
   "source": [
    "anchor = pdf.pq('LTTextLineHorizontal:contains(\"Namentliche Abstimmung\")')"
   ]
  },
  {
   "cell_type": "code",
   "execution_count": 152,
   "metadata": {},
   "outputs": [
    {
     "name": "stdout",
     "output_type": "stream",
     "text": [
      "i 0\n",
      "in der 8V. Sitzung am Montag den 22. Juni 1925\n",
      "i 1\n",
      "über\n",
      "i 2\n",
      "den Antrag des Abgeordneten Brüninghaus, die Frage einer Vermehrung des Steuerausschnssks\n",
      "i 3\n",
      "von 28 auf 32 Mitglieder dem Ältestenrat zu überweisen.\n",
      "i 4\n"
     ]
    }
   ],
   "source": [
    "for i,some in enumerate(anchor.nextAll().items()):\n",
    "    #pdb.set_trace()\n",
    "    print(\"i\", i)\n",
    "    text = some.text()\n",
    "    if pattern.search(text):\n",
    "        break\n",
    "    print(text)"
   ]
  },
  {
   "cell_type": "code",
   "execution_count": 22,
   "metadata": {},
   "outputs": [
    {
     "data": {
      "text/plain": [
       "[190.3, 701.946, 415.993, 727.539]"
      ]
     },
     "execution_count": 22,
     "metadata": {},
     "output_type": "execute_result"
    }
   ],
   "source": [
    "import json\n",
    "json.loads(anchor.attr('bbox'))"
   ]
  },
  {
   "cell_type": "code",
   "execution_count": 155,
   "metadata": {},
   "outputs": [
    {
     "data": {
      "text/plain": [
       "<pdfquery.pdfquery.PDFQuery at 0x110741cf8>"
      ]
     },
     "execution_count": 155,
     "metadata": {},
     "output_type": "execute_result"
    }
   ],
   "source": [
    "pdf2"
   ]
  },
  {
   "cell_type": "code",
   "execution_count": 157,
   "metadata": {},
   "outputs": [
    {
     "data": {
      "text/plain": [
       "pyquery.pyquery.PyQuery"
      ]
     },
     "execution_count": 157,
     "metadata": {},
     "output_type": "execute_result"
    }
   ],
   "source": [
    "type(anchor)"
   ]
  },
  {
   "cell_type": "code",
   "execution_count": 159,
   "metadata": {},
   "outputs": [],
   "source": [
    "test = pdf.pq('LTTextLineHorizontal:contains(\"asdgasdsdcasd\")')"
   ]
  },
  {
   "cell_type": "code",
   "execution_count": 160,
   "metadata": {},
   "outputs": [
    {
     "data": {
      "text/plain": [
       "[]"
      ]
     },
     "execution_count": 160,
     "metadata": {},
     "output_type": "execute_result"
    }
   ],
   "source": [
    "test"
   ]
  },
  {
   "cell_type": "code",
   "execution_count": 235,
   "metadata": {},
   "outputs": [],
   "source": [
    "from pdfquery.cache import FileCache\n",
    "from pdfminer.pdfinterp import resolve1"
   ]
  },
  {
   "cell_type": "code",
   "execution_count": 229,
   "metadata": {},
   "outputs": [],
   "source": [
    "pdf3 = pdfquery.PDFQuery(file)\n",
    "#pdf3.load(3)"
   ]
  },
  {
   "cell_type": "code",
   "execution_count": 218,
   "metadata": {},
   "outputs": [],
   "source": [
    "is_there=pdf3.pq('LTTextLineHorizontal:contains(\"Namentliche Abstimmung\")')"
   ]
  },
  {
   "cell_type": "code",
   "execution_count": 228,
   "metadata": {},
   "outputs": [
    {
     "data": {
      "text/plain": [
       "pdfminer.pdftypes.PDFObjRef"
      ]
     },
     "execution_count": 228,
     "metadata": {},
     "output_type": "execute_result"
    }
   ],
   "source": [
    "type(pdf3.doc.catalog['Pages'])"
   ]
  },
  {
   "cell_type": "code",
   "execution_count": 256,
   "metadata": {},
   "outputs": [
    {
     "data": {
      "text/plain": [
       "<pdfquery.pdfquery.QPDFDocument at 0x116c6ef28>"
      ]
     },
     "execution_count": 256,
     "metadata": {},
     "output_type": "execute_result"
    }
   ],
   "source": [
    "pdf3.doc"
   ]
  },
  {
   "cell_type": "code",
   "execution_count": 204,
   "metadata": {},
   "outputs": [],
   "source": [
    "pdf3.pq"
   ]
  },
  {
   "cell_type": "code",
   "execution_count": 231,
   "metadata": {},
   "outputs": [
    {
     "data": {
      "text/plain": [
       "pdfquery.pdfquery.PDFQuery"
      ]
     },
     "execution_count": 231,
     "metadata": {},
     "output_type": "execute_result"
    }
   ],
   "source": [
    "type(pdf3)"
   ]
  },
  {
   "cell_type": "code",
   "execution_count": 236,
   "metadata": {},
   "outputs": [],
   "source": [
    "def get_number_of_pages(pdf: pdfquery.pdfquery.PDFQuery):\n",
    "    return resolve1(pdf.doc.catalog['Pages'])['Count']"
   ]
  },
  {
   "cell_type": "code",
   "execution_count": 239,
   "metadata": {},
   "outputs": [
    {
     "data": {
      "text/plain": [
       "8"
      ]
     },
     "execution_count": 239,
     "metadata": {},
     "output_type": "execute_result"
    }
   ],
   "source": [
    "get_number_of_pages(pdf3)"
   ]
  },
  {
   "cell_type": "code",
   "execution_count": 240,
   "metadata": {},
   "outputs": [
    {
     "data": {
      "text/plain": [
       "pyquery.pyquery.PyQuery"
      ]
     },
     "execution_count": 240,
     "metadata": {},
     "output_type": "execute_result"
    }
   ],
   "source": [
    "type(anchor)"
   ]
  },
  {
   "cell_type": "code",
   "execution_count": 243,
   "metadata": {},
   "outputs": [],
   "source": [
    "a=anchor.next()"
   ]
  },
  {
   "cell_type": "code",
   "execution_count": 244,
   "metadata": {},
   "outputs": [
    {
     "data": {
      "text/plain": [
       "'in der 8V. Sitzung am Montag den 22. Juni 1925'"
      ]
     },
     "execution_count": 244,
     "metadata": {},
     "output_type": "execute_result"
    }
   ],
   "source": [
    "a.text()"
   ]
  },
  {
   "cell_type": "code",
   "execution_count": 248,
   "metadata": {},
   "outputs": [
    {
     "data": {
      "text/plain": [
       "'den Antrag des Abgeordneten Brüninghaus, die Frage einer Vermehrung des Steuerausschnssks'"
      ]
     },
     "execution_count": 248,
     "metadata": {},
     "output_type": "execute_result"
    }
   ],
   "source": [
    "a.next().next().text()"
   ]
  },
  {
   "cell_type": "code",
   "execution_count": 270,
   "metadata": {},
   "outputs": [],
   "source": [
    "from pdfquery_utils import Reader"
   ]
  },
  {
   "cell_type": "code",
   "execution_count": 271,
   "metadata": {},
   "outputs": [],
   "source": [
    "reader = Reader()"
   ]
  },
  {
   "cell_type": "code",
   "execution_count": 272,
   "metadata": {},
   "outputs": [
    {
     "name": "stderr",
     "output_type": "stream",
     "text": [
      "2019-11-22 02:35:06,463 - INFO - pdfquery_utils - Reading file /Users/Dhruv/Downloads/Sample roll call vote PDF_multiple columns[2].pdf\n",
      "2019-11-22 02:35:06,463 - DEBUG - pdfquery_utils - Current page: 0\n"
     ]
    },
    {
     "ename": "TypeError",
     "evalue": "look_for_line() missing 2 required positional arguments: 'pdf' and 'line'",
     "output_type": "error",
     "traceback": [
      "\u001b[0;31m---------------------------------------------------------------------------\u001b[0m",
      "\u001b[0;31mTypeError\u001b[0m                                 Traceback (most recent call last)",
      "\u001b[0;32m<ipython-input-272-2bb48d94d83f>\u001b[0m in \u001b[0;36m<module>\u001b[0;34m\u001b[0m\n\u001b[0;32m----> 1\u001b[0;31m \u001b[0mreader\u001b[0m\u001b[0;34m.\u001b[0m\u001b[0mread\u001b[0m\u001b[0;34m(\u001b[0m\u001b[0mfile\u001b[0m\u001b[0;34m)\u001b[0m\u001b[0;34m\u001b[0m\u001b[0;34m\u001b[0m\u001b[0m\n\u001b[0m",
      "\u001b[0;32m~/UnsyncedDocuments/polsci_project/code/pdfquery_utils.py\u001b[0m in \u001b[0;36mread\u001b[0;34m(self, filename)\u001b[0m\n\u001b[1;32m    206\u001b[0m         \u001b[0;32mfor\u001b[0m \u001b[0mpage_no\u001b[0m \u001b[0;32min\u001b[0m \u001b[0mrange\u001b[0m\u001b[0;34m(\u001b[0m\u001b[0mself\u001b[0m\u001b[0;34m.\u001b[0m\u001b[0mnum_pages\u001b[0m\u001b[0;34m)\u001b[0m\u001b[0;34m:\u001b[0m\u001b[0;34m\u001b[0m\u001b[0;34m\u001b[0m\u001b[0m\n\u001b[1;32m    207\u001b[0m             \u001b[0mself\u001b[0m\u001b[0;34m.\u001b[0m\u001b[0mnext_page\u001b[0m\u001b[0;34m(\u001b[0m\u001b[0;34m)\u001b[0m\u001b[0;34m\u001b[0m\u001b[0;34m\u001b[0m\u001b[0m\n\u001b[0;32m--> 208\u001b[0;31m             \u001b[0mself\u001b[0m\u001b[0;34m.\u001b[0m\u001b[0mprocess_page\u001b[0m\u001b[0;34m(\u001b[0m\u001b[0;34m)\u001b[0m\u001b[0;34m\u001b[0m\u001b[0;34m\u001b[0m\u001b[0m\n\u001b[0m\u001b[1;32m    209\u001b[0m         \u001b[0mself\u001b[0m\u001b[0;34m.\u001b[0m\u001b[0mreset\u001b[0m\u001b[0;34m(\u001b[0m\u001b[0;34m)\u001b[0m\u001b[0;34m\u001b[0m\u001b[0;34m\u001b[0m\u001b[0m\n\u001b[1;32m    210\u001b[0m         \u001b[0mfinal\u001b[0m \u001b[0;34m=\u001b[0m \u001b[0mlen\u001b[0m\u001b[0;34m(\u001b[0m\u001b[0mself\u001b[0m\u001b[0;34m.\u001b[0m\u001b[0mrollcalls\u001b[0m\u001b[0;34m)\u001b[0m\u001b[0;34m\u001b[0m\u001b[0;34m\u001b[0m\u001b[0m\n",
      "\u001b[0;32m~/UnsyncedDocuments/polsci_project/code/pdfquery_utils.py\u001b[0m in \u001b[0;36mprocess_page\u001b[0;34m(self)\u001b[0m\n\u001b[1;32m    178\u001b[0m \u001b[0;34m\u001b[0m\u001b[0m\n\u001b[1;32m    179\u001b[0m     \u001b[0;32mdef\u001b[0m \u001b[0mprocess_page\u001b[0m\u001b[0;34m(\u001b[0m\u001b[0mself\u001b[0m\u001b[0;34m)\u001b[0m \u001b[0;34m->\u001b[0m \u001b[0;32mNone\u001b[0m\u001b[0;34m:\u001b[0m\u001b[0;34m\u001b[0m\u001b[0;34m\u001b[0m\u001b[0m\n\u001b[0;32m--> 180\u001b[0;31m         \u001b[0mpq_obj\u001b[0m \u001b[0;34m=\u001b[0m \u001b[0mself\u001b[0m\u001b[0;34m.\u001b[0m\u001b[0mlook_for_line\u001b[0m\u001b[0;34m(\u001b[0m\u001b[0;34m)\u001b[0m\u001b[0;34m\u001b[0m\u001b[0;34m\u001b[0m\u001b[0m\n\u001b[0m\u001b[1;32m    181\u001b[0m \u001b[0;34m\u001b[0m\u001b[0m\n\u001b[1;32m    182\u001b[0m         \u001b[0;32mif\u001b[0m \u001b[0;32mnot\u001b[0m \u001b[0mpq_obj\u001b[0m\u001b[0;34m:\u001b[0m\u001b[0;34m\u001b[0m\u001b[0;34m\u001b[0m\u001b[0m\n",
      "\u001b[0;31mTypeError\u001b[0m: look_for_line() missing 2 required positional arguments: 'pdf' and 'line'"
     ]
    }
   ],
   "source": [
    "reader.read(file)"
   ]
  },
  {
   "cell_type": "code",
   "execution_count": 261,
   "metadata": {},
   "outputs": [],
   "source": [
    "import pdfminer"
   ]
  },
  {
   "cell_type": "code",
   "execution_count": 266,
   "metadata": {},
   "outputs": [
    {
     "data": {
      "text/plain": [
       "['__builtins__',\n",
       " '__cached__',\n",
       " '__doc__',\n",
       " '__file__',\n",
       " '__loader__',\n",
       " '__name__',\n",
       " '__package__',\n",
       " '__path__',\n",
       " '__spec__',\n",
       " '__version__',\n",
       " 'ascii85',\n",
       " 'ccitt',\n",
       " 'cmapdb',\n",
       " 'converter',\n",
       " 'encodingdb',\n",
       " 'fontmetrics',\n",
       " 'glyphlist',\n",
       " 'latin_enc',\n",
       " 'layout',\n",
       " 'lzw',\n",
       " 'pdfcolor',\n",
       " 'pdfdevice',\n",
       " 'pdfdocument',\n",
       " 'pdffont',\n",
       " 'pdfinterp',\n",
       " 'pdfpage',\n",
       " 'pdfparser',\n",
       " 'pdftypes',\n",
       " 'psparser',\n",
       " 'runlength',\n",
       " 'settings',\n",
       " 'utils']"
      ]
     },
     "execution_count": 266,
     "metadata": {},
     "output_type": "execute_result"
    }
   ],
   "source": [
    "dir(pdfminer)"
   ]
  },
  {
   "cell_type": "code",
   "execution_count": 268,
   "metadata": {},
   "outputs": [],
   "source": [
    "import logging\n",
    "logging.getLogger('pdfminer').setLevel(logging.ERROR)"
   ]
  },
  {
   "cell_type": "code",
   "execution_count": 273,
   "metadata": {},
   "outputs": [],
   "source": [
    "import xlsxwriter"
   ]
  },
  {
   "cell_type": "code",
   "execution_count": 274,
   "metadata": {},
   "outputs": [],
   "source": [
    "workbook = xlsxwriter.Workbook('Expenses01.xlsx')\n",
    "worksheet = workbook.add_worksheet()\n"
   ]
  },
  {
   "cell_type": "code",
   "execution_count": 276,
   "metadata": {},
   "outputs": [
    {
     "data": {
      "text/plain": [
       "['__class__',\n",
       " '__delattr__',\n",
       " '__dict__',\n",
       " '__dir__',\n",
       " '__doc__',\n",
       " '__eq__',\n",
       " '__format__',\n",
       " '__ge__',\n",
       " '__getattribute__',\n",
       " '__gt__',\n",
       " '__hash__',\n",
       " '__init__',\n",
       " '__init_subclass__',\n",
       " '__le__',\n",
       " '__lt__',\n",
       " '__module__',\n",
       " '__ne__',\n",
       " '__new__',\n",
       " '__reduce__',\n",
       " '__reduce_ex__',\n",
       " '__repr__',\n",
       " '__setattr__',\n",
       " '__sizeof__',\n",
       " '__str__',\n",
       " '__subclasshook__',\n",
       " '__weakref__',\n",
       " '_assemble_xml_file',\n",
       " '_button_params',\n",
       " '_calculate_spans',\n",
       " '_calculate_x_split_width',\n",
       " '_check_dimensions',\n",
       " '_comment_params',\n",
       " '_convert_date_time',\n",
       " '_convert_name_area',\n",
       " '_csv_join',\n",
       " '_encode_password',\n",
       " '_escape_attributes',\n",
       " '_escape_data',\n",
       " '_escape_url',\n",
       " '_extract_filter_tokens',\n",
       " '_get_drawing_rel_index',\n",
       " '_get_palette_color',\n",
       " '_get_range_data',\n",
       " '_initialize',\n",
       " '_opt_close',\n",
       " '_opt_reopen',\n",
       " '_parse_filter_expression',\n",
       " '_parse_filter_tokens',\n",
       " '_position_object_emus',\n",
       " '_position_object_pixels',\n",
       " '_prepare_chart',\n",
       " '_prepare_header_image',\n",
       " '_prepare_header_vml_objects',\n",
       " '_prepare_image',\n",
       " '_prepare_shape',\n",
       " '_prepare_tables',\n",
       " '_prepare_vml_objects',\n",
       " '_set_filehandle',\n",
       " '_set_icon_props',\n",
       " '_set_spark_color',\n",
       " '_set_xml_writer',\n",
       " '_size_col',\n",
       " '_size_row',\n",
       " '_sort_pagebreaks',\n",
       " '_table_function_to_formula',\n",
       " '_write',\n",
       " '_write_array_formula',\n",
       " '_write_auto_filter',\n",
       " '_write_autofilters',\n",
       " '_write_blank',\n",
       " '_write_boolean',\n",
       " '_write_brk',\n",
       " '_write_cell',\n",
       " '_write_cell_array_formula',\n",
       " '_write_cell_value',\n",
       " '_write_cf_rule',\n",
       " '_write_cfvo',\n",
       " '_write_col_breaks',\n",
       " '_write_col_info',\n",
       " '_write_color',\n",
       " '_write_color_axis',\n",
       " '_write_color_first',\n",
       " '_write_color_high',\n",
       " '_write_color_last',\n",
       " '_write_color_low',\n",
       " '_write_color_markers',\n",
       " '_write_color_negative',\n",
       " '_write_color_scale',\n",
       " '_write_color_series',\n",
       " '_write_cols',\n",
       " '_write_conditional_formats',\n",
       " '_write_conditional_formatting',\n",
       " '_write_conditional_formatting_2010',\n",
       " '_write_custom_filter',\n",
       " '_write_custom_filters',\n",
       " '_write_data_bar',\n",
       " '_write_data_bar_ext',\n",
       " '_write_data_validation',\n",
       " '_write_data_validations',\n",
       " '_write_datetime',\n",
       " '_write_dimension',\n",
       " '_write_drawing',\n",
       " '_write_drawings',\n",
       " '_write_empty_row',\n",
       " '_write_ext',\n",
       " '_write_ext_list',\n",
       " '_write_ext_list_data_bars',\n",
       " '_write_ext_list_sparklines',\n",
       " '_write_filter',\n",
       " '_write_filter_column',\n",
       " '_write_filters',\n",
       " '_write_font',\n",
       " '_write_formula',\n",
       " '_write_formula_1',\n",
       " '_write_formula_2',\n",
       " '_write_formula_element',\n",
       " '_write_freeze_panes',\n",
       " '_write_header_footer',\n",
       " '_write_hyperlink_external',\n",
       " '_write_hyperlink_internal',\n",
       " '_write_hyperlinks',\n",
       " '_write_icon_set',\n",
       " '_write_legacy_drawing',\n",
       " '_write_legacy_drawing_hf',\n",
       " '_write_merge_cell',\n",
       " '_write_merge_cells',\n",
       " '_write_number',\n",
       " '_write_odd_footer',\n",
       " '_write_odd_header',\n",
       " '_write_optimized_sheet_data',\n",
       " '_write_outline_pr',\n",
       " '_write_page_margins',\n",
       " '_write_page_set_up_pr',\n",
       " '_write_page_setup',\n",
       " '_write_panes',\n",
       " '_write_phonetic_pr',\n",
       " '_write_print_options',\n",
       " '_write_rich_string',\n",
       " '_write_row',\n",
       " '_write_row_breaks',\n",
       " '_write_rows',\n",
       " '_write_rstring_color',\n",
       " '_write_selection',\n",
       " '_write_selections',\n",
       " '_write_sheet_data',\n",
       " '_write_sheet_format_pr',\n",
       " '_write_sheet_pr',\n",
       " '_write_sheet_protection',\n",
       " '_write_sheet_view',\n",
       " '_write_sheet_views',\n",
       " '_write_single_row',\n",
       " '_write_spark_color',\n",
       " '_write_sparkline_group',\n",
       " '_write_sparkline_groups',\n",
       " '_write_sparklines',\n",
       " '_write_split_panes',\n",
       " '_write_string',\n",
       " '_write_tab_color',\n",
       " '_write_table_part',\n",
       " '_write_table_parts',\n",
       " '_write_token_as_string',\n",
       " '_write_underline',\n",
       " '_write_url',\n",
       " '_write_vert_align',\n",
       " '_write_worksheet',\n",
       " '_write_x14_axis_color',\n",
       " '_write_x14_border_color',\n",
       " '_write_x14_cf_rule',\n",
       " '_write_x14_cfvo',\n",
       " '_write_x14_data_bar',\n",
       " '_write_x14_negative_border_color',\n",
       " '_write_x14_negative_fill_color',\n",
       " '_xml_close',\n",
       " '_xml_data_element',\n",
       " '_xml_declaration',\n",
       " '_xml_empty_tag',\n",
       " '_xml_empty_tag_unencoded',\n",
       " '_xml_end_tag',\n",
       " '_xml_formula_element',\n",
       " '_xml_inline_string',\n",
       " '_xml_number_element',\n",
       " '_xml_rich_inline_string',\n",
       " '_xml_rich_si_element',\n",
       " '_xml_si_element',\n",
       " '_xml_start_tag',\n",
       " '_xml_start_tag_unencoded',\n",
       " '_xml_string_element',\n",
       " 'activate',\n",
       " 'active',\n",
       " 'active_pane',\n",
       " 'add_sparkline',\n",
       " 'add_table',\n",
       " 'add_write_handler',\n",
       " 'autofilter',\n",
       " 'autofilter_area',\n",
       " 'autofilter_ref',\n",
       " 'black_white',\n",
       " 'buttons_list',\n",
       " 'center_horizontally',\n",
       " 'center_vertically',\n",
       " 'charts',\n",
       " 'col_formats',\n",
       " 'col_size_changed',\n",
       " 'col_sizes',\n",
       " 'colinfo',\n",
       " 'comments',\n",
       " 'comments_author',\n",
       " 'comments_list',\n",
       " 'comments_visible',\n",
       " 'cond_formats',\n",
       " 'conditional_format',\n",
       " 'constant_memory',\n",
       " 'data_bars_2010',\n",
       " 'data_validation',\n",
       " 'date_1904',\n",
       " 'default_col_pixels',\n",
       " 'default_col_width',\n",
       " 'default_date_format',\n",
       " 'default_row_height',\n",
       " 'default_row_pixels',\n",
       " 'default_row_zeroed',\n",
       " 'default_url_format',\n",
       " 'dim_colmax',\n",
       " 'dim_colmin',\n",
       " 'dim_rowmax',\n",
       " 'dim_rowmin',\n",
       " 'draft_quality',\n",
       " 'drawing',\n",
       " 'drawing_links',\n",
       " 'drawing_rels',\n",
       " 'drawing_rels_id',\n",
       " 'dxf_priority',\n",
       " 'escapes',\n",
       " 'excel2003_style',\n",
       " 'excel_version',\n",
       " 'ext_sheets',\n",
       " 'external_comment_links',\n",
       " 'external_drawing_links',\n",
       " 'external_hyper_links',\n",
       " 'external_table_links',\n",
       " 'external_vml_links',\n",
       " 'fh',\n",
       " 'fileclosed',\n",
       " 'filter_cols',\n",
       " 'filter_column',\n",
       " 'filter_column_list',\n",
       " 'filter_on',\n",
       " 'filter_range',\n",
       " 'filter_type',\n",
       " 'fit_height',\n",
       " 'fit_page',\n",
       " 'fit_to_pages',\n",
       " 'fit_width',\n",
       " 'footer',\n",
       " 'footer_images',\n",
       " 'freeze_panes',\n",
       " 'get_name',\n",
       " 'has_comments',\n",
       " 'has_header_vml',\n",
       " 'has_vml',\n",
       " 'hbreaks',\n",
       " 'hcenter',\n",
       " 'header',\n",
       " 'header_footer_aligns',\n",
       " 'header_footer_changed',\n",
       " 'header_footer_scales',\n",
       " 'header_images',\n",
       " 'header_images_list',\n",
       " 'hidden',\n",
       " 'hide',\n",
       " 'hide_gridlines',\n",
       " 'hide_row_col_headers',\n",
       " 'hide_zero',\n",
       " 'hlink_count',\n",
       " 'hlink_refs',\n",
       " 'horizontal_dpi',\n",
       " 'hyperlinks',\n",
       " 'images',\n",
       " 'index',\n",
       " 'insert_button',\n",
       " 'insert_chart',\n",
       " 'insert_image',\n",
       " 'insert_textbox',\n",
       " 'internal_fh',\n",
       " 'is_chartsheet',\n",
       " 'is_right_to_left',\n",
       " 'last_shape_id',\n",
       " 'leading_zeros',\n",
       " 'margin_bottom',\n",
       " 'margin_footer',\n",
       " 'margin_header',\n",
       " 'margin_left',\n",
       " 'margin_right',\n",
       " 'margin_top',\n",
       " 'max_url_length',\n",
       " 'merge',\n",
       " 'merge_range',\n",
       " 'name',\n",
       " 'names',\n",
       " 'nan_inf_to_errors',\n",
       " 'orientation',\n",
       " 'original_row_height',\n",
       " 'outline_below',\n",
       " 'outline_changed',\n",
       " 'outline_col_level',\n",
       " 'outline_on',\n",
       " 'outline_right',\n",
       " 'outline_row_level',\n",
       " 'outline_settings',\n",
       " 'outline_style',\n",
       " 'page_order',\n",
       " 'page_setup_changed',\n",
       " 'page_start',\n",
       " 'page_view',\n",
       " 'palette',\n",
       " 'panes',\n",
       " 'paper_size',\n",
       " 'previous_row',\n",
       " 'print_across',\n",
       " 'print_area',\n",
       " 'print_area_range',\n",
       " 'print_comments',\n",
       " 'print_gridlines',\n",
       " 'print_headers',\n",
       " 'print_options_changed',\n",
       " 'print_row_col_headers',\n",
       " 'print_scale',\n",
       " 'protect',\n",
       " 'protect_options',\n",
       " 'rel_count',\n",
       " 'remove_timezone',\n",
       " 'repeat_col_range',\n",
       " 'repeat_columns',\n",
       " 'repeat_row_range',\n",
       " 'repeat_rows',\n",
       " 'right_to_left',\n",
       " 'row_col_headers',\n",
       " 'row_data_fh',\n",
       " 'row_data_fh_closed',\n",
       " 'row_data_filename',\n",
       " 'row_size_changed',\n",
       " 'row_sizes',\n",
       " 'row_spans',\n",
       " 'rstring',\n",
       " 'screen_gridlines',\n",
       " 'select',\n",
       " 'selected',\n",
       " 'selections',\n",
       " 'set_cols',\n",
       " 'set_column',\n",
       " 'set_comments_author',\n",
       " 'set_default_row',\n",
       " 'set_first_sheet',\n",
       " 'set_footer',\n",
       " 'set_h_pagebreaks',\n",
       " 'set_header',\n",
       " 'set_landscape',\n",
       " 'set_margins',\n",
       " 'set_page_view',\n",
       " 'set_paper',\n",
       " 'set_portrait',\n",
       " 'set_print_scale',\n",
       " 'set_row',\n",
       " 'set_rows',\n",
       " 'set_selection',\n",
       " 'set_start_page',\n",
       " 'set_tab_color',\n",
       " 'set_v_pagebreaks',\n",
       " 'set_vba_name',\n",
       " 'set_zoom',\n",
       " 'shape_hash',\n",
       " 'shapes',\n",
       " 'show_comments',\n",
       " 'show_zeros',\n",
       " 'sparklines',\n",
       " 'split_panes',\n",
       " 'str_table',\n",
       " 'strings_to_formulas',\n",
       " 'strings_to_numbers',\n",
       " 'strings_to_urls',\n",
       " 'tab_color',\n",
       " 'table',\n",
       " 'tables',\n",
       " 'tmpdir',\n",
       " 'use_data_bars_2010',\n",
       " 'validations',\n",
       " 'vba_codename',\n",
       " 'vbreaks',\n",
       " 'vcenter',\n",
       " 'vertical_dpi',\n",
       " 'vml_data_id',\n",
       " 'vml_drawing_links',\n",
       " 'vml_header_id',\n",
       " 'vml_shape_id',\n",
       " 'worksheet_meta',\n",
       " 'write',\n",
       " 'write_array_formula',\n",
       " 'write_blank',\n",
       " 'write_boolean',\n",
       " 'write_column',\n",
       " 'write_comment',\n",
       " 'write_datetime',\n",
       " 'write_formula',\n",
       " 'write_handlers',\n",
       " 'write_match',\n",
       " 'write_number',\n",
       " 'write_rich_string',\n",
       " 'write_row',\n",
       " 'write_string',\n",
       " 'write_url',\n",
       " 'xls_colmax',\n",
       " 'xls_rowmax',\n",
       " 'xls_strmax',\n",
       " 'zoom',\n",
       " 'zoom_scale_normal']"
      ]
     },
     "execution_count": 276,
     "metadata": {},
     "output_type": "execute_result"
    }
   ],
   "source": [
    "dir(worksheet)"
   ]
  },
  {
   "cell_type": "code",
   "execution_count": 1,
   "metadata": {},
   "outputs": [],
   "source": [
    "from pymongo import MongoClient"
   ]
  },
  {
   "cell_type": "code",
   "execution_count": 2,
   "metadata": {},
   "outputs": [],
   "source": [
    "client = MongoClient()"
   ]
  },
  {
   "cell_type": "code",
   "execution_count": 3,
   "metadata": {},
   "outputs": [],
   "source": [
    "db = client.german_rollcalls"
   ]
  },
  {
   "cell_type": "code",
   "execution_count": 4,
   "metadata": {},
   "outputs": [],
   "source": [
    "collection = db.test_collection"
   ]
  },
  {
   "cell_type": "code",
   "execution_count": 7,
   "metadata": {},
   "outputs": [
    {
     "data": {
      "text/plain": [
       "<pymongo.results.InsertOneResult at 0x108e9d688>"
      ]
     },
     "execution_count": 7,
     "metadata": {},
     "output_type": "execute_result"
    }
   ],
   "source": [
    "collection.insert_one({'test':2})"
   ]
  },
  {
   "cell_type": "code",
   "execution_count": 14,
   "metadata": {},
   "outputs": [],
   "source": [
    "from pdfquery_utils import Reader, XLWriter, RollCall\n",
    "import dataclasses"
   ]
  },
  {
   "cell_type": "code",
   "execution_count": 9,
   "metadata": {},
   "outputs": [],
   "source": [
    "rc=RollCall()"
   ]
  },
  {
   "cell_type": "code",
   "execution_count": 15,
   "metadata": {},
   "outputs": [
    {
     "data": {
      "text/plain": [
       "{'number': None, 'date': None, 'page': None, 'topic': None, 'filename': None}"
      ]
     },
     "execution_count": 15,
     "metadata": {},
     "output_type": "execute_result"
    }
   ],
   "source": [
    "dataclasses.asdict(rc)"
   ]
  },
  {
   "cell_type": "code",
   "execution_count": 8,
   "metadata": {},
   "outputs": [],
   "source": [
    "m=re.match(r\"(.+)\\s+(Wahlkr\\.\\s+\\d+)(.+)\", \"Vorsitzender des Deutschen Arbeiterbundes Ln Essen. Wahlkr. 22 (Düsseldorf-Ost).DS_Store\")"
   ]
  },
  {
   "cell_type": "code",
   "execution_count": 12,
   "metadata": {},
   "outputs": [
    {
     "ename": "IndexError",
     "evalue": "no such group",
     "output_type": "error",
     "traceback": [
      "\u001b[0;31m---------------------------------------------------------------------------\u001b[0m",
      "\u001b[0;31mIndexError\u001b[0m                                Traceback (most recent call last)",
      "\u001b[0;32m<ipython-input-12-6271f5299949>\u001b[0m in \u001b[0;36m<module>\u001b[0;34m\u001b[0m\n\u001b[0;32m----> 1\u001b[0;31m \u001b[0mm\u001b[0m\u001b[0;34m.\u001b[0m\u001b[0mgroup\u001b[0m\u001b[0;34m(\u001b[0m\u001b[0;36m14\u001b[0m\u001b[0;34m)\u001b[0m\u001b[0;34m\u001b[0m\u001b[0;34m\u001b[0m\u001b[0m\n\u001b[0m",
      "\u001b[0;31mIndexError\u001b[0m: no such group"
     ]
    }
   ],
   "source": [
    "m.group(14)"
   ]
  },
  {
   "cell_type": "code",
   "execution_count": null,
   "metadata": {},
   "outputs": [],
   "source": []
  }
 ],
 "metadata": {
  "kernelspec": {
   "display_name": "Python 3",
   "language": "python",
   "name": "python3"
  },
  "language_info": {
   "codemirror_mode": {
    "name": "ipython",
    "version": 3
   },
   "file_extension": ".py",
   "mimetype": "text/x-python",
   "name": "python",
   "nbconvert_exporter": "python",
   "pygments_lexer": "ipython3",
   "version": "3.7.2"
  }
 },
 "nbformat": 4,
 "nbformat_minor": 2
}
